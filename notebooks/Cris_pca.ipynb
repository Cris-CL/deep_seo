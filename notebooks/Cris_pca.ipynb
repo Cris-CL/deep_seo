{
 "cells": [
  {
   "cell_type": "code",
   "execution_count": 31,
   "id": "0d97383a",
   "metadata": {},
   "outputs": [],
   "source": [
    "import os\n",
    "import json\n",
    "import gzip\n",
    "import pandas as pd\n",
    "from urllib.request import urlopen\n",
    "import matplotlib.pyplot as plt"
   ]
  },
  {
   "cell_type": "code",
   "execution_count": 2,
   "id": "3eb9fb71",
   "metadata": {},
   "outputs": [
    {
     "name": "stdout",
     "output_type": "stream",
     "text": [
      "--2022-05-23 17:30:07--  http://deepyeti.ucsd.edu/jianmo/amazon/sample/meta_Computers.json.gz\n",
      "Resolving deepyeti.ucsd.edu (deepyeti.ucsd.edu)... 169.228.63.50\n",
      "Connecting to deepyeti.ucsd.edu (deepyeti.ucsd.edu)|169.228.63.50|:80... connected.\n",
      "HTTP request sent, awaiting response... 200 OK\n",
      "Length: 7010521 (6.7M) [application/octet-stream]\n",
      "Saving to: ‘meta_Computers.json.gz.1’\n",
      "\n",
      "meta_Computers.json 100%[===================>]   6.69M  1.67MB/s    in 5.9s    \n",
      "\n",
      "2022-05-23 17:30:13 (1.14 MB/s) - ‘meta_Computers.json.gz.1’ saved [7010521/7010521]\n",
      "\n"
     ]
    }
   ],
   "source": [
    "!wget http://deepyeti.ucsd.edu/jianmo/amazon/sample/meta_Computers.json.gz"
   ]
  },
  {
   "cell_type": "code",
   "execution_count": 2,
   "id": "f38a8137",
   "metadata": {},
   "outputs": [
    {
     "name": "stdout",
     "output_type": "stream",
     "text": [
      "18772\n",
      "{'description': ['Brand new. Still in factory-sealed plastic.'], 'title': 'Kelby Training DVD: The Adobe Photoshop CS5 7-Point System for Camera Raw By Scott Kelby', 'image': ['https://images-na.ssl-images-amazon.com/images/I/31IlLImCVJL._SS40_.jpg'], 'brand': 'Kelby Training', 'rank': ['>#654,681 in Electronics (See Top 100 in Electronics)'], 'main_cat': 'Computers', 'date': 'December 2, 2011', 'asin': '0321732960'}\n"
     ]
    }
   ],
   "source": [
    "### load the meta data\n",
    "\n",
    "data = []\n",
    "with gzip.open('meta_Computers.json.gz') as f:\n",
    "    for l in f:\n",
    "        data.append(json.loads(l.strip()))\n",
    "    \n",
    "# total length of list, this number equals total number of products\n",
    "print(len(data))\n",
    "\n",
    "# first row of the list\n",
    "print(data[0])"
   ]
  },
  {
   "cell_type": "code",
   "execution_count": 3,
   "id": "703363d6",
   "metadata": {},
   "outputs": [
    {
     "name": "stdout",
     "output_type": "stream",
     "text": [
      "18772\n"
     ]
    }
   ],
   "source": [
    "# convert list into pandas dataframe\n",
    "\n",
    "df = pd.DataFrame.from_dict(data)\n",
    "\n",
    "print(len(df))"
   ]
  },
  {
   "cell_type": "code",
   "execution_count": 20,
   "id": "4c6154a2",
   "metadata": {},
   "outputs": [
    {
     "name": "stdout",
     "output_type": "stream",
     "text": [
      "135\n",
      "18637\n"
     ]
    }
   ],
   "source": [
    "### remove rows with unformatted title (i.e. some 'title' may still contain html style content)\n",
    "\n",
    "df3 = df.fillna('')\n",
    "df4 = df3[df3.title.str.contains('getTime')] # unformatted rows\n",
    "df5 = df3[~df3.title.str.contains('getTime')] # filter those unformatted rows\n",
    "print(len(df4))\n",
    "print(len(df5))"
   ]
  },
  {
   "cell_type": "code",
   "execution_count": 5,
   "id": "28f58f81",
   "metadata": {},
   "outputs": [
    {
     "data": {
      "text/plain": [
       "description                                                      \n",
       "title           var aPageStart = (new Date()).getTime();\\nvar ...\n",
       "image                                                            \n",
       "brand                                              DS Miller Inc.\n",
       "rank            [>#1,826,312 in Electronics (See Top 100 in El...\n",
       "main_cat                                                Computers\n",
       "date                                                March 1, 2010\n",
       "asin                                                   B0016C5EXY\n",
       "feature                                                          \n",
       "tech1                                                            \n",
       "also_buy                                                         \n",
       "price                                                            \n",
       "also_view                                                        \n",
       "tech2                                                            \n",
       "details                                                          \n",
       "similar_item                                                     \n",
       "Name: 1186, dtype: object"
      ]
     },
     "execution_count": 5,
     "metadata": {},
     "output_type": "execute_result"
    }
   ],
   "source": [
    "# how those unformatted rows look like\n",
    "df4.iloc[0]"
   ]
  },
  {
   "cell_type": "code",
   "execution_count": 21,
   "id": "45b75fce",
   "metadata": {},
   "outputs": [
    {
     "name": "stdout",
     "output_type": "stream",
     "text": [
      "<class 'pandas.core.frame.DataFrame'>\n",
      "Int64Index: 18637 entries, 0 to 18771\n",
      "Data columns (total 16 columns):\n",
      " #   Column        Non-Null Count  Dtype \n",
      "---  ------        --------------  ----- \n",
      " 0   description   18637 non-null  object\n",
      " 1   title         18637 non-null  object\n",
      " 2   image         18637 non-null  object\n",
      " 3   brand         18637 non-null  object\n",
      " 4   rank          18637 non-null  object\n",
      " 5   main_cat      18637 non-null  object\n",
      " 6   date          18637 non-null  object\n",
      " 7   asin          18637 non-null  object\n",
      " 8   feature       18637 non-null  object\n",
      " 9   tech1         18637 non-null  object\n",
      " 10  also_buy      18637 non-null  object\n",
      " 11  price         18637 non-null  object\n",
      " 12  also_view     18637 non-null  object\n",
      " 13  tech2         18637 non-null  object\n",
      " 14  details       18637 non-null  object\n",
      " 15  similar_item  18637 non-null  object\n",
      "dtypes: object(16)\n",
      "memory usage: 2.4+ MB\n"
     ]
    }
   ],
   "source": [
    "df5.info()"
   ]
  },
  {
   "cell_type": "code",
   "execution_count": 22,
   "id": "81bb8621",
   "metadata": {},
   "outputs": [
    {
     "data": {
      "text/html": [
       "<div>\n",
       "<style scoped>\n",
       "    .dataframe tbody tr th:only-of-type {\n",
       "        vertical-align: middle;\n",
       "    }\n",
       "\n",
       "    .dataframe tbody tr th {\n",
       "        vertical-align: top;\n",
       "    }\n",
       "\n",
       "    .dataframe thead th {\n",
       "        text-align: right;\n",
       "    }\n",
       "</style>\n",
       "<table border=\"1\" class=\"dataframe\">\n",
       "  <thead>\n",
       "    <tr style=\"text-align: right;\">\n",
       "      <th></th>\n",
       "      <th>description</th>\n",
       "      <th>title</th>\n",
       "      <th>image</th>\n",
       "      <th>brand</th>\n",
       "      <th>rank</th>\n",
       "      <th>main_cat</th>\n",
       "      <th>date</th>\n",
       "      <th>asin</th>\n",
       "      <th>feature</th>\n",
       "      <th>tech1</th>\n",
       "      <th>also_buy</th>\n",
       "      <th>price</th>\n",
       "      <th>also_view</th>\n",
       "      <th>tech2</th>\n",
       "      <th>details</th>\n",
       "      <th>similar_item</th>\n",
       "    </tr>\n",
       "  </thead>\n",
       "  <tbody>\n",
       "    <tr>\n",
       "      <th>0</th>\n",
       "      <td>[Brand new. Still in factory-sealed plastic.]</td>\n",
       "      <td>Kelby Training DVD: The Adobe Photoshop CS5 7-...</td>\n",
       "      <td>[https://images-na.ssl-images-amazon.com/image...</td>\n",
       "      <td>Kelby Training</td>\n",
       "      <td>[&gt;#654,681 in Electronics (See Top 100 in Elec...</td>\n",
       "      <td>Computers</td>\n",
       "      <td>December 2, 2011</td>\n",
       "      <td>0321732960</td>\n",
       "      <td></td>\n",
       "      <td></td>\n",
       "      <td></td>\n",
       "      <td></td>\n",
       "      <td></td>\n",
       "      <td></td>\n",
       "      <td></td>\n",
       "      <td></td>\n",
       "    </tr>\n",
       "    <tr>\n",
       "      <th>1</th>\n",
       "      <td>[If you're already a Photoshop user and want a...</td>\n",
       "      <td>Kelby Training DVD: Adobe Photoshop CS5 Power ...</td>\n",
       "      <td>[https://images-na.ssl-images-amazon.com/image...</td>\n",
       "      <td>Kelby Training</td>\n",
       "      <td>[&gt;#830,165 in Electronics (See Top 100 in Elec...</td>\n",
       "      <td>Computers</td>\n",
       "      <td>November 7, 2011</td>\n",
       "      <td>0321735722</td>\n",
       "      <td></td>\n",
       "      <td></td>\n",
       "      <td></td>\n",
       "      <td></td>\n",
       "      <td></td>\n",
       "      <td></td>\n",
       "      <td></td>\n",
       "      <td></td>\n",
       "    </tr>\n",
       "    <tr>\n",
       "      <th>2</th>\n",
       "      <td>[School To Home Notes: Note From the Teacher!\\...</td>\n",
       "      <td>TEACHERS FRIEND NOTE FROM THE TEACHER SCHOOL T...</td>\n",
       "      <td>[https://images-na.ssl-images-amazon.com/image...</td>\n",
       "      <td>TEACHERS FRIEND</td>\n",
       "      <td>[&gt;#1,233,887 in Electronics (See Top 100 in El...</td>\n",
       "      <td>Computers</td>\n",
       "      <td>June 6, 2007</td>\n",
       "      <td>0439651859</td>\n",
       "      <td></td>\n",
       "      <td></td>\n",
       "      <td></td>\n",
       "      <td></td>\n",
       "      <td></td>\n",
       "      <td></td>\n",
       "      <td></td>\n",
       "      <td></td>\n",
       "    </tr>\n",
       "    <tr>\n",
       "      <th>3</th>\n",
       "      <td>[Dooqi is a young brand specializing in high-e...</td>\n",
       "      <td>[3-pack]Ipad Mini Screen Protector, Dooqi Scre...</td>\n",
       "      <td>[https://images-na.ssl-images-amazon.com/image...</td>\n",
       "      <td>dooqi</td>\n",
       "      <td>[&gt;#454,595 in Electronics (See Top 100 in Elec...</td>\n",
       "      <td>Computers</td>\n",
       "      <td>December 5, 2014</td>\n",
       "      <td>0545729971</td>\n",
       "      <td>[Hard coated for Scratch Proof (Hardness: 4H),...</td>\n",
       "      <td></td>\n",
       "      <td></td>\n",
       "      <td></td>\n",
       "      <td></td>\n",
       "      <td></td>\n",
       "      <td></td>\n",
       "      <td></td>\n",
       "    </tr>\n",
       "    <tr>\n",
       "      <th>4</th>\n",
       "      <td>[Cover for Nook HD]</td>\n",
       "      <td>Hd+ Cheetah Cover- Nook</td>\n",
       "      <td></td>\n",
       "      <td>Nook</td>\n",
       "      <td>[&gt;#85,661 in Computers &amp; Accessories (See top ...</td>\n",
       "      <td>Computers</td>\n",
       "      <td>September 11, 2013</td>\n",
       "      <td>0594450284</td>\n",
       "      <td>[Cheetah cover]</td>\n",
       "      <td>{'Brand Name': 'Nook', 'Item Weight': '1 pound...</td>\n",
       "      <td></td>\n",
       "      <td></td>\n",
       "      <td></td>\n",
       "      <td></td>\n",
       "      <td></td>\n",
       "      <td></td>\n",
       "    </tr>\n",
       "  </tbody>\n",
       "</table>\n",
       "</div>"
      ],
      "text/plain": [
       "                                         description  \\\n",
       "0      [Brand new. Still in factory-sealed plastic.]   \n",
       "1  [If you're already a Photoshop user and want a...   \n",
       "2  [School To Home Notes: Note From the Teacher!\\...   \n",
       "3  [Dooqi is a young brand specializing in high-e...   \n",
       "4                                [Cover for Nook HD]   \n",
       "\n",
       "                                               title  \\\n",
       "0  Kelby Training DVD: The Adobe Photoshop CS5 7-...   \n",
       "1  Kelby Training DVD: Adobe Photoshop CS5 Power ...   \n",
       "2  TEACHERS FRIEND NOTE FROM THE TEACHER SCHOOL T...   \n",
       "3  [3-pack]Ipad Mini Screen Protector, Dooqi Scre...   \n",
       "4                            Hd+ Cheetah Cover- Nook   \n",
       "\n",
       "                                               image            brand  \\\n",
       "0  [https://images-na.ssl-images-amazon.com/image...   Kelby Training   \n",
       "1  [https://images-na.ssl-images-amazon.com/image...   Kelby Training   \n",
       "2  [https://images-na.ssl-images-amazon.com/image...  TEACHERS FRIEND   \n",
       "3  [https://images-na.ssl-images-amazon.com/image...            dooqi   \n",
       "4                                                                Nook   \n",
       "\n",
       "                                                rank   main_cat  \\\n",
       "0  [>#654,681 in Electronics (See Top 100 in Elec...  Computers   \n",
       "1  [>#830,165 in Electronics (See Top 100 in Elec...  Computers   \n",
       "2  [>#1,233,887 in Electronics (See Top 100 in El...  Computers   \n",
       "3  [>#454,595 in Electronics (See Top 100 in Elec...  Computers   \n",
       "4  [>#85,661 in Computers & Accessories (See top ...  Computers   \n",
       "\n",
       "                 date        asin  \\\n",
       "0    December 2, 2011  0321732960   \n",
       "1    November 7, 2011  0321735722   \n",
       "2        June 6, 2007  0439651859   \n",
       "3    December 5, 2014  0545729971   \n",
       "4  September 11, 2013  0594450284   \n",
       "\n",
       "                                             feature  \\\n",
       "0                                                      \n",
       "1                                                      \n",
       "2                                                      \n",
       "3  [Hard coated for Scratch Proof (Hardness: 4H),...   \n",
       "4                                    [Cheetah cover]   \n",
       "\n",
       "                                               tech1 also_buy price also_view  \\\n",
       "0                                                                               \n",
       "1                                                                               \n",
       "2                                                                               \n",
       "3                                                                               \n",
       "4  {'Brand Name': 'Nook', 'Item Weight': '1 pound...                            \n",
       "\n",
       "  tech2 details similar_item  \n",
       "0                             \n",
       "1                             \n",
       "2                             \n",
       "3                             \n",
       "4                             "
      ]
     },
     "execution_count": 22,
     "metadata": {},
     "output_type": "execute_result"
    }
   ],
   "source": [
    "df5.head()"
   ]
  },
  {
   "cell_type": "code",
   "execution_count": 23,
   "id": "07fb65ab",
   "metadata": {},
   "outputs": [
    {
     "name": "stderr",
     "output_type": "stream",
     "text": [
      "/tmp/ipykernel_3076/731368693.py:1: SettingWithCopyWarning: \n",
      "A value is trying to be set on a copy of a slice from a DataFrame\n",
      "\n",
      "See the caveats in the documentation: https://pandas.pydata.org/pandas-docs/stable/user_guide/indexing.html#returning-a-view-versus-a-copy\n",
      "  df5.drop(columns=['tech1', 'also_buy', 'price', 'also_view', 'tech2','details', 'similar_item',\"main_cat\"],inplace=True)\n"
     ]
    }
   ],
   "source": [
    "df5.drop(columns=['tech1', 'also_buy', 'price', 'also_view', 'tech2','details', 'similar_item',\"main_cat\"],inplace=True)"
   ]
  },
  {
   "cell_type": "code",
   "execution_count": 24,
   "id": "fb2d871a",
   "metadata": {},
   "outputs": [
    {
     "name": "stderr",
     "output_type": "stream",
     "text": [
      "/tmp/ipykernel_3076/3221915053.py:1: SettingWithCopyWarning: \n",
      "A value is trying to be set on a copy of a slice from a DataFrame.\n",
      "Try using .loc[row_indexer,col_indexer] = value instead\n",
      "\n",
      "See the caveats in the documentation: https://pandas.pydata.org/pandas-docs/stable/user_guide/indexing.html#returning-a-view-versus-a-copy\n",
      "  df5['description_1']=df5.description.map(lambda x: str(x))\n"
     ]
    }
   ],
   "source": [
    "df5['description_1']=df5.description.map(lambda x: str(x))"
   ]
  },
  {
   "cell_type": "code",
   "execution_count": 25,
   "id": "3f512a06",
   "metadata": {},
   "outputs": [
    {
     "name": "stderr",
     "output_type": "stream",
     "text": [
      "/tmp/ipykernel_3076/1068007682.py:1: SettingWithCopyWarning: \n",
      "A value is trying to be set on a copy of a slice from a DataFrame.\n",
      "Try using .loc[row_indexer,col_indexer] = value instead\n",
      "\n",
      "See the caveats in the documentation: https://pandas.pydata.org/pandas-docs/stable/user_guide/indexing.html#returning-a-view-versus-a-copy\n",
      "  df5['date_formatted'] =  pd.to_datetime(df5['date'], infer_datetime_format=True)\n"
     ]
    },
    {
     "data": {
      "text/html": [
       "<div>\n",
       "<style scoped>\n",
       "    .dataframe tbody tr th:only-of-type {\n",
       "        vertical-align: middle;\n",
       "    }\n",
       "\n",
       "    .dataframe tbody tr th {\n",
       "        vertical-align: top;\n",
       "    }\n",
       "\n",
       "    .dataframe thead th {\n",
       "        text-align: right;\n",
       "    }\n",
       "</style>\n",
       "<table border=\"1\" class=\"dataframe\">\n",
       "  <thead>\n",
       "    <tr style=\"text-align: right;\">\n",
       "      <th></th>\n",
       "      <th>description</th>\n",
       "      <th>title</th>\n",
       "      <th>image</th>\n",
       "      <th>brand</th>\n",
       "      <th>rank</th>\n",
       "      <th>date</th>\n",
       "      <th>asin</th>\n",
       "      <th>feature</th>\n",
       "      <th>description_1</th>\n",
       "      <th>date_formatted</th>\n",
       "    </tr>\n",
       "  </thead>\n",
       "  <tbody>\n",
       "    <tr>\n",
       "      <th>0</th>\n",
       "      <td>[Brand new. Still in factory-sealed plastic.]</td>\n",
       "      <td>Kelby Training DVD: The Adobe Photoshop CS5 7-...</td>\n",
       "      <td>[https://images-na.ssl-images-amazon.com/image...</td>\n",
       "      <td>Kelby Training</td>\n",
       "      <td>[&gt;#654,681 in Electronics (See Top 100 in Elec...</td>\n",
       "      <td>December 2, 2011</td>\n",
       "      <td>0321732960</td>\n",
       "      <td></td>\n",
       "      <td>['Brand new. Still in factory-sealed plastic.']</td>\n",
       "      <td>2011-12-02</td>\n",
       "    </tr>\n",
       "    <tr>\n",
       "      <th>1</th>\n",
       "      <td>[If you're already a Photoshop user and want a...</td>\n",
       "      <td>Kelby Training DVD: Adobe Photoshop CS5 Power ...</td>\n",
       "      <td>[https://images-na.ssl-images-amazon.com/image...</td>\n",
       "      <td>Kelby Training</td>\n",
       "      <td>[&gt;#830,165 in Electronics (See Top 100 in Elec...</td>\n",
       "      <td>November 7, 2011</td>\n",
       "      <td>0321735722</td>\n",
       "      <td></td>\n",
       "      <td>[\"If you're already a Photoshop user and want ...</td>\n",
       "      <td>2011-11-07</td>\n",
       "    </tr>\n",
       "    <tr>\n",
       "      <th>2</th>\n",
       "      <td>[School To Home Notes: Note From the Teacher!\\...</td>\n",
       "      <td>TEACHERS FRIEND NOTE FROM THE TEACHER SCHOOL T...</td>\n",
       "      <td>[https://images-na.ssl-images-amazon.com/image...</td>\n",
       "      <td>TEACHERS FRIEND</td>\n",
       "      <td>[&gt;#1,233,887 in Electronics (See Top 100 in El...</td>\n",
       "      <td>June 6, 2007</td>\n",
       "      <td>0439651859</td>\n",
       "      <td></td>\n",
       "      <td>['School To Home Notes: Note From the Teacher!...</td>\n",
       "      <td>2007-06-06</td>\n",
       "    </tr>\n",
       "    <tr>\n",
       "      <th>3</th>\n",
       "      <td>[Dooqi is a young brand specializing in high-e...</td>\n",
       "      <td>[3-pack]Ipad Mini Screen Protector, Dooqi Scre...</td>\n",
       "      <td>[https://images-na.ssl-images-amazon.com/image...</td>\n",
       "      <td>dooqi</td>\n",
       "      <td>[&gt;#454,595 in Electronics (See Top 100 in Elec...</td>\n",
       "      <td>December 5, 2014</td>\n",
       "      <td>0545729971</td>\n",
       "      <td>[Hard coated for Scratch Proof (Hardness: 4H),...</td>\n",
       "      <td>[\"Dooqi is a young brand specializing in high-...</td>\n",
       "      <td>2014-12-05</td>\n",
       "    </tr>\n",
       "    <tr>\n",
       "      <th>4</th>\n",
       "      <td>[Cover for Nook HD]</td>\n",
       "      <td>Hd+ Cheetah Cover- Nook</td>\n",
       "      <td></td>\n",
       "      <td>Nook</td>\n",
       "      <td>[&gt;#85,661 in Computers &amp; Accessories (See top ...</td>\n",
       "      <td>September 11, 2013</td>\n",
       "      <td>0594450284</td>\n",
       "      <td>[Cheetah cover]</td>\n",
       "      <td>['Cover for Nook HD']</td>\n",
       "      <td>2013-09-11</td>\n",
       "    </tr>\n",
       "    <tr>\n",
       "      <th>...</th>\n",
       "      <td>...</td>\n",
       "      <td>...</td>\n",
       "      <td>...</td>\n",
       "      <td>...</td>\n",
       "      <td>...</td>\n",
       "      <td>...</td>\n",
       "      <td>...</td>\n",
       "      <td>...</td>\n",
       "      <td>...</td>\n",
       "      <td>...</td>\n",
       "    </tr>\n",
       "    <tr>\n",
       "      <th>18767</th>\n",
       "      <td></td>\n",
       "      <td>iPad Mini 4 Case, Aceguarder New Design [Dirtp...</td>\n",
       "      <td>[https://images-na.ssl-images-amazon.com/image...</td>\n",
       "      <td></td>\n",
       "      <td>[&gt;#372,769 in Electronics (See Top 100 in Elec...</td>\n",
       "      <td>July 11, 2016</td>\n",
       "      <td>B01HI72XZW</td>\n",
       "      <td></td>\n",
       "      <td></td>\n",
       "      <td>2016-07-11</td>\n",
       "    </tr>\n",
       "    <tr>\n",
       "      <th>18768</th>\n",
       "      <td></td>\n",
       "      <td>MIJIU Nylon Canvas Military Tactical Men Waist...</td>\n",
       "      <td>[https://images-na.ssl-images-amazon.com/image...</td>\n",
       "      <td></td>\n",
       "      <td>[&gt;#308,759 in Electronics (See Top 100 in Elec...</td>\n",
       "      <td>June 29, 2016</td>\n",
       "      <td>B01HIEI83Q</td>\n",
       "      <td></td>\n",
       "      <td></td>\n",
       "      <td>2016-06-29</td>\n",
       "    </tr>\n",
       "    <tr>\n",
       "      <th>18769</th>\n",
       "      <td>[Deadpool is a mercenary and anti-hero appeari...</td>\n",
       "      <td>Marvel Deadpool Laptop Backpack</td>\n",
       "      <td>[https://images-na.ssl-images-amazon.com/image...</td>\n",
       "      <td>Bioworld</td>\n",
       "      <td>[&gt;#4,064 in Computers &amp; Accessories (See top 1...</td>\n",
       "      <td>June 24, 2016</td>\n",
       "      <td>B01HIQYNJM</td>\n",
       "      <td>[Officially Licensed, One main zippered compar...</td>\n",
       "      <td>['Deadpool is a mercenary and anti-hero appear...</td>\n",
       "      <td>2016-06-24</td>\n",
       "    </tr>\n",
       "    <tr>\n",
       "      <th>18770</th>\n",
       "      <td></td>\n",
       "      <td>Funnel Cup (Ultra Pink)</td>\n",
       "      <td>[https://images-na.ssl-images-amazon.com/image...</td>\n",
       "      <td>JDDZ</td>\n",
       "      <td>[&gt;#449,492 in Electronics (See Top 100 in Elec...</td>\n",
       "      <td>March 5, 2017</td>\n",
       "      <td>B01HIWBL46</td>\n",
       "      <td></td>\n",
       "      <td></td>\n",
       "      <td>2017-03-05</td>\n",
       "    </tr>\n",
       "    <tr>\n",
       "      <th>18771</th>\n",
       "      <td></td>\n",
       "      <td>Linux Ubuntu 16.04 Desktop Server 32bit 64bit ...</td>\n",
       "      <td>[https://images-na.ssl-images-amazon.com/image...</td>\n",
       "      <td>Generic</td>\n",
       "      <td>[&gt;#278,362 in Electronics (See Top 100 in Elec...</td>\n",
       "      <td>March 16, 2017</td>\n",
       "      <td>B01HJ49FSW</td>\n",
       "      <td></td>\n",
       "      <td></td>\n",
       "      <td>2017-03-16</td>\n",
       "    </tr>\n",
       "  </tbody>\n",
       "</table>\n",
       "<p>18637 rows × 10 columns</p>\n",
       "</div>"
      ],
      "text/plain": [
       "                                             description  \\\n",
       "0          [Brand new. Still in factory-sealed plastic.]   \n",
       "1      [If you're already a Photoshop user and want a...   \n",
       "2      [School To Home Notes: Note From the Teacher!\\...   \n",
       "3      [Dooqi is a young brand specializing in high-e...   \n",
       "4                                    [Cover for Nook HD]   \n",
       "...                                                  ...   \n",
       "18767                                                      \n",
       "18768                                                      \n",
       "18769  [Deadpool is a mercenary and anti-hero appeari...   \n",
       "18770                                                      \n",
       "18771                                                      \n",
       "\n",
       "                                                   title  \\\n",
       "0      Kelby Training DVD: The Adobe Photoshop CS5 7-...   \n",
       "1      Kelby Training DVD: Adobe Photoshop CS5 Power ...   \n",
       "2      TEACHERS FRIEND NOTE FROM THE TEACHER SCHOOL T...   \n",
       "3      [3-pack]Ipad Mini Screen Protector, Dooqi Scre...   \n",
       "4                                Hd+ Cheetah Cover- Nook   \n",
       "...                                                  ...   \n",
       "18767  iPad Mini 4 Case, Aceguarder New Design [Dirtp...   \n",
       "18768  MIJIU Nylon Canvas Military Tactical Men Waist...   \n",
       "18769                    Marvel Deadpool Laptop Backpack   \n",
       "18770                            Funnel Cup (Ultra Pink)   \n",
       "18771  Linux Ubuntu 16.04 Desktop Server 32bit 64bit ...   \n",
       "\n",
       "                                                   image            brand  \\\n",
       "0      [https://images-na.ssl-images-amazon.com/image...   Kelby Training   \n",
       "1      [https://images-na.ssl-images-amazon.com/image...   Kelby Training   \n",
       "2      [https://images-na.ssl-images-amazon.com/image...  TEACHERS FRIEND   \n",
       "3      [https://images-na.ssl-images-amazon.com/image...            dooqi   \n",
       "4                                                                    Nook   \n",
       "...                                                  ...              ...   \n",
       "18767  [https://images-na.ssl-images-amazon.com/image...                    \n",
       "18768  [https://images-na.ssl-images-amazon.com/image...                    \n",
       "18769  [https://images-na.ssl-images-amazon.com/image...         Bioworld   \n",
       "18770  [https://images-na.ssl-images-amazon.com/image...             JDDZ   \n",
       "18771  [https://images-na.ssl-images-amazon.com/image...          Generic   \n",
       "\n",
       "                                                    rank                date  \\\n",
       "0      [>#654,681 in Electronics (See Top 100 in Elec...    December 2, 2011   \n",
       "1      [>#830,165 in Electronics (See Top 100 in Elec...    November 7, 2011   \n",
       "2      [>#1,233,887 in Electronics (See Top 100 in El...        June 6, 2007   \n",
       "3      [>#454,595 in Electronics (See Top 100 in Elec...    December 5, 2014   \n",
       "4      [>#85,661 in Computers & Accessories (See top ...  September 11, 2013   \n",
       "...                                                  ...                 ...   \n",
       "18767  [>#372,769 in Electronics (See Top 100 in Elec...       July 11, 2016   \n",
       "18768  [>#308,759 in Electronics (See Top 100 in Elec...       June 29, 2016   \n",
       "18769  [>#4,064 in Computers & Accessories (See top 1...       June 24, 2016   \n",
       "18770  [>#449,492 in Electronics (See Top 100 in Elec...       March 5, 2017   \n",
       "18771  [>#278,362 in Electronics (See Top 100 in Elec...      March 16, 2017   \n",
       "\n",
       "             asin                                            feature  \\\n",
       "0      0321732960                                                      \n",
       "1      0321735722                                                      \n",
       "2      0439651859                                                      \n",
       "3      0545729971  [Hard coated for Scratch Proof (Hardness: 4H),...   \n",
       "4      0594450284                                    [Cheetah cover]   \n",
       "...           ...                                                ...   \n",
       "18767  B01HI72XZW                                                      \n",
       "18768  B01HIEI83Q                                                      \n",
       "18769  B01HIQYNJM  [Officially Licensed, One main zippered compar...   \n",
       "18770  B01HIWBL46                                                      \n",
       "18771  B01HJ49FSW                                                      \n",
       "\n",
       "                                           description_1 date_formatted  \n",
       "0        ['Brand new. Still in factory-sealed plastic.']     2011-12-02  \n",
       "1      [\"If you're already a Photoshop user and want ...     2011-11-07  \n",
       "2      ['School To Home Notes: Note From the Teacher!...     2007-06-06  \n",
       "3      [\"Dooqi is a young brand specializing in high-...     2014-12-05  \n",
       "4                                  ['Cover for Nook HD']     2013-09-11  \n",
       "...                                                  ...            ...  \n",
       "18767                                                        2016-07-11  \n",
       "18768                                                        2016-06-29  \n",
       "18769  ['Deadpool is a mercenary and anti-hero appear...     2016-06-24  \n",
       "18770                                                        2017-03-05  \n",
       "18771                                                        2017-03-16  \n",
       "\n",
       "[18637 rows x 10 columns]"
      ]
     },
     "execution_count": 25,
     "metadata": {},
     "output_type": "execute_result"
    }
   ],
   "source": [
    "df5['date_formatted'] =  pd.to_datetime(df5['date'], infer_datetime_format=True)\n",
    "df5"
   ]
  },
  {
   "cell_type": "code",
   "execution_count": 26,
   "id": "2c10c897",
   "metadata": {},
   "outputs": [
    {
     "name": "stderr",
     "output_type": "stream",
     "text": [
      "/tmp/ipykernel_3076/1303831097.py:1: SettingWithCopyWarning: \n",
      "A value is trying to be set on a copy of a slice from a DataFrame.\n",
      "Try using .loc[row_indexer,col_indexer] = value instead\n",
      "\n",
      "See the caveats in the documentation: https://pandas.pydata.org/pandas-docs/stable/user_guide/indexing.html#returning-a-view-versus-a-copy\n",
      "  df5['description_1']=df5.description_1.str.strip(\"[]'\")\n"
     ]
    }
   ],
   "source": [
    "df5['description_1']=df5.description_1.str.strip(\"[]'\")"
   ]
  },
  {
   "cell_type": "code",
   "execution_count": 13,
   "id": "f4ec7c24",
   "metadata": {
    "scrolled": true
   },
   "outputs": [
    {
     "data": {
      "text/plain": [
       "brand\n",
       "False    18637\n",
       "Name: brand, dtype: int64"
      ]
     },
     "execution_count": 13,
     "metadata": {},
     "output_type": "execute_result"
    }
   ],
   "source": [
    "df5[\"brand\"].groupby(df5[\"brand\"].isna()).count()"
   ]
  },
  {
   "cell_type": "code",
   "execution_count": 27,
   "id": "4b834a6e",
   "metadata": {},
   "outputs": [
    {
     "data": {
      "text/html": [
       "<div>\n",
       "<style scoped>\n",
       "    .dataframe tbody tr th:only-of-type {\n",
       "        vertical-align: middle;\n",
       "    }\n",
       "\n",
       "    .dataframe tbody tr th {\n",
       "        vertical-align: top;\n",
       "    }\n",
       "\n",
       "    .dataframe thead th {\n",
       "        text-align: right;\n",
       "    }\n",
       "</style>\n",
       "<table border=\"1\" class=\"dataframe\">\n",
       "  <thead>\n",
       "    <tr style=\"text-align: right;\">\n",
       "      <th></th>\n",
       "      <th>description</th>\n",
       "      <th>title</th>\n",
       "      <th>image</th>\n",
       "      <th>brand</th>\n",
       "      <th>rank</th>\n",
       "      <th>date</th>\n",
       "      <th>asin</th>\n",
       "      <th>feature</th>\n",
       "      <th>description_1</th>\n",
       "      <th>date_formatted</th>\n",
       "    </tr>\n",
       "  </thead>\n",
       "  <tbody>\n",
       "    <tr>\n",
       "      <th>0</th>\n",
       "      <td>[Brand new. Still in factory-sealed plastic.]</td>\n",
       "      <td>Kelby Training DVD: The Adobe Photoshop CS5 7-...</td>\n",
       "      <td>[https://images-na.ssl-images-amazon.com/image...</td>\n",
       "      <td>Kelby Training</td>\n",
       "      <td>[&gt;#654,681 in Electronics (See Top 100 in Elec...</td>\n",
       "      <td>December 2, 2011</td>\n",
       "      <td>0321732960</td>\n",
       "      <td></td>\n",
       "      <td>Brand new. Still in factory-sealed plastic.</td>\n",
       "      <td>2011-12-02</td>\n",
       "    </tr>\n",
       "    <tr>\n",
       "      <th>1</th>\n",
       "      <td>[If you're already a Photoshop user and want a...</td>\n",
       "      <td>Kelby Training DVD: Adobe Photoshop CS5 Power ...</td>\n",
       "      <td>[https://images-na.ssl-images-amazon.com/image...</td>\n",
       "      <td>Kelby Training</td>\n",
       "      <td>[&gt;#830,165 in Electronics (See Top 100 in Elec...</td>\n",
       "      <td>November 7, 2011</td>\n",
       "      <td>0321735722</td>\n",
       "      <td></td>\n",
       "      <td>\"If you're already a Photoshop user and want a...</td>\n",
       "      <td>2011-11-07</td>\n",
       "    </tr>\n",
       "    <tr>\n",
       "      <th>2</th>\n",
       "      <td>[School To Home Notes: Note From the Teacher!\\...</td>\n",
       "      <td>TEACHERS FRIEND NOTE FROM THE TEACHER SCHOOL T...</td>\n",
       "      <td>[https://images-na.ssl-images-amazon.com/image...</td>\n",
       "      <td>TEACHERS FRIEND</td>\n",
       "      <td>[&gt;#1,233,887 in Electronics (See Top 100 in El...</td>\n",
       "      <td>June 6, 2007</td>\n",
       "      <td>0439651859</td>\n",
       "      <td></td>\n",
       "      <td>School To Home Notes: Note From the Teacher!\\\\...</td>\n",
       "      <td>2007-06-06</td>\n",
       "    </tr>\n",
       "    <tr>\n",
       "      <th>3</th>\n",
       "      <td>[Dooqi is a young brand specializing in high-e...</td>\n",
       "      <td>[3-pack]Ipad Mini Screen Protector, Dooqi Scre...</td>\n",
       "      <td>[https://images-na.ssl-images-amazon.com/image...</td>\n",
       "      <td>dooqi</td>\n",
       "      <td>[&gt;#454,595 in Electronics (See Top 100 in Elec...</td>\n",
       "      <td>December 5, 2014</td>\n",
       "      <td>0545729971</td>\n",
       "      <td>[Hard coated for Scratch Proof (Hardness: 4H),...</td>\n",
       "      <td>\"Dooqi is a young brand specializing in high-e...</td>\n",
       "      <td>2014-12-05</td>\n",
       "    </tr>\n",
       "    <tr>\n",
       "      <th>4</th>\n",
       "      <td>[Cover for Nook HD]</td>\n",
       "      <td>Hd+ Cheetah Cover- Nook</td>\n",
       "      <td></td>\n",
       "      <td>Nook</td>\n",
       "      <td>[&gt;#85,661 in Computers &amp; Accessories (See top ...</td>\n",
       "      <td>September 11, 2013</td>\n",
       "      <td>0594450284</td>\n",
       "      <td>[Cheetah cover]</td>\n",
       "      <td>Cover for Nook HD</td>\n",
       "      <td>2013-09-11</td>\n",
       "    </tr>\n",
       "  </tbody>\n",
       "</table>\n",
       "</div>"
      ],
      "text/plain": [
       "                                         description  \\\n",
       "0      [Brand new. Still in factory-sealed plastic.]   \n",
       "1  [If you're already a Photoshop user and want a...   \n",
       "2  [School To Home Notes: Note From the Teacher!\\...   \n",
       "3  [Dooqi is a young brand specializing in high-e...   \n",
       "4                                [Cover for Nook HD]   \n",
       "\n",
       "                                               title  \\\n",
       "0  Kelby Training DVD: The Adobe Photoshop CS5 7-...   \n",
       "1  Kelby Training DVD: Adobe Photoshop CS5 Power ...   \n",
       "2  TEACHERS FRIEND NOTE FROM THE TEACHER SCHOOL T...   \n",
       "3  [3-pack]Ipad Mini Screen Protector, Dooqi Scre...   \n",
       "4                            Hd+ Cheetah Cover- Nook   \n",
       "\n",
       "                                               image            brand  \\\n",
       "0  [https://images-na.ssl-images-amazon.com/image...   Kelby Training   \n",
       "1  [https://images-na.ssl-images-amazon.com/image...   Kelby Training   \n",
       "2  [https://images-na.ssl-images-amazon.com/image...  TEACHERS FRIEND   \n",
       "3  [https://images-na.ssl-images-amazon.com/image...            dooqi   \n",
       "4                                                                Nook   \n",
       "\n",
       "                                                rank                date  \\\n",
       "0  [>#654,681 in Electronics (See Top 100 in Elec...    December 2, 2011   \n",
       "1  [>#830,165 in Electronics (See Top 100 in Elec...    November 7, 2011   \n",
       "2  [>#1,233,887 in Electronics (See Top 100 in El...        June 6, 2007   \n",
       "3  [>#454,595 in Electronics (See Top 100 in Elec...    December 5, 2014   \n",
       "4  [>#85,661 in Computers & Accessories (See top ...  September 11, 2013   \n",
       "\n",
       "         asin                                            feature  \\\n",
       "0  0321732960                                                      \n",
       "1  0321735722                                                      \n",
       "2  0439651859                                                      \n",
       "3  0545729971  [Hard coated for Scratch Proof (Hardness: 4H),...   \n",
       "4  0594450284                                    [Cheetah cover]   \n",
       "\n",
       "                                       description_1 date_formatted  \n",
       "0        Brand new. Still in factory-sealed plastic.     2011-12-02  \n",
       "1  \"If you're already a Photoshop user and want a...     2011-11-07  \n",
       "2  School To Home Notes: Note From the Teacher!\\\\...     2007-06-06  \n",
       "3  \"Dooqi is a young brand specializing in high-e...     2014-12-05  \n",
       "4                                  Cover for Nook HD     2013-09-11  "
      ]
     },
     "execution_count": 27,
     "metadata": {},
     "output_type": "execute_result"
    }
   ],
   "source": [
    "df5.head()"
   ]
  },
  {
   "cell_type": "code",
   "execution_count": 17,
   "id": "aa1a228d",
   "metadata": {
    "scrolled": true
   },
   "outputs": [
    {
     "name": "stderr",
     "output_type": "stream",
     "text": [
      "/tmp/ipykernel_3076/2771495910.py:1: SettingWithCopyWarning: \n",
      "A value is trying to be set on a copy of a slice from a DataFrame.\n",
      "Try using .loc[row_indexer,col_indexer] = value instead\n",
      "\n",
      "See the caveats in the documentation: https://pandas.pydata.org/pandas-docs/stable/user_guide/indexing.html#returning-a-view-versus-a-copy\n",
      "  df5['brand_cat']=df5.brand.map(lambda x : 0 if len(x) <1 else 1)\n"
     ]
    },
    {
     "data": {
      "text/plain": [
       "array([1, 0])"
      ]
     },
     "execution_count": 17,
     "metadata": {},
     "output_type": "execute_result"
    }
   ],
   "source": [
    "df5['brand_cat']=df5.brand.map(lambda x : 0 if len(x) <1 else 1)\n",
    "df5.brand_cat.unique()"
   ]
  },
  {
   "cell_type": "code",
   "execution_count": 36,
   "id": "5ee696a9",
   "metadata": {
    "scrolled": true
   },
   "outputs": [
    {
     "data": {
      "text/plain": [
       "<matplotlib.collections.PathCollection at 0x7fe03f9deee0>"
      ]
     },
     "execution_count": 36,
     "metadata": {},
     "output_type": "execute_result"
    },
    {
     "data": {
      "image/png": "[encoded data removed]",
      "text/plain": [
       "<Figure size 432x288 with 1 Axes>"
      ]
     },
     "metadata": {
      "needs_background": "light"
     },
     "output_type": "display_data"
    }
   ],
   "source": [
    "plt.scatter(df5.date_formatted,df5.index)"
   ]
  },
  {
   "cell_type": "code",
   "execution_count": 38,
   "id": "aaaad597",
   "metadata": {
    "scrolled": false
   },
   "outputs": [
    {
     "name": "stderr",
     "output_type": "stream",
     "text": [
      "/tmp/ipykernel_3076/2613211194.py:1: SettingWithCopyWarning: \n",
      "A value is trying to be set on a copy of a slice from a DataFrame.\n",
      "Try using .loc[row_indexer,col_indexer] = value instead\n",
      "\n",
      "See the caveats in the documentation: https://pandas.pydata.org/pandas-docs/stable/user_guide/indexing.html#returning-a-view-versus-a-copy\n",
      "  df5['rank1']=df5['rank'].map(lambda x: str(x).strip(\"[]'\"))\n"
     ]
    }
   ],
   "source": [
    "df5['rank1']=df5['rank'].map(lambda x: str(x).strip(\"[]'\"))"
   ]
  },
  {
   "cell_type": "code",
   "execution_count": 39,
   "id": "c34091ff",
   "metadata": {
    "scrolled": true
   },
   "outputs": [
    {
     "data": {
      "text/html": [
       "<div>\n",
       "<style scoped>\n",
       "    .dataframe tbody tr th:only-of-type {\n",
       "        vertical-align: middle;\n",
       "    }\n",
       "\n",
       "    .dataframe tbody tr th {\n",
       "        vertical-align: top;\n",
       "    }\n",
       "\n",
       "    .dataframe thead th {\n",
       "        text-align: right;\n",
       "    }\n",
       "</style>\n",
       "<table border=\"1\" class=\"dataframe\">\n",
       "  <thead>\n",
       "    <tr style=\"text-align: right;\">\n",
       "      <th></th>\n",
       "      <th>description</th>\n",
       "      <th>title</th>\n",
       "      <th>image</th>\n",
       "      <th>brand</th>\n",
       "      <th>rank</th>\n",
       "      <th>date</th>\n",
       "      <th>asin</th>\n",
       "      <th>feature</th>\n",
       "      <th>description_1</th>\n",
       "      <th>date_formatted</th>\n",
       "      <th>rank1</th>\n",
       "    </tr>\n",
       "  </thead>\n",
       "  <tbody>\n",
       "    <tr>\n",
       "      <th>0</th>\n",
       "      <td>[Brand new. Still in factory-sealed plastic.]</td>\n",
       "      <td>Kelby Training DVD: The Adobe Photoshop CS5 7-...</td>\n",
       "      <td>[https://images-na.ssl-images-amazon.com/image...</td>\n",
       "      <td>Kelby Training</td>\n",
       "      <td>[&gt;#654,681 in Electronics (See Top 100 in Elec...</td>\n",
       "      <td>December 2, 2011</td>\n",
       "      <td>0321732960</td>\n",
       "      <td></td>\n",
       "      <td>Brand new. Still in factory-sealed plastic.</td>\n",
       "      <td>2011-12-02</td>\n",
       "      <td>&gt;#654,681 in Electronics (See Top 100 in Elect...</td>\n",
       "    </tr>\n",
       "    <tr>\n",
       "      <th>1</th>\n",
       "      <td>[If you're already a Photoshop user and want a...</td>\n",
       "      <td>Kelby Training DVD: Adobe Photoshop CS5 Power ...</td>\n",
       "      <td>[https://images-na.ssl-images-amazon.com/image...</td>\n",
       "      <td>Kelby Training</td>\n",
       "      <td>[&gt;#830,165 in Electronics (See Top 100 in Elec...</td>\n",
       "      <td>November 7, 2011</td>\n",
       "      <td>0321735722</td>\n",
       "      <td></td>\n",
       "      <td>\"If you're already a Photoshop user and want a...</td>\n",
       "      <td>2011-11-07</td>\n",
       "      <td>&gt;#830,165 in Electronics (See Top 100 in Elect...</td>\n",
       "    </tr>\n",
       "    <tr>\n",
       "      <th>2</th>\n",
       "      <td>[School To Home Notes: Note From the Teacher!\\...</td>\n",
       "      <td>TEACHERS FRIEND NOTE FROM THE TEACHER SCHOOL T...</td>\n",
       "      <td>[https://images-na.ssl-images-amazon.com/image...</td>\n",
       "      <td>TEACHERS FRIEND</td>\n",
       "      <td>[&gt;#1,233,887 in Electronics (See Top 100 in El...</td>\n",
       "      <td>June 6, 2007</td>\n",
       "      <td>0439651859</td>\n",
       "      <td></td>\n",
       "      <td>School To Home Notes: Note From the Teacher!\\\\...</td>\n",
       "      <td>2007-06-06</td>\n",
       "      <td>&gt;#1,233,887 in Electronics (See Top 100 in Ele...</td>\n",
       "    </tr>\n",
       "    <tr>\n",
       "      <th>3</th>\n",
       "      <td>[Dooqi is a young brand specializing in high-e...</td>\n",
       "      <td>[3-pack]Ipad Mini Screen Protector, Dooqi Scre...</td>\n",
       "      <td>[https://images-na.ssl-images-amazon.com/image...</td>\n",
       "      <td>dooqi</td>\n",
       "      <td>[&gt;#454,595 in Electronics (See Top 100 in Elec...</td>\n",
       "      <td>December 5, 2014</td>\n",
       "      <td>0545729971</td>\n",
       "      <td>[Hard coated for Scratch Proof (Hardness: 4H),...</td>\n",
       "      <td>\"Dooqi is a young brand specializing in high-e...</td>\n",
       "      <td>2014-12-05</td>\n",
       "      <td>&gt;#454,595 in Electronics (See Top 100 in Elect...</td>\n",
       "    </tr>\n",
       "    <tr>\n",
       "      <th>4</th>\n",
       "      <td>[Cover for Nook HD]</td>\n",
       "      <td>Hd+ Cheetah Cover- Nook</td>\n",
       "      <td></td>\n",
       "      <td>Nook</td>\n",
       "      <td>[&gt;#85,661 in Computers &amp; Accessories (See top ...</td>\n",
       "      <td>September 11, 2013</td>\n",
       "      <td>0594450284</td>\n",
       "      <td>[Cheetah cover]</td>\n",
       "      <td>Cover for Nook HD</td>\n",
       "      <td>2013-09-11</td>\n",
       "      <td>&gt;#85,661 in Computers &amp; Accessories (See top 100)</td>\n",
       "    </tr>\n",
       "    <tr>\n",
       "      <th>...</th>\n",
       "      <td>...</td>\n",
       "      <td>...</td>\n",
       "      <td>...</td>\n",
       "      <td>...</td>\n",
       "      <td>...</td>\n",
       "      <td>...</td>\n",
       "      <td>...</td>\n",
       "      <td>...</td>\n",
       "      <td>...</td>\n",
       "      <td>...</td>\n",
       "      <td>...</td>\n",
       "    </tr>\n",
       "    <tr>\n",
       "      <th>18767</th>\n",
       "      <td></td>\n",
       "      <td>iPad Mini 4 Case, Aceguarder New Design [Dirtp...</td>\n",
       "      <td>[https://images-na.ssl-images-amazon.com/image...</td>\n",
       "      <td></td>\n",
       "      <td>[&gt;#372,769 in Electronics (See Top 100 in Elec...</td>\n",
       "      <td>July 11, 2016</td>\n",
       "      <td>B01HI72XZW</td>\n",
       "      <td></td>\n",
       "      <td></td>\n",
       "      <td>2016-07-11</td>\n",
       "      <td>&gt;#372,769 in Electronics (See Top 100 in Elect...</td>\n",
       "    </tr>\n",
       "    <tr>\n",
       "      <th>18768</th>\n",
       "      <td></td>\n",
       "      <td>MIJIU Nylon Canvas Military Tactical Men Waist...</td>\n",
       "      <td>[https://images-na.ssl-images-amazon.com/image...</td>\n",
       "      <td></td>\n",
       "      <td>[&gt;#308,759 in Electronics (See Top 100 in Elec...</td>\n",
       "      <td>June 29, 2016</td>\n",
       "      <td>B01HIEI83Q</td>\n",
       "      <td></td>\n",
       "      <td></td>\n",
       "      <td>2016-06-29</td>\n",
       "      <td>&gt;#308,759 in Electronics (See Top 100 in Elect...</td>\n",
       "    </tr>\n",
       "    <tr>\n",
       "      <th>18769</th>\n",
       "      <td>[Deadpool is a mercenary and anti-hero appeari...</td>\n",
       "      <td>Marvel Deadpool Laptop Backpack</td>\n",
       "      <td>[https://images-na.ssl-images-amazon.com/image...</td>\n",
       "      <td>Bioworld</td>\n",
       "      <td>[&gt;#4,064 in Computers &amp; Accessories (See top 1...</td>\n",
       "      <td>June 24, 2016</td>\n",
       "      <td>B01HIQYNJM</td>\n",
       "      <td>[Officially Licensed, One main zippered compar...</td>\n",
       "      <td>Deadpool is a mercenary and anti-hero appearin...</td>\n",
       "      <td>2016-06-24</td>\n",
       "      <td>&gt;#4,064 in Computers &amp; Accessories (See top 100)</td>\n",
       "    </tr>\n",
       "    <tr>\n",
       "      <th>18770</th>\n",
       "      <td></td>\n",
       "      <td>Funnel Cup (Ultra Pink)</td>\n",
       "      <td>[https://images-na.ssl-images-amazon.com/image...</td>\n",
       "      <td>JDDZ</td>\n",
       "      <td>[&gt;#449,492 in Electronics (See Top 100 in Elec...</td>\n",
       "      <td>March 5, 2017</td>\n",
       "      <td>B01HIWBL46</td>\n",
       "      <td></td>\n",
       "      <td></td>\n",
       "      <td>2017-03-05</td>\n",
       "      <td>&gt;#449,492 in Electronics (See Top 100 in Elect...</td>\n",
       "    </tr>\n",
       "    <tr>\n",
       "      <th>18771</th>\n",
       "      <td></td>\n",
       "      <td>Linux Ubuntu 16.04 Desktop Server 32bit 64bit ...</td>\n",
       "      <td>[https://images-na.ssl-images-amazon.com/image...</td>\n",
       "      <td>Generic</td>\n",
       "      <td>[&gt;#278,362 in Electronics (See Top 100 in Elec...</td>\n",
       "      <td>March 16, 2017</td>\n",
       "      <td>B01HJ49FSW</td>\n",
       "      <td></td>\n",
       "      <td></td>\n",
       "      <td>2017-03-16</td>\n",
       "      <td>&gt;#278,362 in Electronics (See Top 100 in Elect...</td>\n",
       "    </tr>\n",
       "  </tbody>\n",
       "</table>\n",
       "<p>18637 rows × 11 columns</p>\n",
       "</div>"
      ],
      "text/plain": [
       "                                             description  \\\n",
       "0          [Brand new. Still in factory-sealed plastic.]   \n",
       "1      [If you're already a Photoshop user and want a...   \n",
       "2      [School To Home Notes: Note From the Teacher!\\...   \n",
       "3      [Dooqi is a young brand specializing in high-e...   \n",
       "4                                    [Cover for Nook HD]   \n",
       "...                                                  ...   \n",
       "18767                                                      \n",
       "18768                                                      \n",
       "18769  [Deadpool is a mercenary and anti-hero appeari...   \n",
       "18770                                                      \n",
       "18771                                                      \n",
       "\n",
       "                                                   title  \\\n",
       "0      Kelby Training DVD: The Adobe Photoshop CS5 7-...   \n",
       "1      Kelby Training DVD: Adobe Photoshop CS5 Power ...   \n",
       "2      TEACHERS FRIEND NOTE FROM THE TEACHER SCHOOL T...   \n",
       "3      [3-pack]Ipad Mini Screen Protector, Dooqi Scre...   \n",
       "4                                Hd+ Cheetah Cover- Nook   \n",
       "...                                                  ...   \n",
       "18767  iPad Mini 4 Case, Aceguarder New Design [Dirtp...   \n",
       "18768  MIJIU Nylon Canvas Military Tactical Men Waist...   \n",
       "18769                    Marvel Deadpool Laptop Backpack   \n",
       "18770                            Funnel Cup (Ultra Pink)   \n",
       "18771  Linux Ubuntu 16.04 Desktop Server 32bit 64bit ...   \n",
       "\n",
       "                                                   image            brand  \\\n",
       "0      [https://images-na.ssl-images-amazon.com/image...   Kelby Training   \n",
       "1      [https://images-na.ssl-images-amazon.com/image...   Kelby Training   \n",
       "2      [https://images-na.ssl-images-amazon.com/image...  TEACHERS FRIEND   \n",
       "3      [https://images-na.ssl-images-amazon.com/image...            dooqi   \n",
       "4                                                                    Nook   \n",
       "...                                                  ...              ...   \n",
       "18767  [https://images-na.ssl-images-amazon.com/image...                    \n",
       "18768  [https://images-na.ssl-images-amazon.com/image...                    \n",
       "18769  [https://images-na.ssl-images-amazon.com/image...         Bioworld   \n",
       "18770  [https://images-na.ssl-images-amazon.com/image...             JDDZ   \n",
       "18771  [https://images-na.ssl-images-amazon.com/image...          Generic   \n",
       "\n",
       "                                                    rank                date  \\\n",
       "0      [>#654,681 in Electronics (See Top 100 in Elec...    December 2, 2011   \n",
       "1      [>#830,165 in Electronics (See Top 100 in Elec...    November 7, 2011   \n",
       "2      [>#1,233,887 in Electronics (See Top 100 in El...        June 6, 2007   \n",
       "3      [>#454,595 in Electronics (See Top 100 in Elec...    December 5, 2014   \n",
       "4      [>#85,661 in Computers & Accessories (See top ...  September 11, 2013   \n",
       "...                                                  ...                 ...   \n",
       "18767  [>#372,769 in Electronics (See Top 100 in Elec...       July 11, 2016   \n",
       "18768  [>#308,759 in Electronics (See Top 100 in Elec...       June 29, 2016   \n",
       "18769  [>#4,064 in Computers & Accessories (See top 1...       June 24, 2016   \n",
       "18770  [>#449,492 in Electronics (See Top 100 in Elec...       March 5, 2017   \n",
       "18771  [>#278,362 in Electronics (See Top 100 in Elec...      March 16, 2017   \n",
       "\n",
       "             asin                                            feature  \\\n",
       "0      0321732960                                                      \n",
       "1      0321735722                                                      \n",
       "2      0439651859                                                      \n",
       "3      0545729971  [Hard coated for Scratch Proof (Hardness: 4H),...   \n",
       "4      0594450284                                    [Cheetah cover]   \n",
       "...           ...                                                ...   \n",
       "18767  B01HI72XZW                                                      \n",
       "18768  B01HIEI83Q                                                      \n",
       "18769  B01HIQYNJM  [Officially Licensed, One main zippered compar...   \n",
       "18770  B01HIWBL46                                                      \n",
       "18771  B01HJ49FSW                                                      \n",
       "\n",
       "                                           description_1 date_formatted  \\\n",
       "0            Brand new. Still in factory-sealed plastic.     2011-12-02   \n",
       "1      \"If you're already a Photoshop user and want a...     2011-11-07   \n",
       "2      School To Home Notes: Note From the Teacher!\\\\...     2007-06-06   \n",
       "3      \"Dooqi is a young brand specializing in high-e...     2014-12-05   \n",
       "4                                      Cover for Nook HD     2013-09-11   \n",
       "...                                                  ...            ...   \n",
       "18767                                                        2016-07-11   \n",
       "18768                                                        2016-06-29   \n",
       "18769  Deadpool is a mercenary and anti-hero appearin...     2016-06-24   \n",
       "18770                                                        2017-03-05   \n",
       "18771                                                        2017-03-16   \n",
       "\n",
       "                                                   rank1  \n",
       "0      >#654,681 in Electronics (See Top 100 in Elect...  \n",
       "1      >#830,165 in Electronics (See Top 100 in Elect...  \n",
       "2      >#1,233,887 in Electronics (See Top 100 in Ele...  \n",
       "3      >#454,595 in Electronics (See Top 100 in Elect...  \n",
       "4      >#85,661 in Computers & Accessories (See top 100)  \n",
       "...                                                  ...  \n",
       "18767  >#372,769 in Electronics (See Top 100 in Elect...  \n",
       "18768  >#308,759 in Electronics (See Top 100 in Elect...  \n",
       "18769   >#4,064 in Computers & Accessories (See top 100)  \n",
       "18770  >#449,492 in Electronics (See Top 100 in Elect...  \n",
       "18771  >#278,362 in Electronics (See Top 100 in Elect...  \n",
       "\n",
       "[18637 rows x 11 columns]"
      ]
     },
     "execution_count": 39,
     "metadata": {},
     "output_type": "execute_result"
    }
   ],
   "source": [
    "df5"
   ]
  },
  {
   "cell_type": "code",
   "execution_count": 40,
   "id": "fffa8e43",
   "metadata": {
    "scrolled": true
   },
   "outputs": [
    {
     "name": "stderr",
     "output_type": "stream",
     "text": [
      "/tmp/ipykernel_3076/4145307409.py:1: SettingWithCopyWarning: \n",
      "A value is trying to be set on a copy of a slice from a DataFrame.\n",
      "Try using .loc[row_indexer,col_indexer] = value instead\n",
      "\n",
      "See the caveats in the documentation: https://pandas.pydata.org/pandas-docs/stable/user_guide/indexing.html#returning-a-view-versus-a-copy\n",
      "  df5[\"rank1\"]=df5[\"rank1\"].map(lambda x: str(x))\n",
      "/tmp/ipykernel_3076/4145307409.py:2: SettingWithCopyWarning: \n",
      "A value is trying to be set on a copy of a slice from a DataFrame.\n",
      "Try using .loc[row_indexer,col_indexer] = value instead\n",
      "\n",
      "See the caveats in the documentation: https://pandas.pydata.org/pandas-docs/stable/user_guide/indexing.html#returning-a-view-versus-a-copy\n",
      "  df5[\"rank1\"]=df5[\"rank1\"].str.replace(pat='>#',repl='', regex=False)\n"
     ]
    }
   ],
   "source": [
    "df5[\"rank1\"]=df5[\"rank1\"].map(lambda x: str(x))\n",
    "df5[\"rank1\"]=df5[\"rank1\"].str.replace(pat='>#',repl='', regex=False)"
   ]
  },
  {
   "cell_type": "code",
   "execution_count": 41,
   "id": "25a3a240",
   "metadata": {},
   "outputs": [
    {
     "name": "stderr",
     "output_type": "stream",
     "text": [
      "/tmp/ipykernel_3076/2162198519.py:1: SettingWithCopyWarning: \n",
      "A value is trying to be set on a copy of a slice from a DataFrame.\n",
      "Try using .loc[row_indexer,col_indexer] = value instead\n",
      "\n",
      "See the caveats in the documentation: https://pandas.pydata.org/pandas-docs/stable/user_guide/indexing.html#returning-a-view-versus-a-copy\n",
      "  df5[\"rank1\"]=df5[\"rank1\"].map(lambda x: x.replace(\",\",\"\"))\n"
     ]
    }
   ],
   "source": [
    "df5[\"rank1\"]=df5[\"rank1\"].map(lambda x: x.replace(\",\",\"\"))"
   ]
  },
  {
   "cell_type": "code",
   "execution_count": 43,
   "id": "cf10aa8c",
   "metadata": {},
   "outputs": [
    {
     "data": {
      "text/plain": [
       "0    654681 in Electronics (See Top 100 in Electron...\n",
       "1    830165 in Electronics (See Top 100 in Electron...\n",
       "2    1233887 in Electronics (See Top 100 in Electro...\n",
       "3    454595 in Electronics (See Top 100 in Electron...\n",
       "4       85661 in Computers & Accessories (See top 100)\n",
       "Name: rank1, dtype: object"
      ]
     },
     "execution_count": 43,
     "metadata": {},
     "output_type": "execute_result"
    }
   ],
   "source": [
    "df5[\"rank1\"].head()"
   ]
  },
  {
   "cell_type": "code",
   "execution_count": 44,
   "id": "3731188e",
   "metadata": {},
   "outputs": [
    {
     "name": "stderr",
     "output_type": "stream",
     "text": [
      "/tmp/ipykernel_3076/743146037.py:1: SettingWithCopyWarning: \n",
      "A value is trying to be set on a copy of a slice from a DataFrame.\n",
      "Try using .loc[row_indexer,col_indexer] = value instead\n",
      "\n",
      "See the caveats in the documentation: https://pandas.pydata.org/pandas-docs/stable/user_guide/indexing.html#returning-a-view-versus-a-copy\n",
      "  df5[\"rank1\"]=df5[\"rank1\"].map(lambda x: x.split(\"in\"))\n"
     ]
    }
   ],
   "source": [
    "df5[\"rank1\"]=df5[\"rank1\"].map(lambda x: x.split(\"in\"))"
   ]
  },
  {
   "cell_type": "code",
   "execution_count": 45,
   "id": "423a523d",
   "metadata": {},
   "outputs": [
    {
     "name": "stderr",
     "output_type": "stream",
     "text": [
      "/tmp/ipykernel_3076/1942946291.py:1: SettingWithCopyWarning: \n",
      "A value is trying to be set on a copy of a slice from a DataFrame.\n",
      "Try using .loc[row_indexer,col_indexer] = value instead\n",
      "\n",
      "See the caveats in the documentation: https://pandas.pydata.org/pandas-docs/stable/user_guide/indexing.html#returning-a-view-versus-a-copy\n",
      "  df5[\"rank1\"] = df5[\"rank1\"].map(lambda x: x[0])\n"
     ]
    }
   ],
   "source": [
    "df5[\"rank1\"] = df5[\"rank1\"].map(lambda x: x[0])"
   ]
  },
  {
   "cell_type": "code",
   "execution_count": 46,
   "id": "64a26c0b",
   "metadata": {},
   "outputs": [
    {
     "data": {
      "text/html": [
       "<div>\n",
       "<style scoped>\n",
       "    .dataframe tbody tr th:only-of-type {\n",
       "        vertical-align: middle;\n",
       "    }\n",
       "\n",
       "    .dataframe tbody tr th {\n",
       "        vertical-align: top;\n",
       "    }\n",
       "\n",
       "    .dataframe thead th {\n",
       "        text-align: right;\n",
       "    }\n",
       "</style>\n",
       "<table border=\"1\" class=\"dataframe\">\n",
       "  <thead>\n",
       "    <tr style=\"text-align: right;\">\n",
       "      <th></th>\n",
       "      <th>description</th>\n",
       "      <th>title</th>\n",
       "      <th>image</th>\n",
       "      <th>brand</th>\n",
       "      <th>rank</th>\n",
       "      <th>date</th>\n",
       "      <th>asin</th>\n",
       "      <th>feature</th>\n",
       "      <th>description_1</th>\n",
       "      <th>date_formatted</th>\n",
       "      <th>rank1</th>\n",
       "    </tr>\n",
       "  </thead>\n",
       "  <tbody>\n",
       "    <tr>\n",
       "      <th>0</th>\n",
       "      <td>[Brand new. Still in factory-sealed plastic.]</td>\n",
       "      <td>Kelby Training DVD: The Adobe Photoshop CS5 7-...</td>\n",
       "      <td>[https://images-na.ssl-images-amazon.com/image...</td>\n",
       "      <td>Kelby Training</td>\n",
       "      <td>[&gt;#654,681 in Electronics (See Top 100 in Elec...</td>\n",
       "      <td>December 2, 2011</td>\n",
       "      <td>0321732960</td>\n",
       "      <td></td>\n",
       "      <td>Brand new. Still in factory-sealed plastic.</td>\n",
       "      <td>2011-12-02</td>\n",
       "      <td>654681</td>\n",
       "    </tr>\n",
       "    <tr>\n",
       "      <th>1</th>\n",
       "      <td>[If you're already a Photoshop user and want a...</td>\n",
       "      <td>Kelby Training DVD: Adobe Photoshop CS5 Power ...</td>\n",
       "      <td>[https://images-na.ssl-images-amazon.com/image...</td>\n",
       "      <td>Kelby Training</td>\n",
       "      <td>[&gt;#830,165 in Electronics (See Top 100 in Elec...</td>\n",
       "      <td>November 7, 2011</td>\n",
       "      <td>0321735722</td>\n",
       "      <td></td>\n",
       "      <td>\"If you're already a Photoshop user and want a...</td>\n",
       "      <td>2011-11-07</td>\n",
       "      <td>830165</td>\n",
       "    </tr>\n",
       "    <tr>\n",
       "      <th>2</th>\n",
       "      <td>[School To Home Notes: Note From the Teacher!\\...</td>\n",
       "      <td>TEACHERS FRIEND NOTE FROM THE TEACHER SCHOOL T...</td>\n",
       "      <td>[https://images-na.ssl-images-amazon.com/image...</td>\n",
       "      <td>TEACHERS FRIEND</td>\n",
       "      <td>[&gt;#1,233,887 in Electronics (See Top 100 in El...</td>\n",
       "      <td>June 6, 2007</td>\n",
       "      <td>0439651859</td>\n",
       "      <td></td>\n",
       "      <td>School To Home Notes: Note From the Teacher!\\\\...</td>\n",
       "      <td>2007-06-06</td>\n",
       "      <td>1233887</td>\n",
       "    </tr>\n",
       "    <tr>\n",
       "      <th>3</th>\n",
       "      <td>[Dooqi is a young brand specializing in high-e...</td>\n",
       "      <td>[3-pack]Ipad Mini Screen Protector, Dooqi Scre...</td>\n",
       "      <td>[https://images-na.ssl-images-amazon.com/image...</td>\n",
       "      <td>dooqi</td>\n",
       "      <td>[&gt;#454,595 in Electronics (See Top 100 in Elec...</td>\n",
       "      <td>December 5, 2014</td>\n",
       "      <td>0545729971</td>\n",
       "      <td>[Hard coated for Scratch Proof (Hardness: 4H),...</td>\n",
       "      <td>\"Dooqi is a young brand specializing in high-e...</td>\n",
       "      <td>2014-12-05</td>\n",
       "      <td>454595</td>\n",
       "    </tr>\n",
       "    <tr>\n",
       "      <th>4</th>\n",
       "      <td>[Cover for Nook HD]</td>\n",
       "      <td>Hd+ Cheetah Cover- Nook</td>\n",
       "      <td></td>\n",
       "      <td>Nook</td>\n",
       "      <td>[&gt;#85,661 in Computers &amp; Accessories (See top ...</td>\n",
       "      <td>September 11, 2013</td>\n",
       "      <td>0594450284</td>\n",
       "      <td>[Cheetah cover]</td>\n",
       "      <td>Cover for Nook HD</td>\n",
       "      <td>2013-09-11</td>\n",
       "      <td>85661</td>\n",
       "    </tr>\n",
       "    <tr>\n",
       "      <th>...</th>\n",
       "      <td>...</td>\n",
       "      <td>...</td>\n",
       "      <td>...</td>\n",
       "      <td>...</td>\n",
       "      <td>...</td>\n",
       "      <td>...</td>\n",
       "      <td>...</td>\n",
       "      <td>...</td>\n",
       "      <td>...</td>\n",
       "      <td>...</td>\n",
       "      <td>...</td>\n",
       "    </tr>\n",
       "    <tr>\n",
       "      <th>18767</th>\n",
       "      <td></td>\n",
       "      <td>iPad Mini 4 Case, Aceguarder New Design [Dirtp...</td>\n",
       "      <td>[https://images-na.ssl-images-amazon.com/image...</td>\n",
       "      <td></td>\n",
       "      <td>[&gt;#372,769 in Electronics (See Top 100 in Elec...</td>\n",
       "      <td>July 11, 2016</td>\n",
       "      <td>B01HI72XZW</td>\n",
       "      <td></td>\n",
       "      <td></td>\n",
       "      <td>2016-07-11</td>\n",
       "      <td>372769</td>\n",
       "    </tr>\n",
       "    <tr>\n",
       "      <th>18768</th>\n",
       "      <td></td>\n",
       "      <td>MIJIU Nylon Canvas Military Tactical Men Waist...</td>\n",
       "      <td>[https://images-na.ssl-images-amazon.com/image...</td>\n",
       "      <td></td>\n",
       "      <td>[&gt;#308,759 in Electronics (See Top 100 in Elec...</td>\n",
       "      <td>June 29, 2016</td>\n",
       "      <td>B01HIEI83Q</td>\n",
       "      <td></td>\n",
       "      <td></td>\n",
       "      <td>2016-06-29</td>\n",
       "      <td>308759</td>\n",
       "    </tr>\n",
       "    <tr>\n",
       "      <th>18769</th>\n",
       "      <td>[Deadpool is a mercenary and anti-hero appeari...</td>\n",
       "      <td>Marvel Deadpool Laptop Backpack</td>\n",
       "      <td>[https://images-na.ssl-images-amazon.com/image...</td>\n",
       "      <td>Bioworld</td>\n",
       "      <td>[&gt;#4,064 in Computers &amp; Accessories (See top 1...</td>\n",
       "      <td>June 24, 2016</td>\n",
       "      <td>B01HIQYNJM</td>\n",
       "      <td>[Officially Licensed, One main zippered compar...</td>\n",
       "      <td>Deadpool is a mercenary and anti-hero appearin...</td>\n",
       "      <td>2016-06-24</td>\n",
       "      <td>4064</td>\n",
       "    </tr>\n",
       "    <tr>\n",
       "      <th>18770</th>\n",
       "      <td></td>\n",
       "      <td>Funnel Cup (Ultra Pink)</td>\n",
       "      <td>[https://images-na.ssl-images-amazon.com/image...</td>\n",
       "      <td>JDDZ</td>\n",
       "      <td>[&gt;#449,492 in Electronics (See Top 100 in Elec...</td>\n",
       "      <td>March 5, 2017</td>\n",
       "      <td>B01HIWBL46</td>\n",
       "      <td></td>\n",
       "      <td></td>\n",
       "      <td>2017-03-05</td>\n",
       "      <td>449492</td>\n",
       "    </tr>\n",
       "    <tr>\n",
       "      <th>18771</th>\n",
       "      <td></td>\n",
       "      <td>Linux Ubuntu 16.04 Desktop Server 32bit 64bit ...</td>\n",
       "      <td>[https://images-na.ssl-images-amazon.com/image...</td>\n",
       "      <td>Generic</td>\n",
       "      <td>[&gt;#278,362 in Electronics (See Top 100 in Elec...</td>\n",
       "      <td>March 16, 2017</td>\n",
       "      <td>B01HJ49FSW</td>\n",
       "      <td></td>\n",
       "      <td></td>\n",
       "      <td>2017-03-16</td>\n",
       "      <td>278362</td>\n",
       "    </tr>\n",
       "  </tbody>\n",
       "</table>\n",
       "<p>18637 rows × 11 columns</p>\n",
       "</div>"
      ],
      "text/plain": [
       "                                             description  \\\n",
       "0          [Brand new. Still in factory-sealed plastic.]   \n",
       "1      [If you're already a Photoshop user and want a...   \n",
       "2      [School To Home Notes: Note From the Teacher!\\...   \n",
       "3      [Dooqi is a young brand specializing in high-e...   \n",
       "4                                    [Cover for Nook HD]   \n",
       "...                                                  ...   \n",
       "18767                                                      \n",
       "18768                                                      \n",
       "18769  [Deadpool is a mercenary and anti-hero appeari...   \n",
       "18770                                                      \n",
       "18771                                                      \n",
       "\n",
       "                                                   title  \\\n",
       "0      Kelby Training DVD: The Adobe Photoshop CS5 7-...   \n",
       "1      Kelby Training DVD: Adobe Photoshop CS5 Power ...   \n",
       "2      TEACHERS FRIEND NOTE FROM THE TEACHER SCHOOL T...   \n",
       "3      [3-pack]Ipad Mini Screen Protector, Dooqi Scre...   \n",
       "4                                Hd+ Cheetah Cover- Nook   \n",
       "...                                                  ...   \n",
       "18767  iPad Mini 4 Case, Aceguarder New Design [Dirtp...   \n",
       "18768  MIJIU Nylon Canvas Military Tactical Men Waist...   \n",
       "18769                    Marvel Deadpool Laptop Backpack   \n",
       "18770                            Funnel Cup (Ultra Pink)   \n",
       "18771  Linux Ubuntu 16.04 Desktop Server 32bit 64bit ...   \n",
       "\n",
       "                                                   image            brand  \\\n",
       "0      [https://images-na.ssl-images-amazon.com/image...   Kelby Training   \n",
       "1      [https://images-na.ssl-images-amazon.com/image...   Kelby Training   \n",
       "2      [https://images-na.ssl-images-amazon.com/image...  TEACHERS FRIEND   \n",
       "3      [https://images-na.ssl-images-amazon.com/image...            dooqi   \n",
       "4                                                                    Nook   \n",
       "...                                                  ...              ...   \n",
       "18767  [https://images-na.ssl-images-amazon.com/image...                    \n",
       "18768  [https://images-na.ssl-images-amazon.com/image...                    \n",
       "18769  [https://images-na.ssl-images-amazon.com/image...         Bioworld   \n",
       "18770  [https://images-na.ssl-images-amazon.com/image...             JDDZ   \n",
       "18771  [https://images-na.ssl-images-amazon.com/image...          Generic   \n",
       "\n",
       "                                                    rank                date  \\\n",
       "0      [>#654,681 in Electronics (See Top 100 in Elec...    December 2, 2011   \n",
       "1      [>#830,165 in Electronics (See Top 100 in Elec...    November 7, 2011   \n",
       "2      [>#1,233,887 in Electronics (See Top 100 in El...        June 6, 2007   \n",
       "3      [>#454,595 in Electronics (See Top 100 in Elec...    December 5, 2014   \n",
       "4      [>#85,661 in Computers & Accessories (See top ...  September 11, 2013   \n",
       "...                                                  ...                 ...   \n",
       "18767  [>#372,769 in Electronics (See Top 100 in Elec...       July 11, 2016   \n",
       "18768  [>#308,759 in Electronics (See Top 100 in Elec...       June 29, 2016   \n",
       "18769  [>#4,064 in Computers & Accessories (See top 1...       June 24, 2016   \n",
       "18770  [>#449,492 in Electronics (See Top 100 in Elec...       March 5, 2017   \n",
       "18771  [>#278,362 in Electronics (See Top 100 in Elec...      March 16, 2017   \n",
       "\n",
       "             asin                                            feature  \\\n",
       "0      0321732960                                                      \n",
       "1      0321735722                                                      \n",
       "2      0439651859                                                      \n",
       "3      0545729971  [Hard coated for Scratch Proof (Hardness: 4H),...   \n",
       "4      0594450284                                    [Cheetah cover]   \n",
       "...           ...                                                ...   \n",
       "18767  B01HI72XZW                                                      \n",
       "18768  B01HIEI83Q                                                      \n",
       "18769  B01HIQYNJM  [Officially Licensed, One main zippered compar...   \n",
       "18770  B01HIWBL46                                                      \n",
       "18771  B01HJ49FSW                                                      \n",
       "\n",
       "                                           description_1 date_formatted  \\\n",
       "0            Brand new. Still in factory-sealed plastic.     2011-12-02   \n",
       "1      \"If you're already a Photoshop user and want a...     2011-11-07   \n",
       "2      School To Home Notes: Note From the Teacher!\\\\...     2007-06-06   \n",
       "3      \"Dooqi is a young brand specializing in high-e...     2014-12-05   \n",
       "4                                      Cover for Nook HD     2013-09-11   \n",
       "...                                                  ...            ...   \n",
       "18767                                                        2016-07-11   \n",
       "18768                                                        2016-06-29   \n",
       "18769  Deadpool is a mercenary and anti-hero appearin...     2016-06-24   \n",
       "18770                                                        2017-03-05   \n",
       "18771                                                        2017-03-16   \n",
       "\n",
       "          rank1  \n",
       "0       654681   \n",
       "1       830165   \n",
       "2      1233887   \n",
       "3       454595   \n",
       "4        85661   \n",
       "...         ...  \n",
       "18767   372769   \n",
       "18768   308759   \n",
       "18769     4064   \n",
       "18770   449492   \n",
       "18771   278362   \n",
       "\n",
       "[18637 rows x 11 columns]"
      ]
     },
     "execution_count": 46,
     "metadata": {},
     "output_type": "execute_result"
    }
   ],
   "source": [
    "df5"
   ]
  },
  {
   "cell_type": "code",
   "execution_count": 47,
   "id": "51c386db",
   "metadata": {},
   "outputs": [],
   "source": [
    "df6=df5[df5[\"rank1\"]!='']"
   ]
  },
  {
   "cell_type": "code",
   "execution_count": 48,
   "id": "dbb8b4dd",
   "metadata": {
    "scrolled": true
   },
   "outputs": [
    {
     "name": "stderr",
     "output_type": "stream",
     "text": [
      "/tmp/ipykernel_3076/2319163233.py:1: SettingWithCopyWarning: \n",
      "A value is trying to be set on a copy of a slice from a DataFrame.\n",
      "Try using .loc[row_indexer,col_indexer] = value instead\n",
      "\n",
      "See the caveats in the documentation: https://pandas.pydata.org/pandas-docs/stable/user_guide/indexing.html#returning-a-view-versus-a-copy\n",
      "  df6[\"rank1\"]=df6[\"rank1\"].astype(\"int64\")\n"
     ]
    }
   ],
   "source": [
    "df6[\"rank1\"]=df6[\"rank1\"].astype(\"int64\")"
   ]
  },
  {
   "cell_type": "code",
   "execution_count": 52,
   "id": "2f63bd00",
   "metadata": {},
   "outputs": [
    {
     "data": {
      "text/plain": [
       "9464714"
      ]
     },
     "execution_count": 52,
     "metadata": {},
     "output_type": "execute_result"
    }
   ],
   "source": [
    "df6.rank1.max()"
   ]
  },
  {
   "cell_type": "code",
   "execution_count": 53,
   "id": "5b1abee8",
   "metadata": {},
   "outputs": [
    {
     "data": {
      "text/html": [
       "<div>\n",
       "<style scoped>\n",
       "    .dataframe tbody tr th:only-of-type {\n",
       "        vertical-align: middle;\n",
       "    }\n",
       "\n",
       "    .dataframe tbody tr th {\n",
       "        vertical-align: top;\n",
       "    }\n",
       "\n",
       "    .dataframe thead th {\n",
       "        text-align: right;\n",
       "    }\n",
       "</style>\n",
       "<table border=\"1\" class=\"dataframe\">\n",
       "  <thead>\n",
       "    <tr style=\"text-align: right;\">\n",
       "      <th></th>\n",
       "      <th>description</th>\n",
       "      <th>title</th>\n",
       "      <th>image</th>\n",
       "      <th>brand</th>\n",
       "      <th>rank</th>\n",
       "      <th>date</th>\n",
       "      <th>asin</th>\n",
       "      <th>feature</th>\n",
       "      <th>description_1</th>\n",
       "      <th>date_formatted</th>\n",
       "      <th>rank1</th>\n",
       "    </tr>\n",
       "  </thead>\n",
       "  <tbody>\n",
       "    <tr>\n",
       "      <th>13181</th>\n",
       "      <td>[Nothing says \"Game Over\" for the Xbox One exp...</td>\n",
       "      <td>Seagate Game Drive for Xbox 2TB Green (STEA200...</td>\n",
       "      <td>[https://images-na.ssl-images-amazon.com/image...</td>\n",
       "      <td>Seagate</td>\n",
       "      <td>[&gt;#54 in Computers &amp; Accessories (See top 100)]</td>\n",
       "      <td>August 5, 2015</td>\n",
       "      <td>B01065S79E</td>\n",
       "      <td>[Works flawlessly with Xbox One and Xbox 360, ...</td>\n",
       "      <td>Nothing says \"Game Over\" for the Xbox One expe...</td>\n",
       "      <td>2015-08-05</td>\n",
       "      <td>54</td>\n",
       "    </tr>\n",
       "    <tr>\n",
       "      <th>18609</th>\n",
       "      <td>[This Bundle is only designed for Apple Pencil...</td>\n",
       "      <td>[3-Piece] Fintie Bundle for Apple Pencil Cap H...</td>\n",
       "      <td>[https://images-na.ssl-images-amazon.com/image...</td>\n",
       "      <td>Fintie</td>\n",
       "      <td>[&gt;#259 in Electronics (See Top 100 in Electron...</td>\n",
       "      <td>June 17, 2016</td>\n",
       "      <td>B01H6Q03IY</td>\n",
       "      <td>[Made of silicone rubber, durable. Easy to ins...</td>\n",
       "      <td>\"This Bundle is only designed for Apple Pencil...</td>\n",
       "      <td>2016-06-17</td>\n",
       "      <td>259</td>\n",
       "    </tr>\n",
       "    <tr>\n",
       "      <th>17337</th>\n",
       "      <td>[Logitech Wireless Touch Keyboard K400 Plus La...</td>\n",
       "      <td>Logitech Wireless Touch Keyboard K400 Plus wit...</td>\n",
       "      <td>[https://images-na.ssl-images-amazon.com/image...</td>\n",
       "      <td>Logitech</td>\n",
       "      <td>[&gt;#307 in Computers &amp; Accessories (See top 100)]</td>\n",
       "      <td>April 8, 2016</td>\n",
       "      <td>B01E0BUPW2</td>\n",
       "      <td>[Certified Refurbished product is tested &amp; cer...</td>\n",
       "      <td>Logitech Wireless Touch Keyboard K400 Plus Lai...</td>\n",
       "      <td>2016-04-08</td>\n",
       "      <td>307</td>\n",
       "    </tr>\n",
       "    <tr>\n",
       "      <th>5859</th>\n",
       "      <td>[Micro USB Host OTG Cable with Micro USB Power...</td>\n",
       "      <td>DSYJ Micro USB Host OTG Cable with Micro USB P...</td>\n",
       "      <td></td>\n",
       "      <td>DSYJ</td>\n",
       "      <td>[&gt;#333 in Computers &amp; Accessories (See top 100)]</td>\n",
       "      <td>May 21, 2013</td>\n",
       "      <td>B00CXAC1ZW</td>\n",
       "      <td>[Plastic, Imported, Plastic, Imported, Micro U...</td>\n",
       "      <td>Micro USB Host OTG Cable with Micro USB Power ...</td>\n",
       "      <td>2013-05-21</td>\n",
       "      <td>333</td>\n",
       "    </tr>\n",
       "    <tr>\n",
       "      <th>14412</th>\n",
       "      <td>[SHD(Super High-Definition )Pursuit of High De...</td>\n",
       "      <td>RJ45 Connectors,SHD Cat6 Connector Cat5e Conne...</td>\n",
       "      <td>[https://images-na.ssl-images-amazon.com/image...</td>\n",
       "      <td>SHD</td>\n",
       "      <td>[&gt;#367 in Electronics (See Top 100 in Electron...</td>\n",
       "      <td>November 9, 2017</td>\n",
       "      <td>B015OBFQNK</td>\n",
       "      <td>[SHD 100PCS RJ45 Connectors Modular Plug Clear...</td>\n",
       "      <td>SHD(Super High-Definition )Pursuit of High Def...</td>\n",
       "      <td>2017-11-09</td>\n",
       "      <td>367</td>\n",
       "    </tr>\n",
       "    <tr>\n",
       "      <th>...</th>\n",
       "      <td>...</td>\n",
       "      <td>...</td>\n",
       "      <td>...</td>\n",
       "      <td>...</td>\n",
       "      <td>...</td>\n",
       "      <td>...</td>\n",
       "      <td>...</td>\n",
       "      <td>...</td>\n",
       "      <td>...</td>\n",
       "      <td>...</td>\n",
       "      <td>...</td>\n",
       "    </tr>\n",
       "    <tr>\n",
       "      <th>15219</th>\n",
       "      <td>[There are two Network Display amplifiers: the...</td>\n",
       "      <td>Crown DCi 8|600ND | 8 Channel AVB Power Amplif...</td>\n",
       "      <td>[https://images-na.ssl-images-amazon.com/image...</td>\n",
       "      <td>Crown</td>\n",
       "      <td>[&gt;#2,009,707 in Electronics (See Top 100 in El...</td>\n",
       "      <td>March 1, 2016</td>\n",
       "      <td>B017X020NO</td>\n",
       "      <td>[Crowns DriveCore technology includes five pat...</td>\n",
       "      <td>There are two Network Display amplifiers: the ...</td>\n",
       "      <td>2016-03-01</td>\n",
       "      <td>2009707</td>\n",
       "    </tr>\n",
       "    <tr>\n",
       "      <th>15559</th>\n",
       "      <td></td>\n",
       "      <td>Sling Handle Grip Long Shaped With Strap - Uni...</td>\n",
       "      <td>[https://images-na.ssl-images-amazon.com/image...</td>\n",
       "      <td>SaiTech IT</td>\n",
       "      <td>[&gt;#2,009,897 in Electronics (See Top 100 in El...</td>\n",
       "      <td>June 16, 2016</td>\n",
       "      <td>B0194WKAYA</td>\n",
       "      <td></td>\n",
       "      <td></td>\n",
       "      <td>2016-06-16</td>\n",
       "      <td>2009897</td>\n",
       "    </tr>\n",
       "    <tr>\n",
       "      <th>5136</th>\n",
       "      <td>[Protect Computer Products Ch1110-104 Cherry K...</td>\n",
       "      <td>Protect Computer Products Cherry Kb-0556/ku-05...</td>\n",
       "      <td></td>\n",
       "      <td>PROTECT COMPUTER PRODUCTS</td>\n",
       "      <td>[&gt;#2,010,923 in Electronics (See Top 100 in El...</td>\n",
       "      <td>December 26, 2012</td>\n",
       "      <td>B00AT4O39Q</td>\n",
       "      <td>[A quality product by PROTECT COMPUTER PRODUCT...</td>\n",
       "      <td>Protect Computer Products Ch1110-104 Cherry Kb...</td>\n",
       "      <td>2012-12-26</td>\n",
       "      <td>2010923</td>\n",
       "    </tr>\n",
       "    <tr>\n",
       "      <th>15494</th>\n",
       "      <td></td>\n",
       "      <td>Liili Mouse Pad Natural Rubber Mousepad Basket...</td>\n",
       "      <td>[https://images-na.ssl-images-amazon.com/image...</td>\n",
       "      <td>Liili Inc</td>\n",
       "      <td>[&gt;#2,033,187 in Office Products (See Top 100 i...</td>\n",
       "      <td>May 19, 2016</td>\n",
       "      <td>B018WYMD2S</td>\n",
       "      <td></td>\n",
       "      <td></td>\n",
       "      <td>2016-05-19</td>\n",
       "      <td>2033187</td>\n",
       "    </tr>\n",
       "    <tr>\n",
       "      <th>7670</th>\n",
       "      <td>[City Threads 3-Pocket Shorts (Baby) - Charcoa...</td>\n",
       "      <td>City Threads 3-Pocket Shorts (Baby) - Charcoal...</td>\n",
       "      <td>[https://images-na.ssl-images-amazon.com/image...</td>\n",
       "      <td>City Threads</td>\n",
       "      <td>[&gt;#9,464,714 in Home &amp; Kitchen (See Top 100 in...</td>\n",
       "      <td>July 23, 2014</td>\n",
       "      <td>B00IMO964C</td>\n",
       "      <td></td>\n",
       "      <td>City Threads 3-Pocket Shorts (Baby) - Charcoal...</td>\n",
       "      <td>2014-07-23</td>\n",
       "      <td>9464714</td>\n",
       "    </tr>\n",
       "  </tbody>\n",
       "</table>\n",
       "<p>17952 rows × 11 columns</p>\n",
       "</div>"
      ],
      "text/plain": [
       "                                             description  \\\n",
       "13181  [Nothing says \"Game Over\" for the Xbox One exp...   \n",
       "18609  [This Bundle is only designed for Apple Pencil...   \n",
       "17337  [Logitech Wireless Touch Keyboard K400 Plus La...   \n",
       "5859   [Micro USB Host OTG Cable with Micro USB Power...   \n",
       "14412  [SHD(Super High-Definition )Pursuit of High De...   \n",
       "...                                                  ...   \n",
       "15219  [There are two Network Display amplifiers: the...   \n",
       "15559                                                      \n",
       "5136   [Protect Computer Products Ch1110-104 Cherry K...   \n",
       "15494                                                      \n",
       "7670   [City Threads 3-Pocket Shorts (Baby) - Charcoa...   \n",
       "\n",
       "                                                   title  \\\n",
       "13181  Seagate Game Drive for Xbox 2TB Green (STEA200...   \n",
       "18609  [3-Piece] Fintie Bundle for Apple Pencil Cap H...   \n",
       "17337  Logitech Wireless Touch Keyboard K400 Plus wit...   \n",
       "5859   DSYJ Micro USB Host OTG Cable with Micro USB P...   \n",
       "14412  RJ45 Connectors,SHD Cat6 Connector Cat5e Conne...   \n",
       "...                                                  ...   \n",
       "15219  Crown DCi 8|600ND | 8 Channel AVB Power Amplif...   \n",
       "15559  Sling Handle Grip Long Shaped With Strap - Uni...   \n",
       "5136   Protect Computer Products Cherry Kb-0556/ku-05...   \n",
       "15494  Liili Mouse Pad Natural Rubber Mousepad Basket...   \n",
       "7670   City Threads 3-Pocket Shorts (Baby) - Charcoal...   \n",
       "\n",
       "                                                   image  \\\n",
       "13181  [https://images-na.ssl-images-amazon.com/image...   \n",
       "18609  [https://images-na.ssl-images-amazon.com/image...   \n",
       "17337  [https://images-na.ssl-images-amazon.com/image...   \n",
       "5859                                                       \n",
       "14412  [https://images-na.ssl-images-amazon.com/image...   \n",
       "...                                                  ...   \n",
       "15219  [https://images-na.ssl-images-amazon.com/image...   \n",
       "15559  [https://images-na.ssl-images-amazon.com/image...   \n",
       "5136                                                       \n",
       "15494  [https://images-na.ssl-images-amazon.com/image...   \n",
       "7670   [https://images-na.ssl-images-amazon.com/image...   \n",
       "\n",
       "                           brand  \\\n",
       "13181                    Seagate   \n",
       "18609                     Fintie   \n",
       "17337                   Logitech   \n",
       "5859                        DSYJ   \n",
       "14412                        SHD   \n",
       "...                          ...   \n",
       "15219                      Crown   \n",
       "15559                 SaiTech IT   \n",
       "5136   PROTECT COMPUTER PRODUCTS   \n",
       "15494                  Liili Inc   \n",
       "7670                City Threads   \n",
       "\n",
       "                                                    rank               date  \\\n",
       "13181    [>#54 in Computers & Accessories (See top 100)]     August 5, 2015   \n",
       "18609  [>#259 in Electronics (See Top 100 in Electron...      June 17, 2016   \n",
       "17337   [>#307 in Computers & Accessories (See top 100)]      April 8, 2016   \n",
       "5859    [>#333 in Computers & Accessories (See top 100)]       May 21, 2013   \n",
       "14412  [>#367 in Electronics (See Top 100 in Electron...   November 9, 2017   \n",
       "...                                                  ...                ...   \n",
       "15219  [>#2,009,707 in Electronics (See Top 100 in El...      March 1, 2016   \n",
       "15559  [>#2,009,897 in Electronics (See Top 100 in El...      June 16, 2016   \n",
       "5136   [>#2,010,923 in Electronics (See Top 100 in El...  December 26, 2012   \n",
       "15494  [>#2,033,187 in Office Products (See Top 100 i...       May 19, 2016   \n",
       "7670   [>#9,464,714 in Home & Kitchen (See Top 100 in...      July 23, 2014   \n",
       "\n",
       "             asin                                            feature  \\\n",
       "13181  B01065S79E  [Works flawlessly with Xbox One and Xbox 360, ...   \n",
       "18609  B01H6Q03IY  [Made of silicone rubber, durable. Easy to ins...   \n",
       "17337  B01E0BUPW2  [Certified Refurbished product is tested & cer...   \n",
       "5859   B00CXAC1ZW  [Plastic, Imported, Plastic, Imported, Micro U...   \n",
       "14412  B015OBFQNK  [SHD 100PCS RJ45 Connectors Modular Plug Clear...   \n",
       "...           ...                                                ...   \n",
       "15219  B017X020NO  [Crowns DriveCore technology includes five pat...   \n",
       "15559  B0194WKAYA                                                      \n",
       "5136   B00AT4O39Q  [A quality product by PROTECT COMPUTER PRODUCT...   \n",
       "15494  B018WYMD2S                                                      \n",
       "7670   B00IMO964C                                                      \n",
       "\n",
       "                                           description_1 date_formatted  \\\n",
       "13181  Nothing says \"Game Over\" for the Xbox One expe...     2015-08-05   \n",
       "18609  \"This Bundle is only designed for Apple Pencil...     2016-06-17   \n",
       "17337  Logitech Wireless Touch Keyboard K400 Plus Lai...     2016-04-08   \n",
       "5859   Micro USB Host OTG Cable with Micro USB Power ...     2013-05-21   \n",
       "14412  SHD(Super High-Definition )Pursuit of High Def...     2017-11-09   \n",
       "...                                                  ...            ...   \n",
       "15219  There are two Network Display amplifiers: the ...     2016-03-01   \n",
       "15559                                                        2016-06-16   \n",
       "5136   Protect Computer Products Ch1110-104 Cherry Kb...     2012-12-26   \n",
       "15494                                                        2016-05-19   \n",
       "7670   City Threads 3-Pocket Shorts (Baby) - Charcoal...     2014-07-23   \n",
       "\n",
       "         rank1  \n",
       "13181       54  \n",
       "18609      259  \n",
       "17337      307  \n",
       "5859       333  \n",
       "14412      367  \n",
       "...        ...  \n",
       "15219  2009707  \n",
       "15559  2009897  \n",
       "5136   2010923  \n",
       "15494  2033187  \n",
       "7670   9464714  \n",
       "\n",
       "[17952 rows x 11 columns]"
      ]
     },
     "execution_count": 53,
     "metadata": {},
     "output_type": "execute_result"
    }
   ],
   "source": [
    "df6.sort_values(\"rank1\")"
   ]
  },
  {
   "cell_type": "code",
   "execution_count": 54,
   "id": "48fd1010",
   "metadata": {},
   "outputs": [
    {
     "name": "stderr",
     "output_type": "stream",
     "text": [
      "/tmp/ipykernel_3076/1711478850.py:1: SettingWithCopyWarning: \n",
      "A value is trying to be set on a copy of a slice from a DataFrame.\n",
      "Try using .loc[row_indexer,col_indexer] = value instead\n",
      "\n",
      "See the caveats in the documentation: https://pandas.pydata.org/pandas-docs/stable/user_guide/indexing.html#returning-a-view-versus-a-copy\n",
      "  df6[\"title_count\"] = df6[\"title\"].map(lambda x: len(x))\n"
     ]
    }
   ],
   "source": [
    "df6[\"title_count\"] = df6[\"title\"].map(lambda x: len(x))"
   ]
  },
  {
   "cell_type": "code",
   "execution_count": 57,
   "id": "e7410aed",
   "metadata": {
    "scrolled": true
   },
   "outputs": [
    {
     "name": "stderr",
     "output_type": "stream",
     "text": [
      "/tmp/ipykernel_3076/1829239013.py:1: SettingWithCopyWarning: \n",
      "A value is trying to be set on a copy of a slice from a DataFrame.\n",
      "Try using .loc[row_indexer,col_indexer] = value instead\n",
      "\n",
      "See the caveats in the documentation: https://pandas.pydata.org/pandas-docs/stable/user_guide/indexing.html#returning-a-view-versus-a-copy\n",
      "  df6[\"desc_count\"] = df6[\"description_1\"].map(lambda x: len(x))\n",
      "/tmp/ipykernel_3076/1829239013.py:2: SettingWithCopyWarning: \n",
      "A value is trying to be set on a copy of a slice from a DataFrame.\n",
      "Try using .loc[row_indexer,col_indexer] = value instead\n",
      "\n",
      "See the caveats in the documentation: https://pandas.pydata.org/pandas-docs/stable/user_guide/indexing.html#returning-a-view-versus-a-copy\n",
      "  df6[\"img_count\"] = df6[\"image\"].map(lambda x: len(x))\n"
     ]
    }
   ],
   "source": [
    "df6[\"desc_count\"] = df6[\"description_1\"].map(lambda x: len(x))\n",
    "df6[\"img_count\"] = df6[\"image\"].map(lambda x: len(x))"
   ]
  },
  {
   "cell_type": "code",
   "execution_count": 67,
   "id": "d90a5949",
   "metadata": {},
   "outputs": [
    {
     "data": {
      "text/plain": [
       "7744    Replacement keyboard compatible with ASUS A52 ...\n",
       "Name: title, dtype: object"
      ]
     },
     "execution_count": 67,
     "metadata": {},
     "output_type": "execute_result"
    }
   ],
   "source": [
    "df6[df6['title_count'] == 2000]['title']"
   ]
  },
  {
   "cell_type": "code",
   "execution_count": 182,
   "id": "e09937cd",
   "metadata": {},
   "outputs": [
    {
     "data": {
      "text/plain": [
       "['>#1,669,621 in Electronics (See Top 100 in Electronics)']"
      ]
     },
     "execution_count": 182,
     "metadata": {},
     "output_type": "execute_result"
    }
   ],
   "source": [
    "df6[['rank']].iloc[500][0]"
   ]
  },
  {
   "cell_type": "code",
   "execution_count": 59,
   "id": "be4fac58",
   "metadata": {},
   "outputs": [],
   "source": [
    "df6=df5[df5[\"rank1\"]!=\"\"]"
   ]
  },
  {
   "cell_type": "code",
   "execution_count": 71,
   "id": "44ad272f",
   "metadata": {},
   "outputs": [
    {
     "name": "stderr",
     "output_type": "stream",
     "text": [
      "/tmp/ipykernel_3076/3078922460.py:1: SettingWithCopyWarning: \n",
      "A value is trying to be set on a copy of a slice from a DataFrame.\n",
      "Try using .loc[row_indexer,col_indexer] = value instead\n",
      "\n",
      "See the caveats in the documentation: https://pandas.pydata.org/pandas-docs/stable/user_guide/indexing.html#returning-a-view-versus-a-copy\n",
      "  df6['brand_cat']=df6.brand.map(lambda x : 0 if len(x) <1 else 1)\n"
     ]
    }
   ],
   "source": [
    "df6['brand_cat']=df6.brand.map(lambda x : 0 if len(x) <1 else 1)\n"
   ]
  },
  {
   "cell_type": "code",
   "execution_count": 68,
   "id": "6b0ef639",
   "metadata": {},
   "outputs": [],
   "source": [
    "from sklearn.linear_model import LinearRegression\n",
    "from sklearn.model_selection import train_test_split\n"
   ]
  },
  {
   "cell_type": "code",
   "execution_count": 97,
   "id": "4d9aa999",
   "metadata": {
    "scrolled": true
   },
   "outputs": [
    {
     "data": {
      "text/plain": [
       "((12566, 4), (5386, 4))"
      ]
     },
     "execution_count": 97,
     "metadata": {},
     "output_type": "execute_result"
    }
   ],
   "source": [
    "X = df6[[\"brand_cat\",\"title_count\",\"desc_count\",\"img_count\"]]\n",
    "X_2 = df6[[\"title_count\",\"desc_count\",\"img_count\"]]\n",
    "\n",
    "# y = df6[[\"rank1\"]].astype(\"int64\")\n",
    "y=df6.rank1\n",
    "         \n",
    "         \n",
    "X_train,X_test,y_train,y_test = train_test_split(X,y,test_size=0.3)\n",
    "X_train.shape,X_test.shape"
   ]
  },
  {
   "cell_type": "code",
   "execution_count": 83,
   "id": "f17870d4",
   "metadata": {},
   "outputs": [],
   "source": [
    "X_train_2,X_test_2,y_train,y_test = train_test_split(X_2,y,test_size=0.3)"
   ]
  },
  {
   "cell_type": "code",
   "execution_count": 73,
   "id": "6369df90",
   "metadata": {},
   "outputs": [
    {
     "name": "stdout",
     "output_type": "stream",
     "text": [
      "<class 'pandas.core.series.Series'>\n",
      "Int64Index: 17952 entries, 0 to 18771\n",
      "Series name: rank1\n",
      "Non-Null Count  Dtype\n",
      "--------------  -----\n",
      "17952 non-null  int64\n",
      "dtypes: int64(1)\n",
      "memory usage: 280.5 KB\n"
     ]
    }
   ],
   "source": [
    "y.info()\n",
    "# y=df6.rank1"
   ]
  },
  {
   "cell_type": "code",
   "execution_count": 105,
   "id": "1a27fc91",
   "metadata": {},
   "outputs": [
    {
     "data": {
      "text/plain": [
       "0.0963400054523309"
      ]
     },
     "execution_count": 105,
     "metadata": {},
     "output_type": "execute_result"
    }
   ],
   "source": [
    "model = LinearRegression().fit(X_train, y_train)\n",
    "model.score(X_test,y_test)"
   ]
  },
  {
   "cell_type": "code",
   "execution_count": 69,
   "id": "fb0a249e",
   "metadata": {},
   "outputs": [],
   "source": [
    "import matplotlib.pyplot as plt"
   ]
  },
  {
   "cell_type": "code",
   "execution_count": 123,
   "id": "550d8cf3",
   "metadata": {},
   "outputs": [
    {
     "data": {
      "text/plain": [
       "0       2011-12-02\n",
       "1       2011-11-07\n",
       "2       2007-06-06\n",
       "3       2014-12-05\n",
       "4       2013-09-11\n",
       "           ...    \n",
       "18767   2016-07-11\n",
       "18768   2016-06-29\n",
       "18769   2016-06-24\n",
       "18770   2017-03-05\n",
       "18771   2017-03-16\n",
       "Name: date_formatted, Length: 17952, dtype: datetime64[ns]"
      ]
     },
     "execution_count": 123,
     "metadata": {},
     "output_type": "execute_result"
    }
   ],
   "source": [
    "df6.date_formatted"
   ]
  },
  {
   "cell_type": "code",
   "execution_count": 121,
   "id": "b1c26441",
   "metadata": {
    "scrolled": true
   },
   "outputs": [
    {
     "data": {
      "text/plain": [
       "description       462\n",
       "title             462\n",
       "image             462\n",
       "brand             462\n",
       "rank              462\n",
       "date              462\n",
       "asin              462\n",
       "feature           462\n",
       "description_1     462\n",
       "date_formatted    462\n",
       "rank1             462\n",
       "title_count       462\n",
       "desc_count        462\n",
       "img_count         462\n",
       "brand_cat         462\n",
       "dtype: int64"
      ]
     },
     "execution_count": 121,
     "metadata": {},
     "output_type": "execute_result"
    }
   ],
   "source": [
    "df6[df6.brand_cat == 0].count()"
   ]
  },
  {
   "cell_type": "code",
   "execution_count": 99,
   "id": "edea97f9",
   "metadata": {},
   "outputs": [],
   "source": [
    "from sklearn.decomposition import PCA"
   ]
  },
  {
   "cell_type": "code",
   "execution_count": 102,
   "id": "e5a10f7e",
   "metadata": {
    "scrolled": true
   },
   "outputs": [
    {
     "data": {
      "text/plain": [
       "0.0963400054523309"
      ]
     },
     "execution_count": 102,
     "metadata": {},
     "output_type": "execute_result"
    }
   ],
   "source": [
    "pca = PCA()\n",
    "\n",
    "X_pca = pca.fit_transform(X_train)\n",
    "X_pca_test = pca.transform(X_test)\n",
    "model_pca = LinearRegression().fit(X_pca,y_train)\n",
    "model_pca.score(X_pca_test,y_test)\n",
    "\n",
    "\n",
    "\n"
   ]
  },
  {
   "cell_type": "code",
   "execution_count": 103,
   "id": "776a6808",
   "metadata": {},
   "outputs": [],
   "source": [
    "from sklearn.preprocessing import StandardScaler"
   ]
  },
  {
   "cell_type": "code",
   "execution_count": 107,
   "id": "d2892bf0",
   "metadata": {
    "scrolled": true
   },
   "outputs": [
    {
     "data": {
      "text/plain": [
       "array([-4607.18599956,  7069.0821019 ,   699.36408325])"
      ]
     },
     "execution_count": 107,
     "metadata": {},
     "output_type": "execute_result"
    }
   ],
   "source": [
    "scaler = StandardScaler()\n",
    "X_scaled_train = scaler.fit_transform(X_train_2)\n",
    "X_scaled_test = scaler.transform(X_test_2)\n",
    "\n",
    "model_3 = LinearRegression().fit(X_scaled_train,y_train)\n",
    "model_3.coef_"
   ]
  },
  {
   "cell_type": "code",
   "execution_count": 112,
   "id": "30af5e96",
   "metadata": {},
   "outputs": [
    {
     "data": {
      "text/plain": [
       "(259, 54)"
      ]
     },
     "execution_count": 112,
     "metadata": {},
     "output_type": "execute_result"
    }
   ],
   "source": [
    "y_test.min(),y_train.min()"
   ]
  },
  {
   "cell_type": "code",
   "execution_count": 116,
   "id": "a7e167e7",
   "metadata": {
    "scrolled": false
   },
   "outputs": [
    {
     "data": {
      "text/plain": [
       "(array([3111., 2369., 2128., 1477., 1008.,  647.,  615.,  576.,  420.,\n",
       "         215.]),\n",
       " array([5.4000000e+01, 2.0114090e+05, 4.0222780e+05, 6.0331470e+05,\n",
       "        8.0440160e+05, 1.0054885e+06, 1.2065754e+06, 1.4076623e+06,\n",
       "        1.6087492e+06, 1.8098361e+06, 2.0109230e+06]),\n",
       " <BarContainer object of 10 artists>)"
      ]
     },
     "execution_count": 116,
     "metadata": {},
     "output_type": "execute_result"
    },
    {
     "data": {
      "image/png": "[encoded data removed]",
      "text/plain": [
       "<Figure size 432x288 with 1 Axes>"
      ]
     },
     "metadata": {
      "needs_background": "light"
     },
     "output_type": "display_data"
    }
   ],
   "source": [
    "plt.hist(y_train,bins=10)"
   ]
  },
  {
   "cell_type": "code",
   "execution_count": 133,
   "id": "16275059",
   "metadata": {
    "scrolled": true
   },
   "outputs": [
    {
     "data": {
      "text/plain": [
       "['https://images-na.ssl-images-amazon.com/images/I/41yzF9MzX6L._SS40_.jpg',\n",
       " 'https://images-na.ssl-images-amazon.com/images/I/416WQCbmIVL._SS40_.jpg',\n",
       " 'https://images-na.ssl-images-amazon.com/images/I/312%2BeccTMFL._SS40_.jpg',\n",
       " 'https://images-na.ssl-images-amazon.com/images/I/41O0qXAJhNL._SS40_.jpg',\n",
       " 'https://images-na.ssl-images-amazon.com/images/I/41UMyob%2B9TL._SS40_.jpg',\n",
       " 'https://images-na.ssl-images-amazon.com/images/I/413E2hh0iNL._SS40_.jpg',\n",
       " 'https://images-na.ssl-images-amazon.com/images/I/41%2BzmBUIP1L._SS36_.jpg']"
      ]
     },
     "execution_count": 133,
     "metadata": {},
     "output_type": "execute_result"
    }
   ],
   "source": [
    "df6[df6.rank1 < 5000].image[616]"
   ]
  },
  {
   "cell_type": "code",
   "execution_count": 189,
   "id": "7e00d745",
   "metadata": {},
   "outputs": [],
   "source": [
    "predic_point = X_test.iloc[0]"
   ]
  },
  {
   "cell_type": "code",
   "execution_count": 193,
   "id": "05588b79",
   "metadata": {
    "scrolled": false
   },
   "outputs": [
    {
     "ename": "AttributeError",
     "evalue": "'Series' object has no attribute 'reshape'",
     "output_type": "error",
     "traceback": [
      "\u001b[0;31m---------------------------------------------------------------------------\u001b[0m",
      "\u001b[0;31mAttributeError\u001b[0m                            Traceback (most recent call last)",
      "Input \u001b[0;32mIn [193]\u001b[0m, in \u001b[0;36m<cell line: 1>\u001b[0;34m()\u001b[0m\n\u001b[0;32m----> 1\u001b[0m \u001b[43mpredic_point\u001b[49m\u001b[38;5;241;43m.\u001b[39;49m\u001b[43mreshape\u001b[49m(\u001b[38;5;241m1\u001b[39m, \u001b[38;5;241m-\u001b[39m\u001b[38;5;241m1\u001b[39m)\n",
      "File \u001b[0;32m~/.pyenv/versions/3.8.12/envs/deep_seo/lib/python3.8/site-packages/pandas/core/generic.py:5575\u001b[0m, in \u001b[0;36mNDFrame.__getattr__\u001b[0;34m(self, name)\u001b[0m\n\u001b[1;32m   5568\u001b[0m \u001b[38;5;28;01mif\u001b[39;00m (\n\u001b[1;32m   5569\u001b[0m     name \u001b[38;5;129;01mnot\u001b[39;00m \u001b[38;5;129;01min\u001b[39;00m \u001b[38;5;28mself\u001b[39m\u001b[38;5;241m.\u001b[39m_internal_names_set\n\u001b[1;32m   5570\u001b[0m     \u001b[38;5;129;01mand\u001b[39;00m name \u001b[38;5;129;01mnot\u001b[39;00m \u001b[38;5;129;01min\u001b[39;00m \u001b[38;5;28mself\u001b[39m\u001b[38;5;241m.\u001b[39m_metadata\n\u001b[1;32m   5571\u001b[0m     \u001b[38;5;129;01mand\u001b[39;00m name \u001b[38;5;129;01mnot\u001b[39;00m \u001b[38;5;129;01min\u001b[39;00m \u001b[38;5;28mself\u001b[39m\u001b[38;5;241m.\u001b[39m_accessors\n\u001b[1;32m   5572\u001b[0m     \u001b[38;5;129;01mand\u001b[39;00m \u001b[38;5;28mself\u001b[39m\u001b[38;5;241m.\u001b[39m_info_axis\u001b[38;5;241m.\u001b[39m_can_hold_identifiers_and_holds_name(name)\n\u001b[1;32m   5573\u001b[0m ):\n\u001b[1;32m   5574\u001b[0m     \u001b[38;5;28;01mreturn\u001b[39;00m \u001b[38;5;28mself\u001b[39m[name]\n\u001b[0;32m-> 5575\u001b[0m \u001b[38;5;28;01mreturn\u001b[39;00m \u001b[38;5;28;43mobject\u001b[39;49m\u001b[38;5;241;43m.\u001b[39;49m\u001b[38;5;21;43m__getattribute__\u001b[39;49m\u001b[43m(\u001b[49m\u001b[38;5;28;43mself\u001b[39;49m\u001b[43m,\u001b[49m\u001b[43m \u001b[49m\u001b[43mname\u001b[49m\u001b[43m)\u001b[49m\n",
      "\u001b[0;31mAttributeError\u001b[0m: 'Series' object has no attribute 'reshape'"
     ]
    }
   ],
   "source": []
  },
  {
   "cell_type": "code",
   "execution_count": 194,
   "id": "87942ef0",
   "metadata": {
    "scrolled": true
   },
   "outputs": [
    {
     "data": {
      "text/html": [
       "<div>\n",
       "<style scoped>\n",
       "    .dataframe tbody tr th:only-of-type {\n",
       "        vertical-align: middle;\n",
       "    }\n",
       "\n",
       "    .dataframe tbody tr th {\n",
       "        vertical-align: top;\n",
       "    }\n",
       "\n",
       "    .dataframe thead th {\n",
       "        text-align: right;\n",
       "    }\n",
       "</style>\n",
       "<table border=\"1\" class=\"dataframe\">\n",
       "  <thead>\n",
       "    <tr style=\"text-align: right;\">\n",
       "      <th></th>\n",
       "      <th>description</th>\n",
       "      <th>title</th>\n",
       "      <th>image</th>\n",
       "      <th>brand</th>\n",
       "      <th>rank</th>\n",
       "      <th>date</th>\n",
       "      <th>asin</th>\n",
       "      <th>feature</th>\n",
       "      <th>description_1</th>\n",
       "      <th>date_formatted</th>\n",
       "      <th>rank1</th>\n",
       "      <th>title_count</th>\n",
       "      <th>desc_count</th>\n",
       "      <th>img_count</th>\n",
       "      <th>brand_cat</th>\n",
       "    </tr>\n",
       "  </thead>\n",
       "  <tbody>\n",
       "    <tr>\n",
       "      <th>0</th>\n",
       "      <td>[Brand new. Still in factory-sealed plastic.]</td>\n",
       "      <td>Kelby Training DVD: The Adobe Photoshop CS5 7-...</td>\n",
       "      <td>[https://images-na.ssl-images-amazon.com/image...</td>\n",
       "      <td>Kelby Training</td>\n",
       "      <td>[&gt;#654,681 in Electronics (See Top 100 in Elec...</td>\n",
       "      <td>December 2, 2011</td>\n",
       "      <td>0321732960</td>\n",
       "      <td></td>\n",
       "      <td>Brand new. Still in factory-sealed plastic.</td>\n",
       "      <td>2011-12-02</td>\n",
       "      <td>654681</td>\n",
       "      <td>88</td>\n",
       "      <td>43</td>\n",
       "      <td>1</td>\n",
       "      <td>1</td>\n",
       "    </tr>\n",
       "    <tr>\n",
       "      <th>1</th>\n",
       "      <td>[If you're already a Photoshop user and want a...</td>\n",
       "      <td>Kelby Training DVD: Adobe Photoshop CS5 Power ...</td>\n",
       "      <td>[https://images-na.ssl-images-amazon.com/image...</td>\n",
       "      <td>Kelby Training</td>\n",
       "      <td>[&gt;#830,165 in Electronics (See Top 100 in Elec...</td>\n",
       "      <td>November 7, 2011</td>\n",
       "      <td>0321735722</td>\n",
       "      <td></td>\n",
       "      <td>\"If you're already a Photoshop user and want a...</td>\n",
       "      <td>2011-11-07</td>\n",
       "      <td>830165</td>\n",
       "      <td>72</td>\n",
       "      <td>257</td>\n",
       "      <td>1</td>\n",
       "      <td>1</td>\n",
       "    </tr>\n",
       "    <tr>\n",
       "      <th>2</th>\n",
       "      <td>[School To Home Notes: Note From the Teacher!\\...</td>\n",
       "      <td>TEACHERS FRIEND NOTE FROM THE TEACHER SCHOOL T...</td>\n",
       "      <td>[https://images-na.ssl-images-amazon.com/image...</td>\n",
       "      <td>TEACHERS FRIEND</td>\n",
       "      <td>[&gt;#1,233,887 in Electronics (See Top 100 in El...</td>\n",
       "      <td>June 6, 2007</td>\n",
       "      <td>0439651859</td>\n",
       "      <td></td>\n",
       "      <td>School To Home Notes: Note From the Teacher!\\\\...</td>\n",
       "      <td>2007-06-06</td>\n",
       "      <td>1233887</td>\n",
       "      <td>58</td>\n",
       "      <td>257</td>\n",
       "      <td>1</td>\n",
       "      <td>1</td>\n",
       "    </tr>\n",
       "    <tr>\n",
       "      <th>3</th>\n",
       "      <td>[Dooqi is a young brand specializing in high-e...</td>\n",
       "      <td>[3-pack]Ipad Mini Screen Protector, Dooqi Scre...</td>\n",
       "      <td>[https://images-na.ssl-images-amazon.com/image...</td>\n",
       "      <td>dooqi</td>\n",
       "      <td>[&gt;#454,595 in Electronics (See Top 100 in Elec...</td>\n",
       "      <td>December 5, 2014</td>\n",
       "      <td>0545729971</td>\n",
       "      <td>[Hard coated for Scratch Proof (Hardness: 4H),...</td>\n",
       "      <td>\"Dooqi is a young brand specializing in high-e...</td>\n",
       "      <td>2014-12-05</td>\n",
       "      <td>454595</td>\n",
       "      <td>201</td>\n",
       "      <td>443</td>\n",
       "      <td>5</td>\n",
       "      <td>1</td>\n",
       "    </tr>\n",
       "    <tr>\n",
       "      <th>4</th>\n",
       "      <td>[Cover for Nook HD]</td>\n",
       "      <td>Hd+ Cheetah Cover- Nook</td>\n",
       "      <td></td>\n",
       "      <td>Nook</td>\n",
       "      <td>[&gt;#85,661 in Computers &amp; Accessories (See top ...</td>\n",
       "      <td>September 11, 2013</td>\n",
       "      <td>0594450284</td>\n",
       "      <td>[Cheetah cover]</td>\n",
       "      <td>Cover for Nook HD</td>\n",
       "      <td>2013-09-11</td>\n",
       "      <td>85661</td>\n",
       "      <td>23</td>\n",
       "      <td>17</td>\n",
       "      <td>0</td>\n",
       "      <td>1</td>\n",
       "    </tr>\n",
       "    <tr>\n",
       "      <th>...</th>\n",
       "      <td>...</td>\n",
       "      <td>...</td>\n",
       "      <td>...</td>\n",
       "      <td>...</td>\n",
       "      <td>...</td>\n",
       "      <td>...</td>\n",
       "      <td>...</td>\n",
       "      <td>...</td>\n",
       "      <td>...</td>\n",
       "      <td>...</td>\n",
       "      <td>...</td>\n",
       "      <td>...</td>\n",
       "      <td>...</td>\n",
       "      <td>...</td>\n",
       "      <td>...</td>\n",
       "    </tr>\n",
       "    <tr>\n",
       "      <th>18767</th>\n",
       "      <td></td>\n",
       "      <td>iPad Mini 4 Case, Aceguarder New Design [Dirtp...</td>\n",
       "      <td>[https://images-na.ssl-images-amazon.com/image...</td>\n",
       "      <td></td>\n",
       "      <td>[&gt;#372,769 in Electronics (See Top 100 in Elec...</td>\n",
       "      <td>July 11, 2016</td>\n",
       "      <td>B01HI72XZW</td>\n",
       "      <td></td>\n",
       "      <td></td>\n",
       "      <td>2016-07-11</td>\n",
       "      <td>372769</td>\n",
       "      <td>187</td>\n",
       "      <td>0</td>\n",
       "      <td>6</td>\n",
       "      <td>0</td>\n",
       "    </tr>\n",
       "    <tr>\n",
       "      <th>18768</th>\n",
       "      <td></td>\n",
       "      <td>MIJIU Nylon Canvas Military Tactical Men Waist...</td>\n",
       "      <td>[https://images-na.ssl-images-amazon.com/image...</td>\n",
       "      <td></td>\n",
       "      <td>[&gt;#308,759 in Electronics (See Top 100 in Elec...</td>\n",
       "      <td>June 29, 2016</td>\n",
       "      <td>B01HIEI83Q</td>\n",
       "      <td></td>\n",
       "      <td></td>\n",
       "      <td>2016-06-29</td>\n",
       "      <td>308759</td>\n",
       "      <td>55</td>\n",
       "      <td>0</td>\n",
       "      <td>5</td>\n",
       "      <td>0</td>\n",
       "    </tr>\n",
       "    <tr>\n",
       "      <th>18769</th>\n",
       "      <td>[Deadpool is a mercenary and anti-hero appeari...</td>\n",
       "      <td>Marvel Deadpool Laptop Backpack</td>\n",
       "      <td>[https://images-na.ssl-images-amazon.com/image...</td>\n",
       "      <td>Bioworld</td>\n",
       "      <td>[&gt;#4,064 in Computers &amp; Accessories (See top 1...</td>\n",
       "      <td>June 24, 2016</td>\n",
       "      <td>B01HIQYNJM</td>\n",
       "      <td>[Officially Licensed, One main zippered compar...</td>\n",
       "      <td>Deadpool is a mercenary and anti-hero appearin...</td>\n",
       "      <td>2016-06-24</td>\n",
       "      <td>4064</td>\n",
       "      <td>31</td>\n",
       "      <td>297</td>\n",
       "      <td>4</td>\n",
       "      <td>1</td>\n",
       "    </tr>\n",
       "    <tr>\n",
       "      <th>18770</th>\n",
       "      <td></td>\n",
       "      <td>Funnel Cup (Ultra Pink)</td>\n",
       "      <td>[https://images-na.ssl-images-amazon.com/image...</td>\n",
       "      <td>JDDZ</td>\n",
       "      <td>[&gt;#449,492 in Electronics (See Top 100 in Elec...</td>\n",
       "      <td>March 5, 2017</td>\n",
       "      <td>B01HIWBL46</td>\n",
       "      <td></td>\n",
       "      <td></td>\n",
       "      <td>2017-03-05</td>\n",
       "      <td>449492</td>\n",
       "      <td>23</td>\n",
       "      <td>0</td>\n",
       "      <td>1</td>\n",
       "      <td>1</td>\n",
       "    </tr>\n",
       "    <tr>\n",
       "      <th>18771</th>\n",
       "      <td></td>\n",
       "      <td>Linux Ubuntu 16.04 Desktop Server 32bit 64bit ...</td>\n",
       "      <td>[https://images-na.ssl-images-amazon.com/image...</td>\n",
       "      <td>Generic</td>\n",
       "      <td>[&gt;#278,362 in Electronics (See Top 100 in Elec...</td>\n",
       "      <td>March 16, 2017</td>\n",
       "      <td>B01HJ49FSW</td>\n",
       "      <td></td>\n",
       "      <td></td>\n",
       "      <td>2017-03-16</td>\n",
       "      <td>278362</td>\n",
       "      <td>160</td>\n",
       "      <td>0</td>\n",
       "      <td>4</td>\n",
       "      <td>1</td>\n",
       "    </tr>\n",
       "  </tbody>\n",
       "</table>\n",
       "<p>17952 rows × 15 columns</p>\n",
       "</div>"
      ],
      "text/plain": [
       "                                             description  \\\n",
       "0          [Brand new. Still in factory-sealed plastic.]   \n",
       "1      [If you're already a Photoshop user and want a...   \n",
       "2      [School To Home Notes: Note From the Teacher!\\...   \n",
       "3      [Dooqi is a young brand specializing in high-e...   \n",
       "4                                    [Cover for Nook HD]   \n",
       "...                                                  ...   \n",
       "18767                                                      \n",
       "18768                                                      \n",
       "18769  [Deadpool is a mercenary and anti-hero appeari...   \n",
       "18770                                                      \n",
       "18771                                                      \n",
       "\n",
       "                                                   title  \\\n",
       "0      Kelby Training DVD: The Adobe Photoshop CS5 7-...   \n",
       "1      Kelby Training DVD: Adobe Photoshop CS5 Power ...   \n",
       "2      TEACHERS FRIEND NOTE FROM THE TEACHER SCHOOL T...   \n",
       "3      [3-pack]Ipad Mini Screen Protector, Dooqi Scre...   \n",
       "4                                Hd+ Cheetah Cover- Nook   \n",
       "...                                                  ...   \n",
       "18767  iPad Mini 4 Case, Aceguarder New Design [Dirtp...   \n",
       "18768  MIJIU Nylon Canvas Military Tactical Men Waist...   \n",
       "18769                    Marvel Deadpool Laptop Backpack   \n",
       "18770                            Funnel Cup (Ultra Pink)   \n",
       "18771  Linux Ubuntu 16.04 Desktop Server 32bit 64bit ...   \n",
       "\n",
       "                                                   image            brand  \\\n",
       "0      [https://images-na.ssl-images-amazon.com/image...   Kelby Training   \n",
       "1      [https://images-na.ssl-images-amazon.com/image...   Kelby Training   \n",
       "2      [https://images-na.ssl-images-amazon.com/image...  TEACHERS FRIEND   \n",
       "3      [https://images-na.ssl-images-amazon.com/image...            dooqi   \n",
       "4                                                                    Nook   \n",
       "...                                                  ...              ...   \n",
       "18767  [https://images-na.ssl-images-amazon.com/image...                    \n",
       "18768  [https://images-na.ssl-images-amazon.com/image...                    \n",
       "18769  [https://images-na.ssl-images-amazon.com/image...         Bioworld   \n",
       "18770  [https://images-na.ssl-images-amazon.com/image...             JDDZ   \n",
       "18771  [https://images-na.ssl-images-amazon.com/image...          Generic   \n",
       "\n",
       "                                                    rank                date  \\\n",
       "0      [>#654,681 in Electronics (See Top 100 in Elec...    December 2, 2011   \n",
       "1      [>#830,165 in Electronics (See Top 100 in Elec...    November 7, 2011   \n",
       "2      [>#1,233,887 in Electronics (See Top 100 in El...        June 6, 2007   \n",
       "3      [>#454,595 in Electronics (See Top 100 in Elec...    December 5, 2014   \n",
       "4      [>#85,661 in Computers & Accessories (See top ...  September 11, 2013   \n",
       "...                                                  ...                 ...   \n",
       "18767  [>#372,769 in Electronics (See Top 100 in Elec...       July 11, 2016   \n",
       "18768  [>#308,759 in Electronics (See Top 100 in Elec...       June 29, 2016   \n",
       "18769  [>#4,064 in Computers & Accessories (See top 1...       June 24, 2016   \n",
       "18770  [>#449,492 in Electronics (See Top 100 in Elec...       March 5, 2017   \n",
       "18771  [>#278,362 in Electronics (See Top 100 in Elec...      March 16, 2017   \n",
       "\n",
       "             asin                                            feature  \\\n",
       "0      0321732960                                                      \n",
       "1      0321735722                                                      \n",
       "2      0439651859                                                      \n",
       "3      0545729971  [Hard coated for Scratch Proof (Hardness: 4H),...   \n",
       "4      0594450284                                    [Cheetah cover]   \n",
       "...           ...                                                ...   \n",
       "18767  B01HI72XZW                                                      \n",
       "18768  B01HIEI83Q                                                      \n",
       "18769  B01HIQYNJM  [Officially Licensed, One main zippered compar...   \n",
       "18770  B01HIWBL46                                                      \n",
       "18771  B01HJ49FSW                                                      \n",
       "\n",
       "                                           description_1 date_formatted  \\\n",
       "0            Brand new. Still in factory-sealed plastic.     2011-12-02   \n",
       "1      \"If you're already a Photoshop user and want a...     2011-11-07   \n",
       "2      School To Home Notes: Note From the Teacher!\\\\...     2007-06-06   \n",
       "3      \"Dooqi is a young brand specializing in high-e...     2014-12-05   \n",
       "4                                      Cover for Nook HD     2013-09-11   \n",
       "...                                                  ...            ...   \n",
       "18767                                                        2016-07-11   \n",
       "18768                                                        2016-06-29   \n",
       "18769  Deadpool is a mercenary and anti-hero appearin...     2016-06-24   \n",
       "18770                                                        2017-03-05   \n",
       "18771                                                        2017-03-16   \n",
       "\n",
       "         rank1  title_count  desc_count  img_count  brand_cat  \n",
       "0       654681           88          43          1          1  \n",
       "1       830165           72         257          1          1  \n",
       "2      1233887           58         257          1          1  \n",
       "3       454595          201         443          5          1  \n",
       "4        85661           23          17          0          1  \n",
       "...        ...          ...         ...        ...        ...  \n",
       "18767   372769          187           0          6          0  \n",
       "18768   308759           55           0          5          0  \n",
       "18769     4064           31         297          4          1  \n",
       "18770   449492           23           0          1          1  \n",
       "18771   278362          160           0          4          1  \n",
       "\n",
       "[17952 rows x 15 columns]"
      ]
     },
     "execution_count": 194,
     "metadata": {},
     "output_type": "execute_result"
    }
   ],
   "source": [
    "df6"
   ]
  },
  {
   "cell_type": "code",
   "execution_count": 195,
   "id": "df07350f",
   "metadata": {},
   "outputs": [],
   "source": [
    "from sklearn.feature_extraction.text import TfidfVectorizer\n"
   ]
  },
  {
   "cell_type": "code",
   "execution_count": 231,
   "id": "b51bb3c2",
   "metadata": {
    "scrolled": true
   },
   "outputs": [
    {
     "name": "stderr",
     "output_type": "stream",
     "text": [
      "/tmp/ipykernel_3076/2295959563.py:2: SettingWithCopyWarning: \n",
      "A value is trying to be set on a copy of a slice from a DataFrame.\n",
      "Try using .loc[row_indexer,col_indexer] = value instead\n",
      "\n",
      "See the caveats in the documentation: https://pandas.pydata.org/pandas-docs/stable/user_guide/indexing.html#returning-a-view-versus-a-copy\n",
      "  text_feat['description'] = text_feat.description.map(lambda x: str(x))\n",
      "/tmp/ipykernel_3076/2295959563.py:3: SettingWithCopyWarning: \n",
      "A value is trying to be set on a copy of a slice from a DataFrame.\n",
      "Try using .loc[row_indexer,col_indexer] = value instead\n",
      "\n",
      "See the caveats in the documentation: https://pandas.pydata.org/pandas-docs/stable/user_guide/indexing.html#returning-a-view-versus-a-copy\n",
      "  text_feat['feature'] = text_feat.feature.map(lambda x: str(x))\n"
     ]
    }
   ],
   "source": [
    "text_feat = df6[['description','title','feature']]\n",
    "text_feat['description'] = text_feat.description.map(lambda x: str(x))\n",
    "text_feat['feature'] = text_feat.feature.map(lambda x: str(x))\n"
   ]
  },
  {
   "cell_type": "code",
   "execution_count": 232,
   "id": "7f101d9c",
   "metadata": {},
   "outputs": [
    {
     "data": {
      "text/html": [
       "<div>\n",
       "<style scoped>\n",
       "    .dataframe tbody tr th:only-of-type {\n",
       "        vertical-align: middle;\n",
       "    }\n",
       "\n",
       "    .dataframe tbody tr th {\n",
       "        vertical-align: top;\n",
       "    }\n",
       "\n",
       "    .dataframe thead th {\n",
       "        text-align: right;\n",
       "    }\n",
       "</style>\n",
       "<table border=\"1\" class=\"dataframe\">\n",
       "  <thead>\n",
       "    <tr style=\"text-align: right;\">\n",
       "      <th></th>\n",
       "      <th>description</th>\n",
       "      <th>title</th>\n",
       "      <th>feature</th>\n",
       "    </tr>\n",
       "  </thead>\n",
       "  <tbody>\n",
       "    <tr>\n",
       "      <th>0</th>\n",
       "      <td>['Brand new. Still in factory-sealed plastic.']</td>\n",
       "      <td>Kelby Training DVD: The Adobe Photoshop CS5 7-...</td>\n",
       "      <td></td>\n",
       "    </tr>\n",
       "    <tr>\n",
       "      <th>1</th>\n",
       "      <td>[\"If you're already a Photoshop user and want ...</td>\n",
       "      <td>Kelby Training DVD: Adobe Photoshop CS5 Power ...</td>\n",
       "      <td></td>\n",
       "    </tr>\n",
       "    <tr>\n",
       "      <th>2</th>\n",
       "      <td>['School To Home Notes: Note From the Teacher!...</td>\n",
       "      <td>TEACHERS FRIEND NOTE FROM THE TEACHER SCHOOL T...</td>\n",
       "      <td></td>\n",
       "    </tr>\n",
       "    <tr>\n",
       "      <th>3</th>\n",
       "      <td>[\"Dooqi is a young brand specializing in high-...</td>\n",
       "      <td>[3-pack]Ipad Mini Screen Protector, Dooqi Scre...</td>\n",
       "      <td>['Hard coated for Scratch Proof (Hardness: 4H)...</td>\n",
       "    </tr>\n",
       "    <tr>\n",
       "      <th>4</th>\n",
       "      <td>['Cover for Nook HD']</td>\n",
       "      <td>Hd+ Cheetah Cover- Nook</td>\n",
       "      <td>['Cheetah cover']</td>\n",
       "    </tr>\n",
       "    <tr>\n",
       "      <th>...</th>\n",
       "      <td>...</td>\n",
       "      <td>...</td>\n",
       "      <td>...</td>\n",
       "    </tr>\n",
       "    <tr>\n",
       "      <th>18767</th>\n",
       "      <td></td>\n",
       "      <td>iPad Mini 4 Case, Aceguarder New Design [Dirtp...</td>\n",
       "      <td></td>\n",
       "    </tr>\n",
       "    <tr>\n",
       "      <th>18768</th>\n",
       "      <td></td>\n",
       "      <td>MIJIU Nylon Canvas Military Tactical Men Waist...</td>\n",
       "      <td></td>\n",
       "    </tr>\n",
       "    <tr>\n",
       "      <th>18769</th>\n",
       "      <td>['Deadpool is a mercenary and anti-hero appear...</td>\n",
       "      <td>Marvel Deadpool Laptop Backpack</td>\n",
       "      <td>['Officially Licensed', 'One main zippered com...</td>\n",
       "    </tr>\n",
       "    <tr>\n",
       "      <th>18770</th>\n",
       "      <td></td>\n",
       "      <td>Funnel Cup (Ultra Pink)</td>\n",
       "      <td></td>\n",
       "    </tr>\n",
       "    <tr>\n",
       "      <th>18771</th>\n",
       "      <td></td>\n",
       "      <td>Linux Ubuntu 16.04 Desktop Server 32bit 64bit ...</td>\n",
       "      <td></td>\n",
       "    </tr>\n",
       "  </tbody>\n",
       "</table>\n",
       "<p>17952 rows × 3 columns</p>\n",
       "</div>"
      ],
      "text/plain": [
       "                                             description  \\\n",
       "0        ['Brand new. Still in factory-sealed plastic.']   \n",
       "1      [\"If you're already a Photoshop user and want ...   \n",
       "2      ['School To Home Notes: Note From the Teacher!...   \n",
       "3      [\"Dooqi is a young brand specializing in high-...   \n",
       "4                                  ['Cover for Nook HD']   \n",
       "...                                                  ...   \n",
       "18767                                                      \n",
       "18768                                                      \n",
       "18769  ['Deadpool is a mercenary and anti-hero appear...   \n",
       "18770                                                      \n",
       "18771                                                      \n",
       "\n",
       "                                                   title  \\\n",
       "0      Kelby Training DVD: The Adobe Photoshop CS5 7-...   \n",
       "1      Kelby Training DVD: Adobe Photoshop CS5 Power ...   \n",
       "2      TEACHERS FRIEND NOTE FROM THE TEACHER SCHOOL T...   \n",
       "3      [3-pack]Ipad Mini Screen Protector, Dooqi Scre...   \n",
       "4                                Hd+ Cheetah Cover- Nook   \n",
       "...                                                  ...   \n",
       "18767  iPad Mini 4 Case, Aceguarder New Design [Dirtp...   \n",
       "18768  MIJIU Nylon Canvas Military Tactical Men Waist...   \n",
       "18769                    Marvel Deadpool Laptop Backpack   \n",
       "18770                            Funnel Cup (Ultra Pink)   \n",
       "18771  Linux Ubuntu 16.04 Desktop Server 32bit 64bit ...   \n",
       "\n",
       "                                                 feature  \n",
       "0                                                         \n",
       "1                                                         \n",
       "2                                                         \n",
       "3      ['Hard coated for Scratch Proof (Hardness: 4H)...  \n",
       "4                                      ['Cheetah cover']  \n",
       "...                                                  ...  \n",
       "18767                                                     \n",
       "18768                                                     \n",
       "18769  ['Officially Licensed', 'One main zippered com...  \n",
       "18770                                                     \n",
       "18771                                                     \n",
       "\n",
       "[17952 rows x 3 columns]"
      ]
     },
     "execution_count": 232,
     "metadata": {},
     "output_type": "execute_result"
    }
   ],
   "source": [
    "text_feat"
   ]
  },
  {
   "cell_type": "code",
   "execution_count": 233,
   "id": "a6536b68",
   "metadata": {},
   "outputs": [
    {
     "data": {
      "text/plain": [
       "array(['10', '100', '15', 'access', 'all', 'an', 'and', 'any', 'are',\n",
       "       'as', 'at', 'back', 'battery', 'be', 'black', 'bluetooth', 'built',\n",
       "       'by', 'cable', 'can', 'card', 'case', 'color', 'compatible',\n",
       "       'core', 'cover', 'design', 'designed', 'device', 'display',\n",
       "       'drive', 'dual', 'durable', 'easy', 'features', 'fit', 'for',\n",
       "       'free', 'from', 'full', 'gb', 'ghz', 'hard', 'hd', 'high', 'in',\n",
       "       'inch', 'included', 'includes', 'intel', 'ipad', 'is', 'it',\n",
       "       'keyboard', 'laptop', 'leather', 'made', 'material', 'memory',\n",
       "       'more', 'new', 'no', 'not', 'of', 'on', 'one', 'only', 'or',\n",
       "       'other', 'pc', 'port', 'ports', 'power', 'processor', 'product',\n",
       "       'protection', 'quality', 'ram', 'screen', 'size', 'stand',\n",
       "       'support', 'tablet', 'that', 'the', 'this', 'to', 'touch', 'type',\n",
       "       'up', 'usb', 'use', 'warranty', 'when', 'will', 'windows',\n",
       "       'wireless', 'with', 'you', 'your'], dtype=object)"
      ]
     },
     "execution_count": 233,
     "metadata": {},
     "output_type": "execute_result"
    }
   ],
   "source": [
    "vectorizer = TfidfVectorizer(max_features=100)\n",
    "X_vectorized = vectorizer.fit_transform(text_feat.feature)\n",
    "vectorizer.get_feature_names_out()"
   ]
  },
  {
   "cell_type": "code",
   "execution_count": 204,
   "id": "9f7d657f",
   "metadata": {
    "scrolled": true
   },
   "outputs": [
    {
     "data": {
      "text/plain": [
       "<17952x35251 sparse matrix of type '<class 'numpy.float64'>'\n",
       "\twith 291351 stored elements in Compressed Sparse Row format>"
      ]
     },
     "execution_count": 204,
     "metadata": {},
     "output_type": "execute_result"
    }
   ],
   "source": [
    "X_vectorized\n"
   ]
  },
  {
   "cell_type": "code",
   "execution_count": 223,
   "id": "654b4442",
   "metadata": {
    "scrolled": false
   },
   "outputs": [
    {
     "data": {
      "text/plain": [
       "array(['10', '11', '12', '13', '14', '15', '17', '8gb', 'ac', 'acer',\n",
       "       'adapter', 'air', 'and', 'android', 'apple', 'asus', 'bag',\n",
       "       'battery', 'black', 'blue', 'bluetooth', 'cable', 'camera', 'card',\n",
       "       'case', 'cell', 'charger', 'compatible', 'computer', 'cord',\n",
       "       'core', 'cover', 'decal', 'dell', 'desktop', 'display', 'drive',\n",
       "       'dual', 'flash', 'for', 'galaxy', 'gaming', 'hard', 'hd', 'hdd',\n",
       "       'high', 'hp', 'in', 'inch', 'intel', 'ipad', 'keyboard', 'kit',\n",
       "       'laptop', 'leather', 'lenovo', 'macbook', 'memory', 'mini',\n",
       "       'model', 'mouse', 'new', 'notebook', 'pack', 'pad', 'pc', 'pink',\n",
       "       'power', 'pro', 'protective', 'protector', 'ram', 'red',\n",
       "       'replacement', 'retina', 'samsung', 'satellite', 'screen',\n",
       "       'series', 'skin', 'sleeve', 'slim', 'smart', 'sony', 'stand',\n",
       "       'sticker', 'supply', 'tab', 'tablet', 'to', 'toshiba', 'touch',\n",
       "       'ultra', 'usb', 'vgn', 'white', 'wifi', 'windows', 'wireless',\n",
       "       'with'], dtype=object)"
      ]
     },
     "execution_count": 223,
     "metadata": {},
     "output_type": "execute_result"
    }
   ],
   "source": [
    "vectorizer.get_feature_names_out()"
   ]
  },
  {
   "cell_type": "code",
   "execution_count": 243,
   "id": "ccfa6447",
   "metadata": {
    "scrolled": true
   },
   "outputs": [
    {
     "ename": "ImportError",
     "evalue": "attempted relative import with no known parent package",
     "output_type": "error",
     "traceback": [
      "\u001b[0;31m---------------------------------------------------------------------------\u001b[0m",
      "\u001b[0;31mImportError\u001b[0m                               Traceback (most recent call last)",
      "Input \u001b[0;32mIn [243]\u001b[0m, in \u001b[0;36m<cell line: 1>\u001b[0;34m()\u001b[0m\n\u001b[0;32m----> 1\u001b[0m \u001b[38;5;28;01mfrom\u001b[39;00m \u001b[38;5;21;01m.\u001b[39;00m\u001b[38;5;21;01m.\u001b[39;00m\u001b[38;5;21;01mdeep_seo\u001b[39;00m\u001b[38;5;21;01m.\u001b[39;00m\u001b[38;5;21;01mutils\u001b[39;00m \u001b[38;5;28;01mimport\u001b[39;00m lemmatize\n",
      "\u001b[0;31mImportError\u001b[0m: attempted relative import with no known parent package"
     ]
    }
   ],
   "source": [
    "from ..deep_seo.utils import lemmatize"
   ]
  },
  {
   "cell_type": "code",
   "execution_count": 241,
   "id": "dc80d3cb",
   "metadata": {},
   "outputs": [],
   "source": [
    "%load_ext autoreload\n",
    "%autoreload 2"
   ]
  },
  {
   "cell_type": "code",
   "execution_count": null,
   "id": "aae2bb45",
   "metadata": {},
   "outputs": [],
   "source": []
  },
  {
   "cell_type": "code",
   "execution_count": null,
   "id": "ffc107bb",
   "metadata": {},
   "outputs": [],
   "source": []
  }
 ],
 "metadata": {
  "kernelspec": {
   "display_name": "Python 3 (ipykernel)",
   "language": "python",
   "name": "python3"
  },
  "language_info": {
   "codemirror_mode": {
    "name": "ipython",
    "version": 3
   },
   "file_extension": ".py",
   "mimetype": "text/x-python",
   "name": "python",
   "nbconvert_exporter": "python",
   "pygments_lexer": "ipython3",
   "version": "3.8.12"
  },
  "toc": {
   "base_numbering": 1,
   "nav_menu": {},
   "number_sections": true,
   "sideBar": true,
   "skip_h1_title": false,
   "title_cell": "Table of Contents",
   "title_sidebar": "Contents",
   "toc_cell": false,
   "toc_position": {},
   "toc_section_display": true,
   "toc_window_display": false
  }
 },
 "nbformat": 4,
 "nbformat_minor": 5
}
