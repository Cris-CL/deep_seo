{
 "cells": [
  {
   "cell_type": "markdown",
   "id": "94b9db0d",
   "metadata": {
    "heading_collapsed": true,
    "id": "94b9db0d"
   },
   "source": [
    "## Amazon data "
   ]
  },
  {
   "cell_type": "code",
   "execution_count": 1,
   "id": "0cd1be7a",
   "metadata": {
    "hidden": true,
    "id": "0cd1be7a"
   },
   "outputs": [],
   "source": [
    "%load_ext autoreload\n",
    "%autoreload 2"
   ]
  },
  {
   "cell_type": "code",
   "execution_count": 2,
   "id": "8343a56f",
   "metadata": {
    "hidden": true,
    "id": "8343a56f"
   },
   "outputs": [],
   "source": [
    "import os\n",
    "import json\n",
    "import gzip\n",
    "import pandas as pd\n",
    "from urllib.request import urlopen\n",
    "\n",
    "from sklearn.linear_model import LinearRegression\n",
    "from sklearn.model_selection import train_test_split\n"
   ]
  },
  {
   "cell_type": "code",
   "execution_count": 3,
   "id": "1f679af8",
   "metadata": {
    "colab": {
     "base_uri": "https://localhost:8080/"
    },
    "hidden": true,
    "id": "1f679af8",
    "outputId": "f8ab2aab-babf-4020-a476-f79ad8b32b8f"
   },
   "outputs": [
    {
     "name": "stdout",
     "output_type": "stream",
     "text": [
      "--2022-05-24 07:36:55--  http://deepyeti.ucsd.edu/jianmo/amazon/sample/meta_Computers.json.gz\n",
      "Resolving deepyeti.ucsd.edu (deepyeti.ucsd.edu)... 169.228.63.50\n",
      "Connecting to deepyeti.ucsd.edu (deepyeti.ucsd.edu)|169.228.63.50|:80... connected.\n",
      "HTTP request sent, awaiting response... 200 OK\n",
      "Length: 7010521 (6.7M) [application/octet-stream]\n",
      "Saving to: ‘meta_Computers.json.gz’\n",
      "\n",
      "meta_Computers.json 100%[===================>]   6.69M  14.2MB/s    in 0.5s    \n",
      "\n",
      "2022-05-24 07:36:55 (14.2 MB/s) - ‘meta_Computers.json.gz’ saved [7010521/7010521]\n",
      "\n"
     ]
    }
   ],
   "source": [
    "!wget http://deepyeti.ucsd.edu/jianmo/amazon/sample/meta_Computers.json.gz"
   ]
  },
  {
   "cell_type": "code",
   "execution_count": 3,
   "id": "c59291d0",
   "metadata": {
    "colab": {
     "base_uri": "https://localhost:8080/"
    },
    "hidden": true,
    "id": "c59291d0",
    "outputId": "464127bc-be4d-4146-9739-9b2e6a7960d7"
   },
   "outputs": [
    {
     "name": "stdout",
     "output_type": "stream",
     "text": [
      "18772\n",
      "{'description': ['Brand new. Still in factory-sealed plastic.'], 'title': 'Kelby Training DVD: The Adobe Photoshop CS5 7-Point System for Camera Raw By Scott Kelby', 'image': ['https://images-na.ssl-images-amazon.com/images/I/31IlLImCVJL._SS40_.jpg'], 'brand': 'Kelby Training', 'rank': ['>#654,681 in Electronics (See Top 100 in Electronics)'], 'main_cat': 'Computers', 'date': 'December 2, 2011', 'asin': '0321732960'}\n"
     ]
    }
   ],
   "source": [
    "### load the meta data\n",
    "\n",
    "data = []\n",
    "with gzip.open('meta_Computers.json.gz') as f:\n",
    "    for l in f:\n",
    "        data.append(json.loads(l.strip()))\n",
    "    \n",
    "# total length of list, this number equals total number of products\n",
    "print(len(data))\n",
    "\n",
    "# first row of the list\n",
    "print(data[0])"
   ]
  },
  {
   "cell_type": "code",
   "execution_count": 4,
   "id": "64f2aa25",
   "metadata": {
    "hidden": true,
    "id": "64f2aa25"
   },
   "outputs": [],
   "source": [
    "# convert list into pandas dataframe\n",
    "df = pd.DataFrame.from_dict(data)\n",
    "def list_to_pd_dataframe(df):\n",
    "#     df = pd.DataFrame.from_dict(data)\n",
    "    df3 = df.fillna('')\n",
    "    df5 = df3[~df3.title.str.contains('getTime')] # filter those unformatted rows\n",
    "    return df5\n",
    "\n",
    "df5=list_to_pd_dataframe(df)"
   ]
  },
  {
   "cell_type": "code",
   "execution_count": 5,
   "id": "cc4dcba8",
   "metadata": {
    "colab": {
     "base_uri": "https://localhost:8080/"
    },
    "hidden": true,
    "id": "cc4dcba8",
    "outputId": "de91d2a2-3cd0-4822-ac45-5f862cdb7d2d"
   },
   "outputs": [
    {
     "name": "stderr",
     "output_type": "stream",
     "text": [
      "/var/folders/2b/8swfrzvj1b10sb2dt02_4g6c0000gn/T/ipykernel_68634/1997018992.py:16: SettingWithCopyWarning: \n",
      "A value is trying to be set on a copy of a slice from a DataFrame.\n",
      "Try using .loc[row_indexer,col_indexer] = value instead\n",
      "\n",
      "See the caveats in the documentation: https://pandas.pydata.org/pandas-docs/stable/user_guide/indexing.html#returning-a-view-versus-a-copy\n",
      "  df6[\"rank1\"]=df6[\"rank1\"].astype(\"int64\")\n"
     ]
    }
   ],
   "source": [
    "def cleandata(df5):\n",
    "    df5.description=df5.description.map(lambda x: str(x))\n",
    "    df5.description=df5.description.str.strip(\"[]'\")\n",
    "    df5.drop(columns=['feature', 'tech1', 'also_buy', 'price', 'also_view', 'tech2','details', 'similar_item',\"main_cat\"],inplace=True)\n",
    "    df5['brand_cat']=df5.brand.map(lambda x : 0 if len(x) <1 else 1)\n",
    "    df5['rank1']=df5['rank'].map(lambda x: str(x).strip(\"[]'\"))\n",
    "    df5[\"rank1\"]=df5[\"rank1\"].map(lambda x: str(x))\n",
    "    df5[\"rank1\"]=df5[\"rank1\"].str.replace(pat='>#',repl='', regex=False)\n",
    "    df5[\"rank1\"]=df5[\"rank1\"].map(lambda x: x.replace(\",\",\"\"))\n",
    "    df5[\"rank1\"]=df5[\"rank1\"].map(lambda x: x.split(\"in\"))\n",
    "    df5[\"rank1\"] = df5[\"rank1\"].map(lambda x: x[0])\n",
    "    df5[\"title_count\"] = df5[\"title\"].map(lambda x: len(x))\n",
    "    df5[\"desc_count\"] = df5[\"description\"].map(lambda x: len(x))\n",
    "    df5[\"img_count\"] = df5[\"image\"].map(lambda x: len(x))\n",
    "    df6=df5[df5[\"rank1\"]!='']\n",
    "    df6[\"rank1\"]=df6[\"rank1\"].astype(\"int64\")\n",
    "    return df6\n",
    "\n",
    "df6=cleandata(df5)\n",
    "    "
   ]
  },
  {
   "cell_type": "code",
   "execution_count": 6,
   "id": "ec232ffa",
   "metadata": {
    "hidden": true,
    "id": "ec232ffa"
   },
   "outputs": [],
   "source": [
    "X = df6[[\"brand_cat\",\"title_count\",\"desc_count\",\"img_count\"]]\n",
    "y=df6[\"rank1\"]\n",
    "         \n",
    "         \n",
    "X_train,X_test,y_train,y_test = train_test_split(X,y,test_size=0.3)\n",
    "X_train.shape,X_test.shape\n",
    "\n",
    "model = LinearRegression().fit(X_train, y_train)"
   ]
  },
  {
   "cell_type": "markdown",
   "id": "a5ef7c22",
   "metadata": {
    "heading_collapsed": true,
    "id": "a5ef7c22"
   },
   "source": [
    "## Clean Data"
   ]
  },
  {
   "cell_type": "code",
   "execution_count": 7,
   "id": "8169ae7e",
   "metadata": {
    "colab": {
     "base_uri": "https://localhost:8080/",
     "height": 300
    },
    "hidden": true,
    "id": "8169ae7e",
    "outputId": "a5dff5bc-e823-4da3-d17b-faa85c9bfb75",
    "scrolled": true
   },
   "outputs": [
    {
     "data": {
      "text/html": [
       "<div>\n",
       "<style scoped>\n",
       "    .dataframe tbody tr th:only-of-type {\n",
       "        vertical-align: middle;\n",
       "    }\n",
       "\n",
       "    .dataframe tbody tr th {\n",
       "        vertical-align: top;\n",
       "    }\n",
       "\n",
       "    .dataframe thead th {\n",
       "        text-align: right;\n",
       "    }\n",
       "</style>\n",
       "<table border=\"1\" class=\"dataframe\">\n",
       "  <thead>\n",
       "    <tr style=\"text-align: right;\">\n",
       "      <th></th>\n",
       "      <th>brand_cat</th>\n",
       "      <th>rank1</th>\n",
       "      <th>title_count</th>\n",
       "      <th>desc_count</th>\n",
       "      <th>img_count</th>\n",
       "    </tr>\n",
       "  </thead>\n",
       "  <tbody>\n",
       "    <tr>\n",
       "      <th>count</th>\n",
       "      <td>17952.000000</td>\n",
       "      <td>1.795200e+04</td>\n",
       "      <td>17952.000000</td>\n",
       "      <td>17952.000000</td>\n",
       "      <td>17952.000000</td>\n",
       "    </tr>\n",
       "    <tr>\n",
       "      <th>mean</th>\n",
       "      <td>0.974265</td>\n",
       "      <td>5.929752e+05</td>\n",
       "      <td>112.436776</td>\n",
       "      <td>129.966633</td>\n",
       "      <td>2.968861</td>\n",
       "    </tr>\n",
       "    <tr>\n",
       "      <th>std</th>\n",
       "      <td>0.158349</td>\n",
       "      <td>4.912246e+05</td>\n",
       "      <td>71.242360</td>\n",
       "      <td>350.335807</td>\n",
       "      <td>2.374704</td>\n",
       "    </tr>\n",
       "    <tr>\n",
       "      <th>min</th>\n",
       "      <td>0.000000</td>\n",
       "      <td>5.400000e+01</td>\n",
       "      <td>0.000000</td>\n",
       "      <td>0.000000</td>\n",
       "      <td>0.000000</td>\n",
       "    </tr>\n",
       "    <tr>\n",
       "      <th>25%</th>\n",
       "      <td>1.000000</td>\n",
       "      <td>2.017250e+05</td>\n",
       "      <td>69.000000</td>\n",
       "      <td>0.000000</td>\n",
       "      <td>1.000000</td>\n",
       "    </tr>\n",
       "    <tr>\n",
       "      <th>50%</th>\n",
       "      <td>1.000000</td>\n",
       "      <td>4.733595e+05</td>\n",
       "      <td>97.000000</td>\n",
       "      <td>0.000000</td>\n",
       "      <td>3.000000</td>\n",
       "    </tr>\n",
       "    <tr>\n",
       "      <th>75%</th>\n",
       "      <td>1.000000</td>\n",
       "      <td>8.484675e+05</td>\n",
       "      <td>144.000000</td>\n",
       "      <td>9.000000</td>\n",
       "      <td>5.000000</td>\n",
       "    </tr>\n",
       "    <tr>\n",
       "      <th>max</th>\n",
       "      <td>1.000000</td>\n",
       "      <td>9.464714e+06</td>\n",
       "      <td>2000.000000</td>\n",
       "      <td>5146.000000</td>\n",
       "      <td>46.000000</td>\n",
       "    </tr>\n",
       "  </tbody>\n",
       "</table>\n",
       "</div>"
      ],
      "text/plain": [
       "          brand_cat         rank1   title_count    desc_count     img_count\n",
       "count  17952.000000  1.795200e+04  17952.000000  17952.000000  17952.000000\n",
       "mean       0.974265  5.929752e+05    112.436776    129.966633      2.968861\n",
       "std        0.158349  4.912246e+05     71.242360    350.335807      2.374704\n",
       "min        0.000000  5.400000e+01      0.000000      0.000000      0.000000\n",
       "25%        1.000000  2.017250e+05     69.000000      0.000000      1.000000\n",
       "50%        1.000000  4.733595e+05     97.000000      0.000000      3.000000\n",
       "75%        1.000000  8.484675e+05    144.000000      9.000000      5.000000\n",
       "max        1.000000  9.464714e+06   2000.000000   5146.000000     46.000000"
      ]
     },
     "execution_count": 7,
     "metadata": {},
     "output_type": "execute_result"
    }
   ],
   "source": [
    "df6.describe()"
   ]
  },
  {
   "cell_type": "code",
   "execution_count": 8,
   "id": "3z2brKCtzBTk",
   "metadata": {
    "colab": {
     "base_uri": "https://localhost:8080/"
    },
    "hidden": true,
    "id": "3z2brKCtzBTk",
    "outputId": "680cec7c-12c1-407c-8b78-1fffe9ab08d6"
   },
   "outputs": [
    {
     "name": "stderr",
     "output_type": "stream",
     "text": [
      "/var/folders/2b/8swfrzvj1b10sb2dt02_4g6c0000gn/T/ipykernel_68634/538449875.py:1: SettingWithCopyWarning: \n",
      "A value is trying to be set on a copy of a slice from a DataFrame.\n",
      "Try using .loc[row_indexer,col_indexer] = value instead\n",
      "\n",
      "See the caveats in the documentation: https://pandas.pydata.org/pandas-docs/stable/user_guide/indexing.html#returning-a-view-versus-a-copy\n",
      "  df6[\"rank_cat\"]=df6[\"rank1\"].map(lambda x: 1 if x<473359 else 0)\n"
     ]
    }
   ],
   "source": [
    "df6[\"rank_cat\"]=df6[\"rank1\"].map(lambda x: 1 if x<473359 else 0)"
   ]
  },
  {
   "cell_type": "markdown",
   "id": "7e28d6a5",
   "metadata": {
    "heading_collapsed": true,
    "id": "7e28d6a5"
   },
   "source": [
    "## Using SVM Model"
   ]
  },
  {
   "cell_type": "code",
   "execution_count": null,
   "id": "89b097ff",
   "metadata": {
    "hidden": true,
    "id": "89b097ff"
   },
   "outputs": [],
   "source": [
    "from sklearn.svm import SVC\n",
    "from sklearn.preprocessing import StandardScaler\n",
    "from sklearn.model_selection import GridSearchCV"
   ]
  },
  {
   "cell_type": "code",
   "execution_count": null,
   "id": "ef1827a1",
   "metadata": {
    "colab": {
     "base_uri": "https://localhost:8080/"
    },
    "hidden": true,
    "id": "ef1827a1",
    "outputId": "a0281c9f-af0a-4c51-b983-37ddfc156e23",
    "scrolled": true
   },
   "outputs": [
    {
     "name": "stdout",
     "output_type": "stream",
     "text": [
      "473359.5\n"
     ]
    },
    {
     "name": "stderr",
     "output_type": "stream",
     "text": [
      "/usr/local/lib/python3.7/dist-packages/ipykernel_launcher.py:2: SettingWithCopyWarning: \n",
      "A value is trying to be set on a copy of a slice from a DataFrame.\n",
      "Try using .loc[row_indexer,col_indexer] = value instead\n",
      "\n",
      "See the caveats in the documentation: https://pandas.pydata.org/pandas-docs/stable/user_guide/indexing.html#returning-a-view-versus-a-copy\n",
      "  \n"
     ]
    }
   ],
   "source": [
    "print(df6.rank1.median())\n",
    "df6[\"rank_cat\"]=df6[\"rank1\"].map(lambda x: 1 if x<473359 else 0)"
   ]
  },
  {
   "cell_type": "code",
   "execution_count": null,
   "id": "4K3qF2LEsbVv",
   "metadata": {
    "hidden": true,
    "id": "4K3qF2LEsbVv"
   },
   "outputs": [],
   "source": [
    "X = df6[[\"brand_cat\",\"title_count\",\"desc_count\",\"img_count\"]]\n",
    "y=df6[\"rank_cat\"]\n",
    "\n",
    "X_train,X_test,y_train,y_test=train_test_split(X,y, test_size=0.3)\n",
    "\n",
    "sc = StandardScaler()\n",
    "X_train = sc.fit_transform(X_train)\n",
    "X_test = sc.transform(X_test)"
   ]
  },
  {
   "cell_type": "code",
   "execution_count": null,
   "id": "6e23719d",
   "metadata": {
    "colab": {
     "base_uri": "https://localhost:8080/"
    },
    "hidden": true,
    "id": "6e23719d",
    "outputId": "564b80b4-c037-4efb-a80d-6ad5ea1db65f"
   },
   "outputs": [
    {
     "data": {
      "text/plain": [
       "0.6154845896769402"
      ]
     },
     "execution_count": 14,
     "metadata": {},
     "output_type": "execute_result"
    }
   ],
   "source": [
    "svc=SVC(kernel=\"linear\",C=10,gamma='auto')\n",
    "model=svc.fit(X_train,y_train)\n",
    "model.score(X_test,y_test)"
   ]
  },
  {
   "cell_type": "markdown",
   "id": "T_nc-NJruBod",
   "metadata": {
    "hidden": true,
    "id": "T_nc-NJruBod"
   },
   "source": [
    "Using GridSearchCV for SVM"
   ]
  },
  {
   "cell_type": "code",
   "execution_count": null,
   "id": "YrcTNhSmpB1a",
   "metadata": {
    "colab": {
     "base_uri": "https://localhost:8080/"
    },
    "hidden": true,
    "id": "YrcTNhSmpB1a",
    "outputId": "ae2a73d5-3eac-42d1-832c-f2cd6a1c871b"
   },
   "outputs": [
    {
     "data": {
      "text/plain": [
       "{'mean_fit_time': array([11.45177612,  8.69223723, 14.66475024, 18.01703067, 19.01169171,\n",
       "        46.24699411]),\n",
       " 'mean_score_time': array([2.47901406, 0.89608102, 2.16860213, 0.8154285 , 2.11554718,\n",
       "        0.80367575]),\n",
       " 'mean_test_score': array([0.63324276, 0.59491854, 0.63402258, 0.5997077 , 0.63396694,\n",
       "        0.60856575]),\n",
       " 'param_C': masked_array(data=[1, 1, 10, 10, 20, 20],\n",
       "              mask=[False, False, False, False, False, False],\n",
       "        fill_value='?',\n",
       "             dtype=object),\n",
       " 'param_kernel': masked_array(data=['rbf', 'linear', 'rbf', 'linear', 'rbf', 'linear'],\n",
       "              mask=[False, False, False, False, False, False],\n",
       "        fill_value='?',\n",
       "             dtype=object),\n",
       " 'params': [{'C': 1, 'kernel': 'rbf'},\n",
       "  {'C': 1, 'kernel': 'linear'},\n",
       "  {'C': 10, 'kernel': 'rbf'},\n",
       "  {'C': 10, 'kernel': 'linear'},\n",
       "  {'C': 20, 'kernel': 'rbf'},\n",
       "  {'C': 20, 'kernel': 'linear'}],\n",
       " 'rank_test_score': array([3, 6, 1, 5, 2, 4], dtype=int32),\n",
       " 'split0_test_score': array([0.63464216, 0.59259259, 0.63436369, 0.61403509, 0.636313  ,\n",
       "        0.61208577]),\n",
       " 'split1_test_score': array([0.6577555 , 0.61960457, 0.66026177, 0.63269284, 0.65719855,\n",
       "        0.63269284]),\n",
       " 'split2_test_score': array([0.62479109, 0.61281337, 0.62869081, 0.61253482, 0.62869081,\n",
       "        0.6091922 ]),\n",
       " 'split3_test_score': array([0.64846797, 0.59359331, 0.64568245, 0.59415042, 0.64512535,\n",
       "        0.62367688]),\n",
       " 'split4_test_score': array([0.6005571 , 0.55598886, 0.60111421, 0.54512535, 0.60250696,\n",
       "        0.56518106]),\n",
       " 'std_fit_time': array([1.56264833, 1.4480586 , 0.7034486 , 3.80303126, 1.85603748,\n",
       "        9.76447772]),\n",
       " 'std_score_time': array([0.42431094, 0.19305595, 0.10616746, 0.01528275, 0.01277368,\n",
       "        0.01913298]),\n",
       " 'std_test_score': array([0.0198717 , 0.02214638, 0.01967716, 0.02989296, 0.01837003,\n",
       "        0.02326146])}"
      ]
     },
     "execution_count": 24,
     "metadata": {},
     "output_type": "execute_result"
    }
   ],
   "source": [
    "X = df6[[\"brand_cat\",\"title_count\",\"desc_count\",\"img_count\"]]\n",
    "y=df6[\"rank_cat\"]\n",
    "\n",
    "sc = StandardScaler()\n",
    "X = sc.fit_transform(X)\n",
    "\n",
    "clf = GridSearchCV(SVC(gamma='auto'), {\n",
    "    'C': [1,10,20],\n",
    "    'kernel': ['rbf','linear']\n",
    "}, cv=5, return_train_score=False)\n",
    "clf.fit(X, y)\n",
    "clf.cv_results_"
   ]
  },
  {
   "cell_type": "code",
   "execution_count": null,
   "id": "s8gAtWvMvYdv",
   "metadata": {
    "colab": {
     "base_uri": "https://localhost:8080/",
     "height": 238
    },
    "hidden": true,
    "id": "s8gAtWvMvYdv",
    "outputId": "0145a87c-1ad1-46a1-e325-11139fbe971e"
   },
   "outputs": [
    {
     "data": {
      "text/html": [
       "\n",
       "  <div id=\"df-66e99cd1-bef5-4076-9249-d30ddea26b55\">\n",
       "    <div class=\"colab-df-container\">\n",
       "      <div>\n",
       "<style scoped>\n",
       "    .dataframe tbody tr th:only-of-type {\n",
       "        vertical-align: middle;\n",
       "    }\n",
       "\n",
       "    .dataframe tbody tr th {\n",
       "        vertical-align: top;\n",
       "    }\n",
       "\n",
       "    .dataframe thead th {\n",
       "        text-align: right;\n",
       "    }\n",
       "</style>\n",
       "<table border=\"1\" class=\"dataframe\">\n",
       "  <thead>\n",
       "    <tr style=\"text-align: right;\">\n",
       "      <th></th>\n",
       "      <th>param_C</th>\n",
       "      <th>param_kernel</th>\n",
       "      <th>mean_test_score</th>\n",
       "    </tr>\n",
       "  </thead>\n",
       "  <tbody>\n",
       "    <tr>\n",
       "      <th>0</th>\n",
       "      <td>1</td>\n",
       "      <td>rbf</td>\n",
       "      <td>0.633243</td>\n",
       "    </tr>\n",
       "    <tr>\n",
       "      <th>1</th>\n",
       "      <td>1</td>\n",
       "      <td>linear</td>\n",
       "      <td>0.594919</td>\n",
       "    </tr>\n",
       "    <tr>\n",
       "      <th>2</th>\n",
       "      <td>10</td>\n",
       "      <td>rbf</td>\n",
       "      <td>0.634023</td>\n",
       "    </tr>\n",
       "    <tr>\n",
       "      <th>3</th>\n",
       "      <td>10</td>\n",
       "      <td>linear</td>\n",
       "      <td>0.599708</td>\n",
       "    </tr>\n",
       "    <tr>\n",
       "      <th>4</th>\n",
       "      <td>20</td>\n",
       "      <td>rbf</td>\n",
       "      <td>0.633967</td>\n",
       "    </tr>\n",
       "    <tr>\n",
       "      <th>5</th>\n",
       "      <td>20</td>\n",
       "      <td>linear</td>\n",
       "      <td>0.608566</td>\n",
       "    </tr>\n",
       "  </tbody>\n",
       "</table>\n",
       "</div>\n",
       "      <button class=\"colab-df-convert\" onclick=\"convertToInteractive('df-66e99cd1-bef5-4076-9249-d30ddea26b55')\"\n",
       "              title=\"Convert this dataframe to an interactive table.\"\n",
       "              style=\"display:none;\">\n",
       "        \n",
       "  <svg xmlns=\"http://www.w3.org/2000/svg\" height=\"24px\"viewBox=\"0 0 24 24\"\n",
       "       width=\"24px\">\n",
       "    <path d=\"M0 0h24v24H0V0z\" fill=\"none\"/>\n",
       "    <path d=\"M18.56 5.44l.94 2.06.94-2.06 2.06-.94-2.06-.94-.94-2.06-.94 2.06-2.06.94zm-11 1L8.5 8.5l.94-2.06 2.06-.94-2.06-.94L8.5 2.5l-.94 2.06-2.06.94zm10 10l.94 2.06.94-2.06 2.06-.94-2.06-.94-.94-2.06-.94 2.06-2.06.94z\"/><path d=\"M17.41 7.96l-1.37-1.37c-.4-.4-.92-.59-1.43-.59-.52 0-1.04.2-1.43.59L10.3 9.45l-7.72 7.72c-.78.78-.78 2.05 0 2.83L4 21.41c.39.39.9.59 1.41.59.51 0 1.02-.2 1.41-.59l7.78-7.78 2.81-2.81c.8-.78.8-2.07 0-2.86zM5.41 20L4 18.59l7.72-7.72 1.47 1.35L5.41 20z\"/>\n",
       "  </svg>\n",
       "      </button>\n",
       "      \n",
       "  <style>\n",
       "    .colab-df-container {\n",
       "      display:flex;\n",
       "      flex-wrap:wrap;\n",
       "      gap: 12px;\n",
       "    }\n",
       "\n",
       "    .colab-df-convert {\n",
       "      background-color: #E8F0FE;\n",
       "      border: none;\n",
       "      border-radius: 50%;\n",
       "      cursor: pointer;\n",
       "      display: none;\n",
       "      fill: #1967D2;\n",
       "      height: 32px;\n",
       "      padding: 0 0 0 0;\n",
       "      width: 32px;\n",
       "    }\n",
       "\n",
       "    .colab-df-convert:hover {\n",
       "      background-color: #E2EBFA;\n",
       "      box-shadow: 0px 1px 2px rgba(60, 64, 67, 0.3), 0px 1px 3px 1px rgba(60, 64, 67, 0.15);\n",
       "      fill: #174EA6;\n",
       "    }\n",
       "\n",
       "    [theme=dark] .colab-df-convert {\n",
       "      background-color: #3B4455;\n",
       "      fill: #D2E3FC;\n",
       "    }\n",
       "\n",
       "    [theme=dark] .colab-df-convert:hover {\n",
       "      background-color: #434B5C;\n",
       "      box-shadow: 0px 1px 3px 1px rgba(0, 0, 0, 0.15);\n",
       "      filter: drop-shadow(0px 1px 2px rgba(0, 0, 0, 0.3));\n",
       "      fill: #FFFFFF;\n",
       "    }\n",
       "  </style>\n",
       "\n",
       "      <script>\n",
       "        const buttonEl =\n",
       "          document.querySelector('#df-66e99cd1-bef5-4076-9249-d30ddea26b55 button.colab-df-convert');\n",
       "        buttonEl.style.display =\n",
       "          google.colab.kernel.accessAllowed ? 'block' : 'none';\n",
       "\n",
       "        async function convertToInteractive(key) {\n",
       "          const element = document.querySelector('#df-66e99cd1-bef5-4076-9249-d30ddea26b55');\n",
       "          const dataTable =\n",
       "            await google.colab.kernel.invokeFunction('convertToInteractive',\n",
       "                                                     [key], {});\n",
       "          if (!dataTable) return;\n",
       "\n",
       "          const docLinkHtml = 'Like what you see? Visit the ' +\n",
       "            '<a target=\"_blank\" href=https://colab.research.google.com/notebooks/data_table.ipynb>data table notebook</a>'\n",
       "            + ' to learn more about interactive tables.';\n",
       "          element.innerHTML = '';\n",
       "          dataTable['output_type'] = 'display_data';\n",
       "          await google.colab.output.renderOutput(dataTable, element);\n",
       "          const docLink = document.createElement('div');\n",
       "          docLink.innerHTML = docLinkHtml;\n",
       "          element.appendChild(docLink);\n",
       "        }\n",
       "      </script>\n",
       "    </div>\n",
       "  </div>\n",
       "  "
      ],
      "text/plain": [
       "  param_C param_kernel  mean_test_score\n",
       "0       1          rbf         0.633243\n",
       "1       1       linear         0.594919\n",
       "2      10          rbf         0.634023\n",
       "3      10       linear         0.599708\n",
       "4      20          rbf         0.633967\n",
       "5      20       linear         0.608566"
      ]
     },
     "execution_count": 27,
     "metadata": {},
     "output_type": "execute_result"
    }
   ],
   "source": [
    "df = pd.DataFrame(clf.cv_results_)\n",
    "df[['param_C','param_kernel','mean_test_score']]"
   ]
  },
  {
   "cell_type": "code",
   "execution_count": null,
   "id": "65e9d07_vbXR",
   "metadata": {
    "colab": {
     "base_uri": "https://localhost:8080/"
    },
    "hidden": true,
    "id": "65e9d07_vbXR",
    "outputId": "5efe02f2-121b-430e-cca3-d87bb258aa7e"
   },
   "outputs": [
    {
     "data": {
      "text/plain": [
       "({'C': 10, 'kernel': 'rbf'}, 0.6340225835402495)"
      ]
     },
     "execution_count": 28,
     "metadata": {},
     "output_type": "execute_result"
    }
   ],
   "source": [
    "clf.best_params_,clf.best_score_"
   ]
  },
  {
   "cell_type": "markdown",
   "id": "10e353ed",
   "metadata": {
    "heading_collapsed": true,
    "id": "10e353ed"
   },
   "source": [
    "## SVM Regressors"
   ]
  },
  {
   "cell_type": "code",
   "execution_count": null,
   "id": "7BF9xhRgpJZJ",
   "metadata": {
    "hidden": true,
    "id": "7BF9xhRgpJZJ"
   },
   "outputs": [],
   "source": [
    "from sklearn.svm import SVR\n",
    "from sklearn.model_selection import GridSearchCV"
   ]
  },
  {
   "cell_type": "code",
   "execution_count": null,
   "id": "91ea496d",
   "metadata": {
    "colab": {
     "base_uri": "https://localhost:8080/"
    },
    "hidden": true,
    "id": "91ea496d",
    "outputId": "7ff588be-58d6-436b-a625-162c96b6a5a5"
   },
   "outputs": [
    {
     "data": {
      "text/plain": [
       "-0.05607450542672132"
      ]
     },
     "execution_count": 17,
     "metadata": {},
     "output_type": "execute_result"
    }
   ],
   "source": [
    "X = df6[[\"brand_cat\",\"title_count\",\"desc_count\",\"img_count\"]]\n",
    "y=df6[\"rank1\"]\n",
    "\n",
    "X_train,X_test,y_train,y_test=train_test_split(X,y, test_size=0.3)\n",
    "sc = StandardScaler()\n",
    "X_train = sc.fit_transform(X_train)\n",
    "X_test = sc.transform(X_test)\n",
    "\n",
    "regressor = SVR(epsilon=0.1, C=1, kernel='linear',gamma='auto')\n",
    "\n",
    "model=regressor.fit(X_train,y_train)\n",
    "model.score(X_test,y_test)\n"
   ]
  },
  {
   "cell_type": "markdown",
   "id": "JCol9abHvROE",
   "metadata": {
    "hidden": true,
    "id": "JCol9abHvROE"
   },
   "source": [
    "GridSearchCV for SVM Regressor "
   ]
  },
  {
   "cell_type": "code",
   "execution_count": null,
   "id": "88wIs_1npq1B",
   "metadata": {
    "colab": {
     "base_uri": "https://localhost:8080/"
    },
    "hidden": true,
    "id": "88wIs_1npq1B",
    "outputId": "c86d52f5-43e1-4a5f-f324-dae2062e24f6"
   },
   "outputs": [
    {
     "data": {
      "text/plain": [
       "{'mean_fit_time': array([10.57959123,  7.41503916, 13.48051529,  6.72247534, 10.61148324,\n",
       "         6.43336458]),\n",
       " 'mean_score_time': array([2.60348535, 1.29092498, 2.64556274, 0.84663987, 2.61051817,\n",
       "        0.84400716]),\n",
       " 'mean_test_score': array([-0.22355136, -0.21834267, -0.21673908, -0.17909517, -0.20938667,\n",
       "        -0.15840706]),\n",
       " 'param_C': masked_array(data=[1, 1, 10, 10, 20, 20],\n",
       "              mask=[False, False, False, False, False, False],\n",
       "        fill_value='?',\n",
       "             dtype=object),\n",
       " 'param_kernel': masked_array(data=['rbf', 'linear', 'rbf', 'linear', 'rbf', 'linear'],\n",
       "              mask=[False, False, False, False, False, False],\n",
       "        fill_value='?',\n",
       "             dtype=object),\n",
       " 'params': [{'C': 1, 'kernel': 'rbf'},\n",
       "  {'C': 1, 'kernel': 'linear'},\n",
       "  {'C': 10, 'kernel': 'rbf'},\n",
       "  {'C': 10, 'kernel': 'linear'},\n",
       "  {'C': 20, 'kernel': 'rbf'},\n",
       "  {'C': 20, 'kernel': 'linear'}],\n",
       " 'rank_test_score': array([6, 5, 4, 2, 3, 1], dtype=int32),\n",
       " 'split0_test_score': array([-0.81771008, -0.81096927, -0.80998017, -0.76162189, -0.80022678,\n",
       "        -0.72767882]),\n",
       " 'split1_test_score': array([-0.17451615, -0.17120953, -0.16847595, -0.13557079, -0.16124866,\n",
       "        -0.11844185]),\n",
       " 'split2_test_score': array([-0.00110205,  0.00277869,  0.00383845,  0.03045285,  0.00884243,\n",
       "         0.0446711 ]),\n",
       " 'split3_test_score': array([-0.0105058 , -0.00636325, -0.00579714,  0.02522811, -0.00091425,\n",
       "         0.04066171]),\n",
       " 'split4_test_score': array([-0.11392272, -0.10594999, -0.10328057, -0.05396416, -0.09338608,\n",
       "        -0.03124746]),\n",
       " 'std_fit_time': array([0.12582653, 1.32244317, 2.55785209, 0.48353273, 0.23402462,\n",
       "        0.25308586]),\n",
       " 'std_score_time': array([0.04129263, 0.59013554, 0.09569561, 0.00875469, 0.02711139,\n",
       "        0.00757135]),\n",
       " 'std_test_score': array([0.3040788 , 0.3032787 , 0.30340999, 0.2975056 , 0.30197686,\n",
       "        0.29075978])}"
      ]
     },
     "execution_count": 18,
     "metadata": {},
     "output_type": "execute_result"
    }
   ],
   "source": [
    "X = df6[[\"brand_cat\",\"title_count\",\"desc_count\",\"img_count\"]]\n",
    "y=df6[\"rank1\"]\n",
    "\n",
    "sc = StandardScaler()\n",
    "X = sc.fit_transform(X)\n",
    "\n",
    "model = GridSearchCV(SVR(gamma='auto'), {\n",
    "    'C': [1,10,20],\n",
    "    'kernel': ['rbf','linear']\n",
    "}, cv=5, return_train_score=False)\n",
    "model.fit(X,y)\n",
    "model.cv_results_"
   ]
  },
  {
   "cell_type": "code",
   "execution_count": null,
   "id": "HABERNguqe6C",
   "metadata": {
    "colab": {
     "base_uri": "https://localhost:8080/",
     "height": 510
    },
    "hidden": true,
    "id": "HABERNguqe6C",
    "outputId": "f70d5e0d-f5ec-41c1-f729-c44ad42f7ca1"
   },
   "outputs": [
    {
     "data": {
      "text/html": [
       "\n",
       "  <div id=\"df-054995fc-5acd-42f6-b1e5-40d6a0da8a79\">\n",
       "    <div class=\"colab-df-container\">\n",
       "      <div>\n",
       "<style scoped>\n",
       "    .dataframe tbody tr th:only-of-type {\n",
       "        vertical-align: middle;\n",
       "    }\n",
       "\n",
       "    .dataframe tbody tr th {\n",
       "        vertical-align: top;\n",
       "    }\n",
       "\n",
       "    .dataframe thead th {\n",
       "        text-align: right;\n",
       "    }\n",
       "</style>\n",
       "<table border=\"1\" class=\"dataframe\">\n",
       "  <thead>\n",
       "    <tr style=\"text-align: right;\">\n",
       "      <th></th>\n",
       "      <th>mean_fit_time</th>\n",
       "      <th>std_fit_time</th>\n",
       "      <th>mean_score_time</th>\n",
       "      <th>std_score_time</th>\n",
       "      <th>param_C</th>\n",
       "      <th>param_kernel</th>\n",
       "      <th>params</th>\n",
       "      <th>split0_test_score</th>\n",
       "      <th>split1_test_score</th>\n",
       "      <th>split2_test_score</th>\n",
       "      <th>split3_test_score</th>\n",
       "      <th>split4_test_score</th>\n",
       "      <th>mean_test_score</th>\n",
       "      <th>std_test_score</th>\n",
       "      <th>rank_test_score</th>\n",
       "    </tr>\n",
       "  </thead>\n",
       "  <tbody>\n",
       "    <tr>\n",
       "      <th>0</th>\n",
       "      <td>10.579591</td>\n",
       "      <td>0.125827</td>\n",
       "      <td>2.603485</td>\n",
       "      <td>0.041293</td>\n",
       "      <td>1</td>\n",
       "      <td>rbf</td>\n",
       "      <td>{'C': 1, 'kernel': 'rbf'}</td>\n",
       "      <td>-0.817710</td>\n",
       "      <td>-0.174516</td>\n",
       "      <td>-0.001102</td>\n",
       "      <td>-0.010506</td>\n",
       "      <td>-0.113923</td>\n",
       "      <td>-0.223551</td>\n",
       "      <td>0.304079</td>\n",
       "      <td>6</td>\n",
       "    </tr>\n",
       "    <tr>\n",
       "      <th>1</th>\n",
       "      <td>7.415039</td>\n",
       "      <td>1.322443</td>\n",
       "      <td>1.290925</td>\n",
       "      <td>0.590136</td>\n",
       "      <td>1</td>\n",
       "      <td>linear</td>\n",
       "      <td>{'C': 1, 'kernel': 'linear'}</td>\n",
       "      <td>-0.810969</td>\n",
       "      <td>-0.171210</td>\n",
       "      <td>0.002779</td>\n",
       "      <td>-0.006363</td>\n",
       "      <td>-0.105950</td>\n",
       "      <td>-0.218343</td>\n",
       "      <td>0.303279</td>\n",
       "      <td>5</td>\n",
       "    </tr>\n",
       "    <tr>\n",
       "      <th>2</th>\n",
       "      <td>13.480515</td>\n",
       "      <td>2.557852</td>\n",
       "      <td>2.645563</td>\n",
       "      <td>0.095696</td>\n",
       "      <td>10</td>\n",
       "      <td>rbf</td>\n",
       "      <td>{'C': 10, 'kernel': 'rbf'}</td>\n",
       "      <td>-0.809980</td>\n",
       "      <td>-0.168476</td>\n",
       "      <td>0.003838</td>\n",
       "      <td>-0.005797</td>\n",
       "      <td>-0.103281</td>\n",
       "      <td>-0.216739</td>\n",
       "      <td>0.303410</td>\n",
       "      <td>4</td>\n",
       "    </tr>\n",
       "    <tr>\n",
       "      <th>3</th>\n",
       "      <td>6.722475</td>\n",
       "      <td>0.483533</td>\n",
       "      <td>0.846640</td>\n",
       "      <td>0.008755</td>\n",
       "      <td>10</td>\n",
       "      <td>linear</td>\n",
       "      <td>{'C': 10, 'kernel': 'linear'}</td>\n",
       "      <td>-0.761622</td>\n",
       "      <td>-0.135571</td>\n",
       "      <td>0.030453</td>\n",
       "      <td>0.025228</td>\n",
       "      <td>-0.053964</td>\n",
       "      <td>-0.179095</td>\n",
       "      <td>0.297506</td>\n",
       "      <td>2</td>\n",
       "    </tr>\n",
       "    <tr>\n",
       "      <th>4</th>\n",
       "      <td>10.611483</td>\n",
       "      <td>0.234025</td>\n",
       "      <td>2.610518</td>\n",
       "      <td>0.027111</td>\n",
       "      <td>20</td>\n",
       "      <td>rbf</td>\n",
       "      <td>{'C': 20, 'kernel': 'rbf'}</td>\n",
       "      <td>-0.800227</td>\n",
       "      <td>-0.161249</td>\n",
       "      <td>0.008842</td>\n",
       "      <td>-0.000914</td>\n",
       "      <td>-0.093386</td>\n",
       "      <td>-0.209387</td>\n",
       "      <td>0.301977</td>\n",
       "      <td>3</td>\n",
       "    </tr>\n",
       "    <tr>\n",
       "      <th>5</th>\n",
       "      <td>6.433365</td>\n",
       "      <td>0.253086</td>\n",
       "      <td>0.844007</td>\n",
       "      <td>0.007571</td>\n",
       "      <td>20</td>\n",
       "      <td>linear</td>\n",
       "      <td>{'C': 20, 'kernel': 'linear'}</td>\n",
       "      <td>-0.727679</td>\n",
       "      <td>-0.118442</td>\n",
       "      <td>0.044671</td>\n",
       "      <td>0.040662</td>\n",
       "      <td>-0.031247</td>\n",
       "      <td>-0.158407</td>\n",
       "      <td>0.290760</td>\n",
       "      <td>1</td>\n",
       "    </tr>\n",
       "  </tbody>\n",
       "</table>\n",
       "</div>\n",
       "      <button class=\"colab-df-convert\" onclick=\"convertToInteractive('df-054995fc-5acd-42f6-b1e5-40d6a0da8a79')\"\n",
       "              title=\"Convert this dataframe to an interactive table.\"\n",
       "              style=\"display:none;\">\n",
       "        \n",
       "  <svg xmlns=\"http://www.w3.org/2000/svg\" height=\"24px\"viewBox=\"0 0 24 24\"\n",
       "       width=\"24px\">\n",
       "    <path d=\"M0 0h24v24H0V0z\" fill=\"none\"/>\n",
       "    <path d=\"M18.56 5.44l.94 2.06.94-2.06 2.06-.94-2.06-.94-.94-2.06-.94 2.06-2.06.94zm-11 1L8.5 8.5l.94-2.06 2.06-.94-2.06-.94L8.5 2.5l-.94 2.06-2.06.94zm10 10l.94 2.06.94-2.06 2.06-.94-2.06-.94-.94-2.06-.94 2.06-2.06.94z\"/><path d=\"M17.41 7.96l-1.37-1.37c-.4-.4-.92-.59-1.43-.59-.52 0-1.04.2-1.43.59L10.3 9.45l-7.72 7.72c-.78.78-.78 2.05 0 2.83L4 21.41c.39.39.9.59 1.41.59.51 0 1.02-.2 1.41-.59l7.78-7.78 2.81-2.81c.8-.78.8-2.07 0-2.86zM5.41 20L4 18.59l7.72-7.72 1.47 1.35L5.41 20z\"/>\n",
       "  </svg>\n",
       "      </button>\n",
       "      \n",
       "  <style>\n",
       "    .colab-df-container {\n",
       "      display:flex;\n",
       "      flex-wrap:wrap;\n",
       "      gap: 12px;\n",
       "    }\n",
       "\n",
       "    .colab-df-convert {\n",
       "      background-color: #E8F0FE;\n",
       "      border: none;\n",
       "      border-radius: 50%;\n",
       "      cursor: pointer;\n",
       "      display: none;\n",
       "      fill: #1967D2;\n",
       "      height: 32px;\n",
       "      padding: 0 0 0 0;\n",
       "      width: 32px;\n",
       "    }\n",
       "\n",
       "    .colab-df-convert:hover {\n",
       "      background-color: #E2EBFA;\n",
       "      box-shadow: 0px 1px 2px rgba(60, 64, 67, 0.3), 0px 1px 3px 1px rgba(60, 64, 67, 0.15);\n",
       "      fill: #174EA6;\n",
       "    }\n",
       "\n",
       "    [theme=dark] .colab-df-convert {\n",
       "      background-color: #3B4455;\n",
       "      fill: #D2E3FC;\n",
       "    }\n",
       "\n",
       "    [theme=dark] .colab-df-convert:hover {\n",
       "      background-color: #434B5C;\n",
       "      box-shadow: 0px 1px 3px 1px rgba(0, 0, 0, 0.15);\n",
       "      filter: drop-shadow(0px 1px 2px rgba(0, 0, 0, 0.3));\n",
       "      fill: #FFFFFF;\n",
       "    }\n",
       "  </style>\n",
       "\n",
       "      <script>\n",
       "        const buttonEl =\n",
       "          document.querySelector('#df-054995fc-5acd-42f6-b1e5-40d6a0da8a79 button.colab-df-convert');\n",
       "        buttonEl.style.display =\n",
       "          google.colab.kernel.accessAllowed ? 'block' : 'none';\n",
       "\n",
       "        async function convertToInteractive(key) {\n",
       "          const element = document.querySelector('#df-054995fc-5acd-42f6-b1e5-40d6a0da8a79');\n",
       "          const dataTable =\n",
       "            await google.colab.kernel.invokeFunction('convertToInteractive',\n",
       "                                                     [key], {});\n",
       "          if (!dataTable) return;\n",
       "\n",
       "          const docLinkHtml = 'Like what you see? Visit the ' +\n",
       "            '<a target=\"_blank\" href=https://colab.research.google.com/notebooks/data_table.ipynb>data table notebook</a>'\n",
       "            + ' to learn more about interactive tables.';\n",
       "          element.innerHTML = '';\n",
       "          dataTable['output_type'] = 'display_data';\n",
       "          await google.colab.output.renderOutput(dataTable, element);\n",
       "          const docLink = document.createElement('div');\n",
       "          docLink.innerHTML = docLinkHtml;\n",
       "          element.appendChild(docLink);\n",
       "        }\n",
       "      </script>\n",
       "    </div>\n",
       "  </div>\n",
       "  "
      ],
      "text/plain": [
       "   mean_fit_time  std_fit_time  mean_score_time  std_score_time param_C  \\\n",
       "0      10.579591      0.125827         2.603485        0.041293       1   \n",
       "1       7.415039      1.322443         1.290925        0.590136       1   \n",
       "2      13.480515      2.557852         2.645563        0.095696      10   \n",
       "3       6.722475      0.483533         0.846640        0.008755      10   \n",
       "4      10.611483      0.234025         2.610518        0.027111      20   \n",
       "5       6.433365      0.253086         0.844007        0.007571      20   \n",
       "\n",
       "  param_kernel                         params  split0_test_score  \\\n",
       "0          rbf      {'C': 1, 'kernel': 'rbf'}          -0.817710   \n",
       "1       linear   {'C': 1, 'kernel': 'linear'}          -0.810969   \n",
       "2          rbf     {'C': 10, 'kernel': 'rbf'}          -0.809980   \n",
       "3       linear  {'C': 10, 'kernel': 'linear'}          -0.761622   \n",
       "4          rbf     {'C': 20, 'kernel': 'rbf'}          -0.800227   \n",
       "5       linear  {'C': 20, 'kernel': 'linear'}          -0.727679   \n",
       "\n",
       "   split1_test_score  split2_test_score  split3_test_score  split4_test_score  \\\n",
       "0          -0.174516          -0.001102          -0.010506          -0.113923   \n",
       "1          -0.171210           0.002779          -0.006363          -0.105950   \n",
       "2          -0.168476           0.003838          -0.005797          -0.103281   \n",
       "3          -0.135571           0.030453           0.025228          -0.053964   \n",
       "4          -0.161249           0.008842          -0.000914          -0.093386   \n",
       "5          -0.118442           0.044671           0.040662          -0.031247   \n",
       "\n",
       "   mean_test_score  std_test_score  rank_test_score  \n",
       "0        -0.223551        0.304079                6  \n",
       "1        -0.218343        0.303279                5  \n",
       "2        -0.216739        0.303410                4  \n",
       "3        -0.179095        0.297506                2  \n",
       "4        -0.209387        0.301977                3  \n",
       "5        -0.158407        0.290760                1  "
      ]
     },
     "execution_count": 19,
     "metadata": {},
     "output_type": "execute_result"
    }
   ],
   "source": [
    "df = pd.DataFrame(model.cv_results_)\n",
    "df"
   ]
  },
  {
   "cell_type": "code",
   "execution_count": null,
   "id": "37dNUFdlqu1a",
   "metadata": {
    "colab": {
     "base_uri": "https://localhost:8080/",
     "height": 238
    },
    "hidden": true,
    "id": "37dNUFdlqu1a",
    "outputId": "698a159e-6573-4741-94f7-84daa5176718"
   },
   "outputs": [
    {
     "data": {
      "text/html": [
       "\n",
       "  <div id=\"df-84244a68-f43e-408d-bcf5-90ef3932f272\">\n",
       "    <div class=\"colab-df-container\">\n",
       "      <div>\n",
       "<style scoped>\n",
       "    .dataframe tbody tr th:only-of-type {\n",
       "        vertical-align: middle;\n",
       "    }\n",
       "\n",
       "    .dataframe tbody tr th {\n",
       "        vertical-align: top;\n",
       "    }\n",
       "\n",
       "    .dataframe thead th {\n",
       "        text-align: right;\n",
       "    }\n",
       "</style>\n",
       "<table border=\"1\" class=\"dataframe\">\n",
       "  <thead>\n",
       "    <tr style=\"text-align: right;\">\n",
       "      <th></th>\n",
       "      <th>param_C</th>\n",
       "      <th>param_kernel</th>\n",
       "      <th>mean_test_score</th>\n",
       "    </tr>\n",
       "  </thead>\n",
       "  <tbody>\n",
       "    <tr>\n",
       "      <th>0</th>\n",
       "      <td>1</td>\n",
       "      <td>rbf</td>\n",
       "      <td>-0.223551</td>\n",
       "    </tr>\n",
       "    <tr>\n",
       "      <th>1</th>\n",
       "      <td>1</td>\n",
       "      <td>linear</td>\n",
       "      <td>-0.218343</td>\n",
       "    </tr>\n",
       "    <tr>\n",
       "      <th>2</th>\n",
       "      <td>10</td>\n",
       "      <td>rbf</td>\n",
       "      <td>-0.216739</td>\n",
       "    </tr>\n",
       "    <tr>\n",
       "      <th>3</th>\n",
       "      <td>10</td>\n",
       "      <td>linear</td>\n",
       "      <td>-0.179095</td>\n",
       "    </tr>\n",
       "    <tr>\n",
       "      <th>4</th>\n",
       "      <td>20</td>\n",
       "      <td>rbf</td>\n",
       "      <td>-0.209387</td>\n",
       "    </tr>\n",
       "    <tr>\n",
       "      <th>5</th>\n",
       "      <td>20</td>\n",
       "      <td>linear</td>\n",
       "      <td>-0.158407</td>\n",
       "    </tr>\n",
       "  </tbody>\n",
       "</table>\n",
       "</div>\n",
       "      <button class=\"colab-df-convert\" onclick=\"convertToInteractive('df-84244a68-f43e-408d-bcf5-90ef3932f272')\"\n",
       "              title=\"Convert this dataframe to an interactive table.\"\n",
       "              style=\"display:none;\">\n",
       "        \n",
       "  <svg xmlns=\"http://www.w3.org/2000/svg\" height=\"24px\"viewBox=\"0 0 24 24\"\n",
       "       width=\"24px\">\n",
       "    <path d=\"M0 0h24v24H0V0z\" fill=\"none\"/>\n",
       "    <path d=\"M18.56 5.44l.94 2.06.94-2.06 2.06-.94-2.06-.94-.94-2.06-.94 2.06-2.06.94zm-11 1L8.5 8.5l.94-2.06 2.06-.94-2.06-.94L8.5 2.5l-.94 2.06-2.06.94zm10 10l.94 2.06.94-2.06 2.06-.94-2.06-.94-.94-2.06-.94 2.06-2.06.94z\"/><path d=\"M17.41 7.96l-1.37-1.37c-.4-.4-.92-.59-1.43-.59-.52 0-1.04.2-1.43.59L10.3 9.45l-7.72 7.72c-.78.78-.78 2.05 0 2.83L4 21.41c.39.39.9.59 1.41.59.51 0 1.02-.2 1.41-.59l7.78-7.78 2.81-2.81c.8-.78.8-2.07 0-2.86zM5.41 20L4 18.59l7.72-7.72 1.47 1.35L5.41 20z\"/>\n",
       "  </svg>\n",
       "      </button>\n",
       "      \n",
       "  <style>\n",
       "    .colab-df-container {\n",
       "      display:flex;\n",
       "      flex-wrap:wrap;\n",
       "      gap: 12px;\n",
       "    }\n",
       "\n",
       "    .colab-df-convert {\n",
       "      background-color: #E8F0FE;\n",
       "      border: none;\n",
       "      border-radius: 50%;\n",
       "      cursor: pointer;\n",
       "      display: none;\n",
       "      fill: #1967D2;\n",
       "      height: 32px;\n",
       "      padding: 0 0 0 0;\n",
       "      width: 32px;\n",
       "    }\n",
       "\n",
       "    .colab-df-convert:hover {\n",
       "      background-color: #E2EBFA;\n",
       "      box-shadow: 0px 1px 2px rgba(60, 64, 67, 0.3), 0px 1px 3px 1px rgba(60, 64, 67, 0.15);\n",
       "      fill: #174EA6;\n",
       "    }\n",
       "\n",
       "    [theme=dark] .colab-df-convert {\n",
       "      background-color: #3B4455;\n",
       "      fill: #D2E3FC;\n",
       "    }\n",
       "\n",
       "    [theme=dark] .colab-df-convert:hover {\n",
       "      background-color: #434B5C;\n",
       "      box-shadow: 0px 1px 3px 1px rgba(0, 0, 0, 0.15);\n",
       "      filter: drop-shadow(0px 1px 2px rgba(0, 0, 0, 0.3));\n",
       "      fill: #FFFFFF;\n",
       "    }\n",
       "  </style>\n",
       "\n",
       "      <script>\n",
       "        const buttonEl =\n",
       "          document.querySelector('#df-84244a68-f43e-408d-bcf5-90ef3932f272 button.colab-df-convert');\n",
       "        buttonEl.style.display =\n",
       "          google.colab.kernel.accessAllowed ? 'block' : 'none';\n",
       "\n",
       "        async function convertToInteractive(key) {\n",
       "          const element = document.querySelector('#df-84244a68-f43e-408d-bcf5-90ef3932f272');\n",
       "          const dataTable =\n",
       "            await google.colab.kernel.invokeFunction('convertToInteractive',\n",
       "                                                     [key], {});\n",
       "          if (!dataTable) return;\n",
       "\n",
       "          const docLinkHtml = 'Like what you see? Visit the ' +\n",
       "            '<a target=\"_blank\" href=https://colab.research.google.com/notebooks/data_table.ipynb>data table notebook</a>'\n",
       "            + ' to learn more about interactive tables.';\n",
       "          element.innerHTML = '';\n",
       "          dataTable['output_type'] = 'display_data';\n",
       "          await google.colab.output.renderOutput(dataTable, element);\n",
       "          const docLink = document.createElement('div');\n",
       "          docLink.innerHTML = docLinkHtml;\n",
       "          element.appendChild(docLink);\n",
       "        }\n",
       "      </script>\n",
       "    </div>\n",
       "  </div>\n",
       "  "
      ],
      "text/plain": [
       "  param_C param_kernel  mean_test_score\n",
       "0       1          rbf        -0.223551\n",
       "1       1       linear        -0.218343\n",
       "2      10          rbf        -0.216739\n",
       "3      10       linear        -0.179095\n",
       "4      20          rbf        -0.209387\n",
       "5      20       linear        -0.158407"
      ]
     },
     "execution_count": 20,
     "metadata": {},
     "output_type": "execute_result"
    }
   ],
   "source": [
    "df[['param_C','param_kernel','mean_test_score']]"
   ]
  },
  {
   "cell_type": "code",
   "execution_count": null,
   "id": "wpgdhe-BqkXD",
   "metadata": {
    "colab": {
     "base_uri": "https://localhost:8080/"
    },
    "hidden": true,
    "id": "wpgdhe-BqkXD",
    "outputId": "fe0580c5-e1a9-4993-a17e-06cb02a5c196"
   },
   "outputs": [
    {
     "data": {
      "text/plain": [
       "{'C': 20, 'kernel': 'linear'}"
      ]
     },
     "execution_count": 21,
     "metadata": {},
     "output_type": "execute_result"
    }
   ],
   "source": [
    "model.best_params_"
   ]
  },
  {
   "cell_type": "code",
   "execution_count": null,
   "id": "bBENSPrVqk-3",
   "metadata": {
    "colab": {
     "base_uri": "https://localhost:8080/"
    },
    "hidden": true,
    "id": "bBENSPrVqk-3",
    "outputId": "1335ff81-4c52-4957-f64c-f0e2f24c10ef"
   },
   "outputs": [
    {
     "data": {
      "text/plain": [
       "-0.1584070647284664"
      ]
     },
     "execution_count": 22,
     "metadata": {},
     "output_type": "execute_result"
    }
   ],
   "source": [
    "model.best_score_"
   ]
  },
  {
   "cell_type": "markdown",
   "id": "f81bbf08",
   "metadata": {
    "heading_collapsed": true,
    "id": "f81bbf08"
   },
   "source": [
    "## Conclusion\n"
   ]
  },
  {
   "cell_type": "markdown",
   "id": "97534163",
   "metadata": {
    "hidden": true,
    "id": "97534163"
   },
   "source": [
    "We should use classification for our model, not regression"
   ]
  },
  {
   "cell_type": "markdown",
   "id": "b145290d",
   "metadata": {
    "heading_collapsed": true,
    "id": "b145290d"
   },
   "source": [
    "## TFIDF vectorizer"
   ]
  },
  {
   "cell_type": "code",
   "execution_count": null,
   "id": "4cc532ec",
   "metadata": {
    "hidden": true,
    "id": "4cc532ec",
    "outputId": "44e06c2e-12f3-4450-8f2b-4ec445911d7d"
   },
   "outputs": [
    {
     "data": {
      "text/html": [
       "<div>\n",
       "<style scoped>\n",
       "    .dataframe tbody tr th:only-of-type {\n",
       "        vertical-align: middle;\n",
       "    }\n",
       "\n",
       "    .dataframe tbody tr th {\n",
       "        vertical-align: top;\n",
       "    }\n",
       "\n",
       "    .dataframe thead th {\n",
       "        text-align: right;\n",
       "    }\n",
       "</style>\n",
       "<table border=\"1\" class=\"dataframe\">\n",
       "  <thead>\n",
       "    <tr style=\"text-align: right;\">\n",
       "      <th></th>\n",
       "      <th>description</th>\n",
       "      <th>title</th>\n",
       "      <th>image</th>\n",
       "      <th>brand</th>\n",
       "      <th>rank</th>\n",
       "      <th>date</th>\n",
       "      <th>asin</th>\n",
       "      <th>brand_cat</th>\n",
       "      <th>rank1</th>\n",
       "      <th>title_count</th>\n",
       "      <th>desc_count</th>\n",
       "      <th>img_count</th>\n",
       "      <th>rank_cat</th>\n",
       "    </tr>\n",
       "  </thead>\n",
       "  <tbody>\n",
       "    <tr>\n",
       "      <th>0</th>\n",
       "      <td>Brand new. Still in factory-sealed plastic.</td>\n",
       "      <td>Kelby Training DVD: The Adobe Photoshop CS5 7-...</td>\n",
       "      <td>[https://images-na.ssl-images-amazon.com/image...</td>\n",
       "      <td>Kelby Training</td>\n",
       "      <td>[&gt;#654,681 in Electronics (See Top 100 in Elec...</td>\n",
       "      <td>December 2, 2011</td>\n",
       "      <td>0321732960</td>\n",
       "      <td>1</td>\n",
       "      <td>654681</td>\n",
       "      <td>88</td>\n",
       "      <td>43</td>\n",
       "      <td>1</td>\n",
       "      <td>0</td>\n",
       "    </tr>\n",
       "    <tr>\n",
       "      <th>1</th>\n",
       "      <td>\"If you're already a Photoshop user and want a...</td>\n",
       "      <td>Kelby Training DVD: Adobe Photoshop CS5 Power ...</td>\n",
       "      <td>[https://images-na.ssl-images-amazon.com/image...</td>\n",
       "      <td>Kelby Training</td>\n",
       "      <td>[&gt;#830,165 in Electronics (See Top 100 in Elec...</td>\n",
       "      <td>November 7, 2011</td>\n",
       "      <td>0321735722</td>\n",
       "      <td>1</td>\n",
       "      <td>830165</td>\n",
       "      <td>72</td>\n",
       "      <td>257</td>\n",
       "      <td>1</td>\n",
       "      <td>0</td>\n",
       "    </tr>\n",
       "  </tbody>\n",
       "</table>\n",
       "</div>"
      ],
      "text/plain": [
       "                                         description  \\\n",
       "0        Brand new. Still in factory-sealed plastic.   \n",
       "1  \"If you're already a Photoshop user and want a...   \n",
       "\n",
       "                                               title  \\\n",
       "0  Kelby Training DVD: The Adobe Photoshop CS5 7-...   \n",
       "1  Kelby Training DVD: Adobe Photoshop CS5 Power ...   \n",
       "\n",
       "                                               image           brand  \\\n",
       "0  [https://images-na.ssl-images-amazon.com/image...  Kelby Training   \n",
       "1  [https://images-na.ssl-images-amazon.com/image...  Kelby Training   \n",
       "\n",
       "                                                rank              date  \\\n",
       "0  [>#654,681 in Electronics (See Top 100 in Elec...  December 2, 2011   \n",
       "1  [>#830,165 in Electronics (See Top 100 in Elec...  November 7, 2011   \n",
       "\n",
       "         asin  brand_cat   rank1  title_count  desc_count  img_count  rank_cat  \n",
       "0  0321732960          1  654681           88          43          1         0  \n",
       "1  0321735722          1  830165           72         257          1         0  "
      ]
     },
     "execution_count": 114,
     "metadata": {},
     "output_type": "execute_result"
    }
   ],
   "source": [
    "df6.head(2)"
   ]
  },
  {
   "cell_type": "code",
   "execution_count": null,
   "id": "df0a39e9",
   "metadata": {
    "hidden": true,
    "id": "df0a39e9"
   },
   "outputs": [],
   "source": [
    "# !pip install nltk\n",
    "\n",
    "import nltk\n",
    "from deep_seo.utils import punc,lower,lemmatize,nonumbers,stopword\n",
    "from sklearn.feature_extraction.text import TfidfVectorizer"
   ]
  },
  {
   "cell_type": "markdown",
   "id": "8a5e85a5",
   "metadata": {
    "hidden": true,
    "id": "8a5e85a5"
   },
   "source": [
    "### TFIDF for brand, description & title column "
   ]
  },
  {
   "cell_type": "code",
   "execution_count": null,
   "id": "5f802bb8",
   "metadata": {
    "hidden": true,
    "id": "5f802bb8"
   },
   "outputs": [],
   "source": [
    "from nltk.corpus import stopwords \n",
    "from nltk.tokenize import word_tokenize"
   ]
  },
  {
   "cell_type": "code",
   "execution_count": null,
   "id": "bbf8073f",
   "metadata": {
    "hidden": true,
    "id": "bbf8073f",
    "outputId": "5e8784b6-fbcc-40e3-b979-8c08b5c5a124"
   },
   "outputs": [
    {
     "data": {
      "text/plain": [
       "<1x100 sparse matrix of type '<class 'numpy.float64'>'\n",
       "\twith 100 stored elements in Compressed Sparse Row format>"
      ]
     },
     "execution_count": 97,
     "metadata": {},
     "output_type": "execute_result"
    }
   ],
   "source": [
    "def full_text_processing(columns):\n",
    "    a=\"\"\n",
    "    for i in columns:\n",
    "        a=a+i \n",
    "    a=punc(a)\n",
    "    a=lower(a)\n",
    "    a=nonumbers(a)\n",
    "    a=stopword(a)\n",
    "    a=lemmatize(a)\n",
    "    b=[a]\n",
    "    vectorizer = TfidfVectorizer(max_features = 100)\n",
    "    X = vectorizer.fit_transform(b) #brand\n",
    "    return X\n",
    "\n",
    "full_text_processing(df6.brand)\n"
   ]
  },
  {
   "cell_type": "code",
   "execution_count": null,
   "id": "d9cc0337",
   "metadata": {
    "hidden": true,
    "id": "d9cc0337",
    "outputId": "5932e736-2908-4acd-ab67-57a45807ef78",
    "scrolled": true
   },
   "outputs": [
    {
     "name": "stderr",
     "output_type": "stream",
     "text": [
      "/Users/elizabeth/.pyenv/versions/3.8.12/envs/deep_seo/lib/python3.8/site-packages/sklearn/utils/deprecation.py:87: FutureWarning: Function get_feature_names is deprecated; get_feature_names is deprecated in 1.0 and will be removed in 1.2. Please use get_feature_names_out instead.\n",
      "  warnings.warn(msg, category=FutureWarning)\n"
     ]
    },
    {
     "data": {
      "text/plain": [
       "Index(['android', 'bag', 'battery', 'boxalucky', 'brand', 'cable', 'case',\n",
       "       'casetop', 'city', 'co', 'coltdbestrunner', 'coltdyuyao',\n",
       "       'communication', 'company', 'companylike', 'componentsatech',\n",
       "       'computer', 'creative', 'decal', 'digital', 'directfactory', 'doctor',\n",
       "       'dragon', 'drive', 'duang', 'earthtechno', 'electronic', 'electronics',\n",
       "       'electronicsaurora', 'electronicsseifelden', 'etcessentials',\n",
       "       'factoryhotcool', 'flash', 'frogice', 'fujitsu', 'future', 'gb',\n",
       "       'global', 'hardwareintelligent', 'high', 'hitachi', 'holster',\n",
       "       'hqlaptop', 'industrial', 'industry', 'international', 'inventory',\n",
       "       'ipad', 'junsi', 'knightrikki', 'koolcase', 'laptop', 'lifetime',\n",
       "       'limitedues', 'llccactus', 'llcfocus', 'ltddongguan', 'ltdsingo',\n",
       "       'ltdtsmine', 'maidun', 'manufacturer', 'maxtordepending', 'medium',\n",
       "       'memory', 'memorymemzi', 'metal', 'micro', 'mini', 'moregraphics',\n",
       "       'network', 'nutra', 'partsbay', 'pc', 'piraspberry', 'power', 'product',\n",
       "       'samsung', 'sata', 'screen', 'seacable', 'seagate', 'speaker',\n",
       "       'storelivepedaltechnox', 'storetechnox', 'stronger', 'style',\n",
       "       'styleeasy', 'system', 'tech', 'technolgy', 'technology', 'toshiba',\n",
       "       'tradeiven', 'trading', 'usb', 'valley', 'western', 'world', 'wu',\n",
       "       'zhaoshun'],\n",
       "      dtype='object')"
      ]
     },
     "execution_count": 207,
     "metadata": {},
     "output_type": "execute_result"
    }
   ],
   "source": [
    "X=full_text_processing(df6.description)\n",
    "X.toarray()\n",
    "aa=pd.DataFrame(X.toarray(),columns = vectorizer.get_feature_names())\n",
    "aa.columns"
   ]
  },
  {
   "cell_type": "code",
   "execution_count": null,
   "id": "befde210",
   "metadata": {
    "hidden": true,
    "id": "befde210",
    "outputId": "29061ebc-8b2e-4701-a837-611895f03419",
    "scrolled": true
   },
   "outputs": [
    {
     "data": {
      "text/plain": [
       "<1x100 sparse matrix of type '<class 'numpy.float64'>'\n",
       "\twith 100 stored elements in Compressed Sparse Row format>"
      ]
     },
     "execution_count": 116,
     "metadata": {},
     "output_type": "execute_result"
    }
   ],
   "source": [
    "full_text_processing(df6.title)"
   ]
  },
  {
   "cell_type": "code",
   "execution_count": 22,
   "id": "a9098b36",
   "metadata": {
    "hidden": true,
    "id": "a9098b36",
    "outputId": "f3c9c961-2ed2-453e-d216-677147aac53c",
    "scrolled": true
   },
   "outputs": [
    {
     "data": {
      "text/html": [
       "<style>#sk-container-id-7 {color: black;background-color: white;}#sk-container-id-7 pre{padding: 0;}#sk-container-id-7 div.sk-toggleable {background-color: white;}#sk-container-id-7 label.sk-toggleable__label {cursor: pointer;display: block;width: 100%;margin-bottom: 0;padding: 0.3em;box-sizing: border-box;text-align: center;}#sk-container-id-7 label.sk-toggleable__label-arrow:before {content: \"▸\";float: left;margin-right: 0.25em;color: #696969;}#sk-container-id-7 label.sk-toggleable__label-arrow:hover:before {color: black;}#sk-container-id-7 div.sk-estimator:hover label.sk-toggleable__label-arrow:before {color: black;}#sk-container-id-7 div.sk-toggleable__content {max-height: 0;max-width: 0;overflow: hidden;text-align: left;background-color: #f0f8ff;}#sk-container-id-7 div.sk-toggleable__content pre {margin: 0.2em;color: black;border-radius: 0.25em;background-color: #f0f8ff;}#sk-container-id-7 input.sk-toggleable__control:checked~div.sk-toggleable__content {max-height: 200px;max-width: 100%;overflow: auto;}#sk-container-id-7 input.sk-toggleable__control:checked~label.sk-toggleable__label-arrow:before {content: \"▾\";}#sk-container-id-7 div.sk-estimator input.sk-toggleable__control:checked~label.sk-toggleable__label {background-color: #d4ebff;}#sk-container-id-7 div.sk-label input.sk-toggleable__control:checked~label.sk-toggleable__label {background-color: #d4ebff;}#sk-container-id-7 input.sk-hidden--visually {border: 0;clip: rect(1px 1px 1px 1px);clip: rect(1px, 1px, 1px, 1px);height: 1px;margin: -1px;overflow: hidden;padding: 0;position: absolute;width: 1px;}#sk-container-id-7 div.sk-estimator {font-family: monospace;background-color: #f0f8ff;border: 1px dotted black;border-radius: 0.25em;box-sizing: border-box;margin-bottom: 0.5em;}#sk-container-id-7 div.sk-estimator:hover {background-color: #d4ebff;}#sk-container-id-7 div.sk-parallel-item::after {content: \"\";width: 100%;border-bottom: 1px solid gray;flex-grow: 1;}#sk-container-id-7 div.sk-label:hover label.sk-toggleable__label {background-color: #d4ebff;}#sk-container-id-7 div.sk-serial::before {content: \"\";position: absolute;border-left: 1px solid gray;box-sizing: border-box;top: 0;bottom: 0;left: 50%;z-index: 0;}#sk-container-id-7 div.sk-serial {display: flex;flex-direction: column;align-items: center;background-color: white;padding-right: 0.2em;padding-left: 0.2em;position: relative;}#sk-container-id-7 div.sk-item {position: relative;z-index: 1;}#sk-container-id-7 div.sk-parallel {display: flex;align-items: stretch;justify-content: center;background-color: white;position: relative;}#sk-container-id-7 div.sk-item::before, #sk-container-id-7 div.sk-parallel-item::before {content: \"\";position: absolute;border-left: 1px solid gray;box-sizing: border-box;top: 0;bottom: 0;left: 50%;z-index: -1;}#sk-container-id-7 div.sk-parallel-item {display: flex;flex-direction: column;z-index: 1;position: relative;background-color: white;}#sk-container-id-7 div.sk-parallel-item:first-child::after {align-self: flex-end;width: 50%;}#sk-container-id-7 div.sk-parallel-item:last-child::after {align-self: flex-start;width: 50%;}#sk-container-id-7 div.sk-parallel-item:only-child::after {width: 0;}#sk-container-id-7 div.sk-dashed-wrapped {border: 1px dashed gray;margin: 0 0.4em 0.5em 0.4em;box-sizing: border-box;padding-bottom: 0.4em;background-color: white;}#sk-container-id-7 div.sk-label label {font-family: monospace;font-weight: bold;display: inline-block;line-height: 1.2em;}#sk-container-id-7 div.sk-label-container {text-align: center;}#sk-container-id-7 div.sk-container {/* jupyter's `normalize.less` sets `[hidden] { display: none; }` but bootstrap.min.css set `[hidden] { display: none !important; }` so we also need the `!important` here to be able to override the default hidden behavior on the sphinx rendered scikit-learn.org. See: https://github.com/scikit-learn/scikit-learn/issues/21755 */display: inline-block !important;position: relative;}#sk-container-id-7 div.sk-text-repr-fallback {display: none;}</style><div id=\"sk-container-id-7\" class=\"sk-top-container\"><div class=\"sk-text-repr-fallback\"><pre>Pipeline(steps=[(&#x27;tfidf&#x27;,\n",
       "                 ColumnTransformer(remainder=&#x27;passthrough&#x27;,\n",
       "                                   transformers=[(&#x27;tfidf1&#x27;, TfidfVectorizer(),\n",
       "                                                  &#x27;title&#x27;),\n",
       "                                                 (&#x27;tfidf2&#x27;, TfidfVectorizer(),\n",
       "                                                  &#x27;description&#x27;),\n",
       "                                                 (&#x27;tfidf3&#x27;, TfidfVectorizer(),\n",
       "                                                  &#x27;brand&#x27;)])),\n",
       "                (&#x27;classify&#x27;, MultinomialNB())])</pre><b>In a Jupyter environment, please rerun this cell to show the HTML representation or trust the notebook. <br />On GitHub, the HTML representation is unable to render, please try loading this page with nbviewer.org.</b></div><div class=\"sk-container\" hidden><div class=\"sk-item sk-dashed-wrapped\"><div class=\"sk-label-container\"><div class=\"sk-label sk-toggleable\"><input class=\"sk-toggleable__control sk-hidden--visually\" id=\"sk-estimator-id-67\" type=\"checkbox\" ><label for=\"sk-estimator-id-67\" class=\"sk-toggleable__label sk-toggleable__label-arrow\">Pipeline</label><div class=\"sk-toggleable__content\"><pre>Pipeline(steps=[(&#x27;tfidf&#x27;,\n",
       "                 ColumnTransformer(remainder=&#x27;passthrough&#x27;,\n",
       "                                   transformers=[(&#x27;tfidf1&#x27;, TfidfVectorizer(),\n",
       "                                                  &#x27;title&#x27;),\n",
       "                                                 (&#x27;tfidf2&#x27;, TfidfVectorizer(),\n",
       "                                                  &#x27;description&#x27;),\n",
       "                                                 (&#x27;tfidf3&#x27;, TfidfVectorizer(),\n",
       "                                                  &#x27;brand&#x27;)])),\n",
       "                (&#x27;classify&#x27;, MultinomialNB())])</pre></div></div></div><div class=\"sk-serial\"><div class=\"sk-item sk-dashed-wrapped\"><div class=\"sk-label-container\"><div class=\"sk-label sk-toggleable\"><input class=\"sk-toggleable__control sk-hidden--visually\" id=\"sk-estimator-id-68\" type=\"checkbox\" ><label for=\"sk-estimator-id-68\" class=\"sk-toggleable__label sk-toggleable__label-arrow\">tfidf: ColumnTransformer</label><div class=\"sk-toggleable__content\"><pre>ColumnTransformer(remainder=&#x27;passthrough&#x27;,\n",
       "                  transformers=[(&#x27;tfidf1&#x27;, TfidfVectorizer(), &#x27;title&#x27;),\n",
       "                                (&#x27;tfidf2&#x27;, TfidfVectorizer(), &#x27;description&#x27;),\n",
       "                                (&#x27;tfidf3&#x27;, TfidfVectorizer(), &#x27;brand&#x27;)])</pre></div></div></div><div class=\"sk-parallel\"><div class=\"sk-parallel-item\"><div class=\"sk-item\"><div class=\"sk-label-container\"><div class=\"sk-label sk-toggleable\"><input class=\"sk-toggleable__control sk-hidden--visually\" id=\"sk-estimator-id-69\" type=\"checkbox\" ><label for=\"sk-estimator-id-69\" class=\"sk-toggleable__label sk-toggleable__label-arrow\">tfidf1</label><div class=\"sk-toggleable__content\"><pre>title</pre></div></div></div><div class=\"sk-serial\"><div class=\"sk-item\"><div class=\"sk-estimator sk-toggleable\"><input class=\"sk-toggleable__control sk-hidden--visually\" id=\"sk-estimator-id-70\" type=\"checkbox\" ><label for=\"sk-estimator-id-70\" class=\"sk-toggleable__label sk-toggleable__label-arrow\">TfidfVectorizer</label><div class=\"sk-toggleable__content\"><pre>TfidfVectorizer()</pre></div></div></div></div></div></div><div class=\"sk-parallel-item\"><div class=\"sk-item\"><div class=\"sk-label-container\"><div class=\"sk-label sk-toggleable\"><input class=\"sk-toggleable__control sk-hidden--visually\" id=\"sk-estimator-id-71\" type=\"checkbox\" ><label for=\"sk-estimator-id-71\" class=\"sk-toggleable__label sk-toggleable__label-arrow\">tfidf2</label><div class=\"sk-toggleable__content\"><pre>description</pre></div></div></div><div class=\"sk-serial\"><div class=\"sk-item\"><div class=\"sk-estimator sk-toggleable\"><input class=\"sk-toggleable__control sk-hidden--visually\" id=\"sk-estimator-id-72\" type=\"checkbox\" ><label for=\"sk-estimator-id-72\" class=\"sk-toggleable__label sk-toggleable__label-arrow\">TfidfVectorizer</label><div class=\"sk-toggleable__content\"><pre>TfidfVectorizer()</pre></div></div></div></div></div></div><div class=\"sk-parallel-item\"><div class=\"sk-item\"><div class=\"sk-label-container\"><div class=\"sk-label sk-toggleable\"><input class=\"sk-toggleable__control sk-hidden--visually\" id=\"sk-estimator-id-73\" type=\"checkbox\" ><label for=\"sk-estimator-id-73\" class=\"sk-toggleable__label sk-toggleable__label-arrow\">tfidf3</label><div class=\"sk-toggleable__content\"><pre>brand</pre></div></div></div><div class=\"sk-serial\"><div class=\"sk-item\"><div class=\"sk-estimator sk-toggleable\"><input class=\"sk-toggleable__control sk-hidden--visually\" id=\"sk-estimator-id-74\" type=\"checkbox\" ><label for=\"sk-estimator-id-74\" class=\"sk-toggleable__label sk-toggleable__label-arrow\">TfidfVectorizer</label><div class=\"sk-toggleable__content\"><pre>TfidfVectorizer()</pre></div></div></div></div></div></div><div class=\"sk-parallel-item\"><div class=\"sk-item\"><div class=\"sk-label-container\"><div class=\"sk-label sk-toggleable\"><input class=\"sk-toggleable__control sk-hidden--visually\" id=\"sk-estimator-id-75\" type=\"checkbox\" ><label for=\"sk-estimator-id-75\" class=\"sk-toggleable__label sk-toggleable__label-arrow\">remainder</label><div class=\"sk-toggleable__content\"><pre>[&#x27;brand_cat&#x27;, &#x27;title_count&#x27;, &#x27;desc_count&#x27;, &#x27;img_count&#x27;]</pre></div></div></div><div class=\"sk-serial\"><div class=\"sk-item\"><div class=\"sk-estimator sk-toggleable\"><input class=\"sk-toggleable__control sk-hidden--visually\" id=\"sk-estimator-id-76\" type=\"checkbox\" ><label for=\"sk-estimator-id-76\" class=\"sk-toggleable__label sk-toggleable__label-arrow\">passthrough</label><div class=\"sk-toggleable__content\"><pre>passthrough</pre></div></div></div></div></div></div></div></div><div class=\"sk-item\"><div class=\"sk-estimator sk-toggleable\"><input class=\"sk-toggleable__control sk-hidden--visually\" id=\"sk-estimator-id-77\" type=\"checkbox\" ><label for=\"sk-estimator-id-77\" class=\"sk-toggleable__label sk-toggleable__label-arrow\">MultinomialNB</label><div class=\"sk-toggleable__content\"><pre>MultinomialNB()</pre></div></div></div></div></div></div></div>"
      ],
      "text/plain": [
       "Pipeline(steps=[('tfidf',\n",
       "                 ColumnTransformer(remainder='passthrough',\n",
       "                                   transformers=[('tfidf1', TfidfVectorizer(),\n",
       "                                                  'title'),\n",
       "                                                 ('tfidf2', TfidfVectorizer(),\n",
       "                                                  'description'),\n",
       "                                                 ('tfidf3', TfidfVectorizer(),\n",
       "                                                  'brand')])),\n",
       "                ('classify', MultinomialNB())])"
      ]
     },
     "execution_count": 22,
     "metadata": {},
     "output_type": "execute_result"
    }
   ],
   "source": [
    "from sklearn.pipeline import Pipeline\n",
    "from sklearn.compose import ColumnTransformer\n",
    "from sklearn.linear_model import LogisticRegression\n",
    "from sklearn.feature_extraction.text import TfidfVectorizer\n",
    "from sklearn.svm import SVC\n",
    "from sklearn.naive_bayes import MultinomialNB\n",
    "\n",
    "\n",
    "# Set X and y\n",
    "X = df6[[\"brand_cat\",\"title_count\",\"desc_count\",\"img_count\",\"title\",\"description\",\"brand\"]]\n",
    "y=df6[\"rank_cat\"]\n",
    "\n",
    "X_train,X_test,y_train,y_test=train_test_split(X,y, test_size=0.3)\n",
    "\n",
    "# initialise model and vectorizers\n",
    "model = MultinomialNB()\n",
    "vectorizer1 = TfidfVectorizer()\n",
    "vectorizer2 = TfidfVectorizer()\n",
    "vectorizer3 = TfidfVectorizer()\n",
    "scaler1 = StandardScaler()\n",
    "scaler2 = StandardScaler()\n",
    "\n",
    "# construct the column transfomer\n",
    "column_transformer = ColumnTransformer(\n",
    "    [('tfidf1', vectorizer1, 'title'), \n",
    "     ('tfidf2', vectorizer2, 'description'),\n",
    "    ('tfidf3', vectorizer3, 'brand')],\n",
    "    remainder='passthrough')\n",
    "\n",
    "# fit the model\n",
    "pipe = Pipeline([\n",
    "                  ('tfidf', column_transformer),\n",
    "                  ('classify', model)\n",
    "                ])\n",
    "pipe.fit(X_train,y_train)"
   ]
  },
  {
   "cell_type": "code",
   "execution_count": 23,
   "id": "3c83f732",
   "metadata": {
    "hidden": true
   },
   "outputs": [
    {
     "data": {
      "text/plain": [
       "0.5770516152989231"
      ]
     },
     "execution_count": 23,
     "metadata": {},
     "output_type": "execute_result"
    }
   ],
   "source": [
    "pipe.score(X_test,y_test)"
   ]
  },
  {
   "cell_type": "markdown",
   "id": "beea559c",
   "metadata": {
    "heading_collapsed": true,
    "id": "beea559c"
   },
   "source": [
    "## Pipeline"
   ]
  },
  {
   "cell_type": "code",
   "execution_count": null,
   "id": "fb78f46f",
   "metadata": {
    "hidden": true,
    "id": "fb78f46f",
    "outputId": "92067d73-020f-4bc8-b5f1-ae9c2b9b08f3"
   },
   "outputs": [
    {
     "data": {
      "text/plain": [
       "Index(['description', 'title', 'image', 'brand', 'rank', 'date', 'asin',\n",
       "       'brand_cat', 'rank1', 'title_count', 'desc_count', 'img_count'],\n",
       "      dtype='object')"
      ]
     },
     "execution_count": 92,
     "metadata": {},
     "output_type": "execute_result"
    }
   ],
   "source": [
    "df6.columns\n",
    "# numerical>['title_count', 'desc_count', 'img_count']\n",
    "# categorical>['brand_cat']"
   ]
  },
  {
   "cell_type": "code",
   "execution_count": null,
   "id": "20d1ca62",
   "metadata": {
    "hidden": true,
    "id": "20d1ca62"
   },
   "outputs": [],
   "source": [
    "from sklearn.pipeline import make_pipeline\n",
    "from sklearn.pipeline import make_union\n",
    "from sklearn.compose import make_column_transformer\n",
    "from sklearn.preprocessing import StandardScaler\n",
    "from sklearn.linear_model import LogisticRegression"
   ]
  },
  {
   "cell_type": "code",
   "execution_count": null,
   "id": "2d0981fe",
   "metadata": {
    "hidden": true,
    "id": "2d0981fe"
   },
   "outputs": [],
   "source": [
    "X = df6[[\"brand_cat\",\"title_count\",\"desc_count\",\"img_count\"]]\n",
    "y=df6[\"rank\"]"
   ]
  },
  {
   "cell_type": "code",
   "execution_count": null,
   "id": "f741ae96",
   "metadata": {
    "hidden": true,
    "id": "f741ae96",
    "outputId": "793fcefa-c43c-4b59-92f1-5cc3718643b2"
   },
   "outputs": [
    {
     "data": {
      "text/html": [
       "<style>#sk-container-id-2 {color: black;background-color: white;}#sk-container-id-2 pre{padding: 0;}#sk-container-id-2 div.sk-toggleable {background-color: white;}#sk-container-id-2 label.sk-toggleable__label {cursor: pointer;display: block;width: 100%;margin-bottom: 0;padding: 0.3em;box-sizing: border-box;text-align: center;}#sk-container-id-2 label.sk-toggleable__label-arrow:before {content: \"▸\";float: left;margin-right: 0.25em;color: #696969;}#sk-container-id-2 label.sk-toggleable__label-arrow:hover:before {color: black;}#sk-container-id-2 div.sk-estimator:hover label.sk-toggleable__label-arrow:before {color: black;}#sk-container-id-2 div.sk-toggleable__content {max-height: 0;max-width: 0;overflow: hidden;text-align: left;background-color: #f0f8ff;}#sk-container-id-2 div.sk-toggleable__content pre {margin: 0.2em;color: black;border-radius: 0.25em;background-color: #f0f8ff;}#sk-container-id-2 input.sk-toggleable__control:checked~div.sk-toggleable__content {max-height: 200px;max-width: 100%;overflow: auto;}#sk-container-id-2 input.sk-toggleable__control:checked~label.sk-toggleable__label-arrow:before {content: \"▾\";}#sk-container-id-2 div.sk-estimator input.sk-toggleable__control:checked~label.sk-toggleable__label {background-color: #d4ebff;}#sk-container-id-2 div.sk-label input.sk-toggleable__control:checked~label.sk-toggleable__label {background-color: #d4ebff;}#sk-container-id-2 input.sk-hidden--visually {border: 0;clip: rect(1px 1px 1px 1px);clip: rect(1px, 1px, 1px, 1px);height: 1px;margin: -1px;overflow: hidden;padding: 0;position: absolute;width: 1px;}#sk-container-id-2 div.sk-estimator {font-family: monospace;background-color: #f0f8ff;border: 1px dotted black;border-radius: 0.25em;box-sizing: border-box;margin-bottom: 0.5em;}#sk-container-id-2 div.sk-estimator:hover {background-color: #d4ebff;}#sk-container-id-2 div.sk-parallel-item::after {content: \"\";width: 100%;border-bottom: 1px solid gray;flex-grow: 1;}#sk-container-id-2 div.sk-label:hover label.sk-toggleable__label {background-color: #d4ebff;}#sk-container-id-2 div.sk-serial::before {content: \"\";position: absolute;border-left: 1px solid gray;box-sizing: border-box;top: 0;bottom: 0;left: 50%;z-index: 0;}#sk-container-id-2 div.sk-serial {display: flex;flex-direction: column;align-items: center;background-color: white;padding-right: 0.2em;padding-left: 0.2em;position: relative;}#sk-container-id-2 div.sk-item {position: relative;z-index: 1;}#sk-container-id-2 div.sk-parallel {display: flex;align-items: stretch;justify-content: center;background-color: white;position: relative;}#sk-container-id-2 div.sk-item::before, #sk-container-id-2 div.sk-parallel-item::before {content: \"\";position: absolute;border-left: 1px solid gray;box-sizing: border-box;top: 0;bottom: 0;left: 50%;z-index: -1;}#sk-container-id-2 div.sk-parallel-item {display: flex;flex-direction: column;z-index: 1;position: relative;background-color: white;}#sk-container-id-2 div.sk-parallel-item:first-child::after {align-self: flex-end;width: 50%;}#sk-container-id-2 div.sk-parallel-item:last-child::after {align-self: flex-start;width: 50%;}#sk-container-id-2 div.sk-parallel-item:only-child::after {width: 0;}#sk-container-id-2 div.sk-dashed-wrapped {border: 1px dashed gray;margin: 0 0.4em 0.5em 0.4em;box-sizing: border-box;padding-bottom: 0.4em;background-color: white;}#sk-container-id-2 div.sk-label label {font-family: monospace;font-weight: bold;display: inline-block;line-height: 1.2em;}#sk-container-id-2 div.sk-label-container {text-align: center;}#sk-container-id-2 div.sk-container {/* jupyter's `normalize.less` sets `[hidden] { display: none; }` but bootstrap.min.css set `[hidden] { display: none !important; }` so we also need the `!important` here to be able to override the default hidden behavior on the sphinx rendered scikit-learn.org. See: https://github.com/scikit-learn/scikit-learn/issues/21755 */display: inline-block !important;position: relative;}#sk-container-id-2 div.sk-text-repr-fallback {display: none;}</style><div id=\"sk-container-id-2\" class=\"sk-top-container\"><div class=\"sk-text-repr-fallback\"><pre>Pipeline(steps=[(&#x27;columntransformer&#x27;,\n",
       "                 ColumnTransformer(remainder=&#x27;passthrough&#x27;,\n",
       "                                   transformers=[(&#x27;pipeline&#x27;,\n",
       "                                                  Pipeline(steps=[(&#x27;standardscaler&#x27;,\n",
       "                                                                   StandardScaler())]),\n",
       "                                                  [&#x27;title_count&#x27;, &#x27;desc_count&#x27;,\n",
       "                                                   &#x27;img_count&#x27;]),\n",
       "                                                 (&#x27;function&#x27;,\n",
       "                                                  &lt;function full_text_processing at 0x13465f550&gt;,\n",
       "                                                  [&#x27;title&#x27;, &#x27;description&#x27;,\n",
       "                                                   &#x27;brand&#x27;])])),\n",
       "                (&#x27;logisticregression&#x27;, LogisticRegression())])</pre><b>In a Jupyter environment, please rerun this cell to show the HTML representation or trust the notebook. <br />On GitHub, the HTML representation is unable to render, please try loading this page with nbviewer.org.</b></div><div class=\"sk-container\" hidden><div class=\"sk-item sk-dashed-wrapped\"><div class=\"sk-label-container\"><div class=\"sk-label sk-toggleable\"><input class=\"sk-toggleable__control sk-hidden--visually\" id=\"sk-estimator-id-8\" type=\"checkbox\" ><label for=\"sk-estimator-id-8\" class=\"sk-toggleable__label sk-toggleable__label-arrow\">Pipeline</label><div class=\"sk-toggleable__content\"><pre>Pipeline(steps=[(&#x27;columntransformer&#x27;,\n",
       "                 ColumnTransformer(remainder=&#x27;passthrough&#x27;,\n",
       "                                   transformers=[(&#x27;pipeline&#x27;,\n",
       "                                                  Pipeline(steps=[(&#x27;standardscaler&#x27;,\n",
       "                                                                   StandardScaler())]),\n",
       "                                                  [&#x27;title_count&#x27;, &#x27;desc_count&#x27;,\n",
       "                                                   &#x27;img_count&#x27;]),\n",
       "                                                 (&#x27;function&#x27;,\n",
       "                                                  &lt;function full_text_processing at 0x13465f550&gt;,\n",
       "                                                  [&#x27;title&#x27;, &#x27;description&#x27;,\n",
       "                                                   &#x27;brand&#x27;])])),\n",
       "                (&#x27;logisticregression&#x27;, LogisticRegression())])</pre></div></div></div><div class=\"sk-serial\"><div class=\"sk-item sk-dashed-wrapped\"><div class=\"sk-label-container\"><div class=\"sk-label sk-toggleable\"><input class=\"sk-toggleable__control sk-hidden--visually\" id=\"sk-estimator-id-9\" type=\"checkbox\" ><label for=\"sk-estimator-id-9\" class=\"sk-toggleable__label sk-toggleable__label-arrow\">columntransformer: ColumnTransformer</label><div class=\"sk-toggleable__content\"><pre>ColumnTransformer(remainder=&#x27;passthrough&#x27;,\n",
       "                  transformers=[(&#x27;pipeline&#x27;,\n",
       "                                 Pipeline(steps=[(&#x27;standardscaler&#x27;,\n",
       "                                                  StandardScaler())]),\n",
       "                                 [&#x27;title_count&#x27;, &#x27;desc_count&#x27;, &#x27;img_count&#x27;]),\n",
       "                                (&#x27;function&#x27;,\n",
       "                                 &lt;function full_text_processing at 0x13465f550&gt;,\n",
       "                                 [&#x27;title&#x27;, &#x27;description&#x27;, &#x27;brand&#x27;])])</pre></div></div></div><div class=\"sk-parallel\"><div class=\"sk-parallel-item\"><div class=\"sk-item\"><div class=\"sk-label-container\"><div class=\"sk-label sk-toggleable\"><input class=\"sk-toggleable__control sk-hidden--visually\" id=\"sk-estimator-id-10\" type=\"checkbox\" ><label for=\"sk-estimator-id-10\" class=\"sk-toggleable__label sk-toggleable__label-arrow\">pipeline</label><div class=\"sk-toggleable__content\"><pre>[&#x27;title_count&#x27;, &#x27;desc_count&#x27;, &#x27;img_count&#x27;]</pre></div></div></div><div class=\"sk-serial\"><div class=\"sk-item\"><div class=\"sk-serial\"><div class=\"sk-item\"><div class=\"sk-estimator sk-toggleable\"><input class=\"sk-toggleable__control sk-hidden--visually\" id=\"sk-estimator-id-11\" type=\"checkbox\" ><label for=\"sk-estimator-id-11\" class=\"sk-toggleable__label sk-toggleable__label-arrow\">StandardScaler</label><div class=\"sk-toggleable__content\"><pre>StandardScaler()</pre></div></div></div></div></div></div></div></div><div class=\"sk-parallel-item\"><div class=\"sk-item\"><div class=\"sk-label-container\"><div class=\"sk-label sk-toggleable\"><input class=\"sk-toggleable__control sk-hidden--visually\" id=\"sk-estimator-id-12\" type=\"checkbox\" ><label for=\"sk-estimator-id-12\" class=\"sk-toggleable__label sk-toggleable__label-arrow\">function</label><div class=\"sk-toggleable__content\"><pre>[&#x27;title&#x27;, &#x27;description&#x27;, &#x27;brand&#x27;]</pre></div></div></div><div class=\"sk-serial\"><div class=\"sk-item\"><div class=\"sk-estimator sk-toggleable\"><input class=\"sk-toggleable__control sk-hidden--visually\" id=\"sk-estimator-id-13\" type=\"checkbox\" ><label for=\"sk-estimator-id-13\" class=\"sk-toggleable__label sk-toggleable__label-arrow\">function</label><div class=\"sk-toggleable__content\"><pre>&lt;function full_text_processing at 0x13465f550&gt;</pre></div></div></div></div></div></div><div class=\"sk-parallel-item\"><div class=\"sk-item\"><div class=\"sk-label-container\"><div class=\"sk-label sk-toggleable\"><input class=\"sk-toggleable__control sk-hidden--visually\" id=\"sk-estimator-id-14\" type=\"checkbox\" ><label for=\"sk-estimator-id-14\" class=\"sk-toggleable__label sk-toggleable__label-arrow\">remainder</label><div class=\"sk-toggleable__content\"><pre></pre></div></div></div><div class=\"sk-serial\"><div class=\"sk-item\"><div class=\"sk-estimator sk-toggleable\"><input class=\"sk-toggleable__control sk-hidden--visually\" id=\"sk-estimator-id-15\" type=\"checkbox\" ><label for=\"sk-estimator-id-15\" class=\"sk-toggleable__label sk-toggleable__label-arrow\">passthrough</label><div class=\"sk-toggleable__content\"><pre>passthrough</pre></div></div></div></div></div></div></div></div><div class=\"sk-item\"><div class=\"sk-estimator sk-toggleable\"><input class=\"sk-toggleable__control sk-hidden--visually\" id=\"sk-estimator-id-16\" type=\"checkbox\" ><label for=\"sk-estimator-id-16\" class=\"sk-toggleable__label sk-toggleable__label-arrow\">LogisticRegression</label><div class=\"sk-toggleable__content\"><pre>LogisticRegression()</pre></div></div></div></div></div></div></div>"
      ],
      "text/plain": [
       "Pipeline(steps=[('columntransformer',\n",
       "                 ColumnTransformer(remainder='passthrough',\n",
       "                                   transformers=[('pipeline',\n",
       "                                                  Pipeline(steps=[('standardscaler',\n",
       "                                                                   StandardScaler())]),\n",
       "                                                  ['title_count', 'desc_count',\n",
       "                                                   'img_count']),\n",
       "                                                 ('function',\n",
       "                                                  <function full_text_processing at 0x13465f550>,\n",
       "                                                  ['title', 'description',\n",
       "                                                   'brand'])])),\n",
       "                ('logisticregression', LogisticRegression())])"
      ]
     },
     "execution_count": 118,
     "metadata": {},
     "output_type": "execute_result"
    }
   ],
   "source": [
    "num_transformer = make_pipeline(StandardScaler())\n",
    "\n",
    "preproc_basic = make_column_transformer((num_transformer, ['title_count', 'desc_count','img_count']),\n",
    "                                       (full_text_processing, ['title', 'description','brand']),\n",
    "                                       remainder='passthrough')\n",
    "\n",
    "pipe = make_pipeline(preproc_basic, LogisticRegression())\n",
    "pipe"
   ]
  },
  {
   "cell_type": "code",
   "execution_count": null,
   "id": "57a313f1",
   "metadata": {
    "hidden": true,
    "id": "57a313f1",
    "outputId": "10ddf9de-8d9c-40ca-d86e-56292f533266",
    "scrolled": true
   },
   "outputs": [
    {
     "ename": "TypeError",
     "evalue": "All estimators should implement fit and transform, or can be 'drop' or 'passthrough' specifiers. '<function full_text_processing at 0x13465f550>' (type <class 'function'>) doesn't.",
     "output_type": "error",
     "traceback": [
      "\u001b[0;31m---------------------------------------------------------------------------\u001b[0m",
      "\u001b[0;31mTypeError\u001b[0m                                 Traceback (most recent call last)",
      "Input \u001b[0;32mIn [102]\u001b[0m, in \u001b[0;36m<cell line: 1>\u001b[0;34m()\u001b[0m\n\u001b[0;32m----> 1\u001b[0m transformed_features\u001b[38;5;241m=\u001b[39m\u001b[43mpreproc_basic\u001b[49m\u001b[38;5;241;43m.\u001b[39;49m\u001b[43mfit_transform\u001b[49m\u001b[43m(\u001b[49m\u001b[43mX\u001b[49m\u001b[43m)\u001b[49m\n",
      "File \u001b[0;32m~/.pyenv/versions/3.8.12/envs/deep_seo/lib/python3.8/site-packages/sklearn/compose/_column_transformer.py:669\u001b[0m, in \u001b[0;36mColumnTransformer.fit_transform\u001b[0;34m(self, X, y)\u001b[0m\n\u001b[1;32m    667\u001b[0m \u001b[38;5;66;03m# set n_features_in_ attribute\u001b[39;00m\n\u001b[1;32m    668\u001b[0m \u001b[38;5;28mself\u001b[39m\u001b[38;5;241m.\u001b[39m_check_n_features(X, reset\u001b[38;5;241m=\u001b[39m\u001b[38;5;28;01mTrue\u001b[39;00m)\n\u001b[0;32m--> 669\u001b[0m \u001b[38;5;28;43mself\u001b[39;49m\u001b[38;5;241;43m.\u001b[39;49m\u001b[43m_validate_transformers\u001b[49m\u001b[43m(\u001b[49m\u001b[43m)\u001b[49m\n\u001b[1;32m    670\u001b[0m \u001b[38;5;28mself\u001b[39m\u001b[38;5;241m.\u001b[39m_validate_column_callables(X)\n\u001b[1;32m    671\u001b[0m \u001b[38;5;28mself\u001b[39m\u001b[38;5;241m.\u001b[39m_validate_remainder(X)\n",
      "File \u001b[0;32m~/.pyenv/versions/3.8.12/envs/deep_seo/lib/python3.8/site-packages/sklearn/compose/_column_transformer.py:341\u001b[0m, in \u001b[0;36mColumnTransformer._validate_transformers\u001b[0;34m(self)\u001b[0m\n\u001b[1;32m    337\u001b[0m     \u001b[38;5;28;01mcontinue\u001b[39;00m\n\u001b[1;32m    338\u001b[0m \u001b[38;5;28;01mif\u001b[39;00m \u001b[38;5;129;01mnot\u001b[39;00m (\u001b[38;5;28mhasattr\u001b[39m(t, \u001b[38;5;124m\"\u001b[39m\u001b[38;5;124mfit\u001b[39m\u001b[38;5;124m\"\u001b[39m) \u001b[38;5;129;01mor\u001b[39;00m \u001b[38;5;28mhasattr\u001b[39m(t, \u001b[38;5;124m\"\u001b[39m\u001b[38;5;124mfit_transform\u001b[39m\u001b[38;5;124m\"\u001b[39m)) \u001b[38;5;129;01mor\u001b[39;00m \u001b[38;5;129;01mnot\u001b[39;00m \u001b[38;5;28mhasattr\u001b[39m(\n\u001b[1;32m    339\u001b[0m     t, \u001b[38;5;124m\"\u001b[39m\u001b[38;5;124mtransform\u001b[39m\u001b[38;5;124m\"\u001b[39m\n\u001b[1;32m    340\u001b[0m ):\n\u001b[0;32m--> 341\u001b[0m     \u001b[38;5;28;01mraise\u001b[39;00m \u001b[38;5;167;01mTypeError\u001b[39;00m(\n\u001b[1;32m    342\u001b[0m         \u001b[38;5;124m\"\u001b[39m\u001b[38;5;124mAll estimators should implement fit and \u001b[39m\u001b[38;5;124m\"\u001b[39m\n\u001b[1;32m    343\u001b[0m         \u001b[38;5;124m\"\u001b[39m\u001b[38;5;124mtransform, or can be \u001b[39m\u001b[38;5;124m'\u001b[39m\u001b[38;5;124mdrop\u001b[39m\u001b[38;5;124m'\u001b[39m\u001b[38;5;124m or \u001b[39m\u001b[38;5;124m'\u001b[39m\u001b[38;5;124mpassthrough\u001b[39m\u001b[38;5;124m'\u001b[39m\u001b[38;5;124m \u001b[39m\u001b[38;5;124m\"\u001b[39m\n\u001b[1;32m    344\u001b[0m         \u001b[38;5;124m\"\u001b[39m\u001b[38;5;124mspecifiers. \u001b[39m\u001b[38;5;124m'\u001b[39m\u001b[38;5;132;01m%s\u001b[39;00m\u001b[38;5;124m'\u001b[39m\u001b[38;5;124m (type \u001b[39m\u001b[38;5;132;01m%s\u001b[39;00m\u001b[38;5;124m) doesn\u001b[39m\u001b[38;5;124m'\u001b[39m\u001b[38;5;124mt.\u001b[39m\u001b[38;5;124m\"\u001b[39m \u001b[38;5;241m%\u001b[39m (t, \u001b[38;5;28mtype\u001b[39m(t))\n\u001b[1;32m    345\u001b[0m     )\n",
      "\u001b[0;31mTypeError\u001b[0m: All estimators should implement fit and transform, or can be 'drop' or 'passthrough' specifiers. '<function full_text_processing at 0x13465f550>' (type <class 'function'>) doesn't."
     ]
    }
   ],
   "source": [
    "transformed_features=preproc_basic.fit_transform(X)"
   ]
  },
  {
   "cell_type": "code",
   "execution_count": null,
   "id": "9c07d27b",
   "metadata": {
    "hidden": true,
    "id": "9c07d27b",
    "outputId": "7b18e319-cdce-4d7c-c407-05c779ad78be"
   },
   "outputs": [
    {
     "data": {
      "text/plain": [
       "0         654681\n",
       "1         830165\n",
       "2        1233887\n",
       "3         454595\n",
       "4          85661\n",
       "          ...   \n",
       "18767     372769\n",
       "18768     308759\n",
       "18769       4064\n",
       "18770     449492\n",
       "18771     278362\n",
       "Name: rank1, Length: 17952, dtype: int64"
      ]
     },
     "execution_count": 134,
     "metadata": {},
     "output_type": "execute_result"
    }
   ],
   "source": [
    "df6[\"rank1\"]"
   ]
  },
  {
   "cell_type": "code",
   "execution_count": null,
   "id": "b3203d2a",
   "metadata": {
    "hidden": true,
    "id": "b3203d2a",
    "outputId": "26d92382-495d-4387-f347-926c0484ac63"
   },
   "outputs": [
    {
     "data": {
      "text/plain": [
       "0         (-9410.66, 946520.0]\n",
       "1         (-9410.66, 946520.0]\n",
       "2        (946520.0, 1892986.0]\n",
       "3         (-9410.66, 946520.0]\n",
       "4         (-9410.66, 946520.0]\n",
       "                 ...          \n",
       "18767     (-9410.66, 946520.0]\n",
       "18768     (-9410.66, 946520.0]\n",
       "18769     (-9410.66, 946520.0]\n",
       "18770     (-9410.66, 946520.0]\n",
       "18771     (-9410.66, 946520.0]\n",
       "Name: rank1, Length: 17952, dtype: category\n",
       "Categories (10, interval[float64, right]): [(-9410.66, 946520.0] < (946520.0, 1892986.0] < (1892986.0, 2839452.0] < (2839452.0, 3785918.0] ... (5678850.0, 6625316.0] < (6625316.0, 7571782.0] < (7571782.0, 8518248.0] < (8518248.0, 9464714.0]]"
      ]
     },
     "execution_count": 136,
     "metadata": {},
     "output_type": "execute_result"
    }
   ],
   "source": [
    "pd.cut(df6[\"rank1\"],10)"
   ]
  },
  {
   "cell_type": "markdown",
   "id": "e9deda1a",
   "metadata": {
    "heading_collapsed": true,
    "id": "e9deda1a"
   },
   "source": [
    "## Deep Learning model"
   ]
  },
  {
   "cell_type": "code",
   "execution_count": 30,
   "id": "KbRn_q-iAxBQ",
   "metadata": {
    "hidden": true,
    "id": "KbRn_q-iAxBQ"
   },
   "outputs": [],
   "source": [
    "from tensorflow.keras.utils import to_categorical "
   ]
  },
  {
   "cell_type": "code",
   "execution_count": 10,
   "id": "a4376ebd",
   "metadata": {
    "colab": {
     "base_uri": "https://localhost:8080/"
    },
    "hidden": true,
    "id": "a4376ebd",
    "outputId": "e52b2465-5b08-47fd-cfe5-e18ef6f0346e",
    "scrolled": true
   },
   "outputs": [
    {
     "name": "stderr",
     "output_type": "stream",
     "text": [
      "/usr/local/lib/python3.7/dist-packages/ipykernel_launcher.py:3: SettingWithCopyWarning: \n",
      "A value is trying to be set on a copy of a slice from a DataFrame.\n",
      "Try using .loc[row_indexer,col_indexer] = value instead\n",
      "\n",
      "See the caveats in the documentation: https://pandas.pydata.org/pandas-docs/stable/user_guide/indexing.html#returning-a-view-versus-a-copy\n",
      "  This is separate from the ipykernel package so we can avoid doing imports until\n"
     ]
    }
   ],
   "source": [
    "import numpy as np \n",
    "\n",
    "df6['rank_binss'] = pd.cut(df6['rank1'], bins = 40, labels=[i for i in range(1,41)],include_lowest=True).astype('str')\n",
    "df6 = df6.sort_values(by='rank1')"
   ]
  },
  {
   "cell_type": "code",
   "execution_count": 11,
   "id": "b5c2d656",
   "metadata": {
    "colab": {
     "base_uri": "https://localhost:8080/"
    },
    "hidden": true,
    "id": "b5c2d656",
    "outputId": "d5b84991-56ac-467e-ac3e-d06dde1fc8f2"
   },
   "outputs": [
    {
     "data": {
      "text/plain": [
       "1     5074\n",
       "2     3900\n",
       "3     3185\n",
       "4     2018\n",
       "5     1077\n",
       "6     1021\n",
       "7      975\n",
       "8      577\n",
       "9      124\n",
       "10       1\n",
       "Name: rank_binss, dtype: int64"
      ]
     },
     "execution_count": 11,
     "metadata": {},
     "output_type": "execute_result"
    }
   ],
   "source": [
    "df6['rank_binss']=df6['rank_binss'].map(lambda x: x.replace(\"-9410.661\",\"0\"))\n",
    "df6['rank_binss']=df6['rank_binss'].map(lambda x: x.replace(\"40\",\"10\"))\n",
    "df6['rank_binss'].value_counts()"
   ]
  },
  {
   "cell_type": "code",
   "execution_count": 12,
   "id": "81aec246",
   "metadata": {
    "hidden": true,
    "id": "81aec246"
   },
   "outputs": [],
   "source": [
    "from tensorflow.keras import Sequential, layers"
   ]
  },
  {
   "cell_type": "code",
   "execution_count": 29,
   "id": "nF0huEj7ASaM",
   "metadata": {
    "colab": {
     "base_uri": "https://localhost:8080/"
    },
    "hidden": true,
    "id": "nF0huEj7ASaM",
    "outputId": "e70761ec-6876-4e0e-c8c6-49ae5a292f48"
   },
   "outputs": [
    {
     "name": "stdout",
     "output_type": "stream",
     "text": [
      "<class 'pandas.core.frame.DataFrame'>\n",
      "Int64Index: 17952 entries, 13181 to 7670\n",
      "Data columns (total 14 columns):\n",
      " #   Column       Non-Null Count  Dtype \n",
      "---  ------       --------------  ----- \n",
      " 0   description  17952 non-null  object\n",
      " 1   title        17952 non-null  object\n",
      " 2   image        17952 non-null  object\n",
      " 3   brand        17952 non-null  object\n",
      " 4   rank         17952 non-null  object\n",
      " 5   date         17952 non-null  object\n",
      " 6   asin         17952 non-null  object\n",
      " 7   brand_cat    17952 non-null  int64 \n",
      " 8   rank1        17952 non-null  int64 \n",
      " 9   title_count  17952 non-null  int64 \n",
      " 10  desc_count   17952 non-null  int64 \n",
      " 11  img_count    17952 non-null  int64 \n",
      " 12  rank_cat     17952 non-null  int64 \n",
      " 13  rank_binss   17952 non-null  int64 \n",
      "dtypes: int64(7), object(7)\n",
      "memory usage: 2.1+ MB\n"
     ]
    }
   ],
   "source": [
    "df6.rank_binss=df6.rank_binss.astype(\"int64\")\n",
    "df6.info()"
   ]
  },
  {
   "cell_type": "code",
   "execution_count": 32,
   "id": "7efc7ca4",
   "metadata": {
    "colab": {
     "base_uri": "https://localhost:8080/"
    },
    "hidden": true,
    "id": "7efc7ca4",
    "outputId": "9421394c-6d04-460e-86ba-db8391fd9637"
   },
   "outputs": [
    {
     "data": {
      "text/plain": [
       "((12566, 4), (5386, 4), (12566, 11))"
      ]
     },
     "execution_count": 32,
     "metadata": {},
     "output_type": "execute_result"
    }
   ],
   "source": [
    "X = df6[[\"brand_cat\",\"title_count\",\"desc_count\",\"img_count\"]]\n",
    "y=df6[\"rank_binss\"]\n",
    "y_cat=to_categorical(y)\n",
    "         \n",
    "X_train,X_test,y_train,y_test = train_test_split(X,y_cat,test_size=0.3)\n",
    "X_train.shape,X_test.shape,y_train.shape"
   ]
  },
  {
   "cell_type": "code",
   "execution_count": 39,
   "id": "0d8708e7",
   "metadata": {
    "hidden": true,
    "id": "0d8708e7"
   },
   "outputs": [],
   "source": [
    "model = Sequential()\n",
    "model.add(layers.Dense(100, activation='relu', input_dim=4)) #input_dim=no of features\n",
    "model.add(layers.Dense(80, activation='relu'))\n",
    "model.add(layers.Dense(30, activation='linear'))\n",
    "model.add(layers.Dense(11, activation='softmax'))"
   ]
  },
  {
   "cell_type": "code",
   "execution_count": 40,
   "id": "0ba2d416",
   "metadata": {
    "hidden": true,
    "id": "0ba2d416"
   },
   "outputs": [],
   "source": [
    "model.compile(loss='categorical_crossentropy',\n",
    "              optimizer='adam', \n",
    "              metrics=['accuracy'])"
   ]
  },
  {
   "cell_type": "code",
   "execution_count": 45,
   "id": "GglsVtM1Epeu",
   "metadata": {
    "hidden": true,
    "id": "GglsVtM1Epeu"
   },
   "outputs": [],
   "source": [
    "from tensorflow.keras.callbacks import EarlyStopping\n",
    "\n",
    "es = EarlyStopping(patience=20)"
   ]
  },
  {
   "cell_type": "code",
   "execution_count": 46,
   "id": "15b0104f",
   "metadata": {
    "colab": {
     "base_uri": "https://localhost:8080/"
    },
    "hidden": true,
    "id": "15b0104f",
    "outputId": "34ac5821-70e9-4784-cb14-c530a080d6bc"
   },
   "outputs": [
    {
     "name": "stdout",
     "output_type": "stream",
     "text": [
      "Epoch 1/100\n",
      "275/275 [==============================] - 1s 5ms/step - loss: 1.7947 - accuracy: 0.2988 - val_loss: 1.7912 - val_accuracy: 0.2984\n",
      "Epoch 2/100\n",
      "275/275 [==============================] - 1s 5ms/step - loss: 1.7948 - accuracy: 0.3057 - val_loss: 1.7820 - val_accuracy: 0.2950\n",
      "Epoch 3/100\n",
      "275/275 [==============================] - 1s 4ms/step - loss: 1.7980 - accuracy: 0.3047 - val_loss: 1.7806 - val_accuracy: 0.3011\n",
      "Epoch 4/100\n",
      "275/275 [==============================] - 1s 4ms/step - loss: 1.7972 - accuracy: 0.3039 - val_loss: 1.7815 - val_accuracy: 0.2955\n",
      "Epoch 5/100\n",
      "275/275 [==============================] - 1s 4ms/step - loss: 1.8000 - accuracy: 0.3012 - val_loss: 1.7941 - val_accuracy: 0.2995\n",
      "Epoch 6/100\n",
      "275/275 [==============================] - 1s 4ms/step - loss: 1.7957 - accuracy: 0.3003 - val_loss: 1.7879 - val_accuracy: 0.3013\n",
      "Epoch 7/100\n",
      "275/275 [==============================] - 1s 4ms/step - loss: 1.7979 - accuracy: 0.3042 - val_loss: 1.7851 - val_accuracy: 0.2981\n",
      "Epoch 8/100\n",
      "275/275 [==============================] - 1s 3ms/step - loss: 1.7938 - accuracy: 0.3062 - val_loss: 1.7812 - val_accuracy: 0.2963\n",
      "Epoch 9/100\n",
      "275/275 [==============================] - 1s 4ms/step - loss: 1.7996 - accuracy: 0.3029 - val_loss: 1.7844 - val_accuracy: 0.2944\n",
      "Epoch 10/100\n",
      "275/275 [==============================] - 1s 4ms/step - loss: 1.7922 - accuracy: 0.3050 - val_loss: 1.7886 - val_accuracy: 0.2920\n",
      "Epoch 11/100\n",
      "275/275 [==============================] - 1s 4ms/step - loss: 1.7965 - accuracy: 0.2974 - val_loss: 1.7874 - val_accuracy: 0.2910\n",
      "Epoch 12/100\n",
      "275/275 [==============================] - 1s 4ms/step - loss: 1.7926 - accuracy: 0.3058 - val_loss: 1.7967 - val_accuracy: 0.2830\n",
      "Epoch 13/100\n",
      "275/275 [==============================] - 1s 4ms/step - loss: 1.7950 - accuracy: 0.3047 - val_loss: 1.8228 - val_accuracy: 0.2931\n",
      "Epoch 14/100\n",
      "275/275 [==============================] - 1s 3ms/step - loss: 1.7941 - accuracy: 0.2992 - val_loss: 1.7893 - val_accuracy: 0.2997\n",
      "Epoch 15/100\n",
      "275/275 [==============================] - 1s 4ms/step - loss: 1.7948 - accuracy: 0.3023 - val_loss: 1.8074 - val_accuracy: 0.2952\n",
      "Epoch 16/100\n",
      "275/275 [==============================] - 1s 4ms/step - loss: 1.7894 - accuracy: 0.3074 - val_loss: 1.7888 - val_accuracy: 0.3029\n",
      "Epoch 17/100\n",
      "275/275 [==============================] - 1s 4ms/step - loss: 1.7904 - accuracy: 0.3042 - val_loss: 1.7999 - val_accuracy: 0.2960\n",
      "Epoch 18/100\n",
      "275/275 [==============================] - 1s 4ms/step - loss: 1.7922 - accuracy: 0.3043 - val_loss: 1.7849 - val_accuracy: 0.2944\n",
      "Epoch 19/100\n",
      "275/275 [==============================] - 1s 4ms/step - loss: 1.7886 - accuracy: 0.3049 - val_loss: 1.7939 - val_accuracy: 0.3053\n",
      "Epoch 20/100\n",
      "275/275 [==============================] - 1s 4ms/step - loss: 1.7940 - accuracy: 0.3055 - val_loss: 1.7924 - val_accuracy: 0.3008\n",
      "Epoch 21/100\n",
      "275/275 [==============================] - 1s 4ms/step - loss: 1.7904 - accuracy: 0.3031 - val_loss: 1.7896 - val_accuracy: 0.2883\n",
      "Epoch 22/100\n",
      "275/275 [==============================] - 1s 4ms/step - loss: 1.7874 - accuracy: 0.3075 - val_loss: 1.7932 - val_accuracy: 0.3003\n",
      "Epoch 23/100\n",
      "275/275 [==============================] - 1s 4ms/step - loss: 1.7892 - accuracy: 0.3038 - val_loss: 1.7791 - val_accuracy: 0.2989\n",
      "Epoch 24/100\n",
      "275/275 [==============================] - 1s 4ms/step - loss: 1.7918 - accuracy: 0.3093 - val_loss: 1.7908 - val_accuracy: 0.2981\n",
      "Epoch 25/100\n",
      "275/275 [==============================] - 1s 4ms/step - loss: 1.7882 - accuracy: 0.3079 - val_loss: 1.7941 - val_accuracy: 0.2947\n",
      "Epoch 26/100\n",
      "275/275 [==============================] - 1s 4ms/step - loss: 1.7875 - accuracy: 0.3107 - val_loss: 1.7852 - val_accuracy: 0.2928\n",
      "Epoch 27/100\n",
      "275/275 [==============================] - 1s 4ms/step - loss: 1.7926 - accuracy: 0.3029 - val_loss: 1.7821 - val_accuracy: 0.2968\n",
      "Epoch 28/100\n",
      "275/275 [==============================] - 1s 4ms/step - loss: 1.7855 - accuracy: 0.3109 - val_loss: 1.7849 - val_accuracy: 0.3021\n",
      "Epoch 29/100\n",
      "275/275 [==============================] - 1s 4ms/step - loss: 1.7869 - accuracy: 0.3041 - val_loss: 1.7786 - val_accuracy: 0.2997\n",
      "Epoch 30/100\n",
      "275/275 [==============================] - 1s 4ms/step - loss: 1.7856 - accuracy: 0.3056 - val_loss: 1.7845 - val_accuracy: 0.2976\n",
      "Epoch 31/100\n",
      "275/275 [==============================] - 1s 4ms/step - loss: 1.7893 - accuracy: 0.3116 - val_loss: 1.7801 - val_accuracy: 0.2960\n",
      "Epoch 32/100\n",
      "275/275 [==============================] - 1s 4ms/step - loss: 1.7882 - accuracy: 0.3078 - val_loss: 1.7828 - val_accuracy: 0.2931\n",
      "Epoch 33/100\n",
      "275/275 [==============================] - 1s 4ms/step - loss: 1.7840 - accuracy: 0.3067 - val_loss: 1.7871 - val_accuracy: 0.2944\n",
      "Epoch 34/100\n",
      "275/275 [==============================] - 1s 3ms/step - loss: 1.7850 - accuracy: 0.3057 - val_loss: 1.7877 - val_accuracy: 0.2934\n",
      "Epoch 35/100\n",
      "275/275 [==============================] - 1s 4ms/step - loss: 1.7826 - accuracy: 0.3035 - val_loss: 1.7812 - val_accuracy: 0.2915\n",
      "Epoch 36/100\n",
      "275/275 [==============================] - 1s 4ms/step - loss: 1.7845 - accuracy: 0.3064 - val_loss: 1.7828 - val_accuracy: 0.2939\n",
      "Epoch 37/100\n",
      "275/275 [==============================] - 1s 4ms/step - loss: 1.7846 - accuracy: 0.3093 - val_loss: 1.7827 - val_accuracy: 0.2995\n",
      "Epoch 38/100\n",
      "275/275 [==============================] - 1s 3ms/step - loss: 1.7840 - accuracy: 0.3067 - val_loss: 1.7858 - val_accuracy: 0.2939\n",
      "Epoch 39/100\n",
      "275/275 [==============================] - 1s 4ms/step - loss: 1.7813 - accuracy: 0.3104 - val_loss: 1.7834 - val_accuracy: 0.2976\n",
      "Epoch 40/100\n",
      "275/275 [==============================] - 1s 4ms/step - loss: 1.7828 - accuracy: 0.3085 - val_loss: 1.7820 - val_accuracy: 0.2984\n",
      "Epoch 41/100\n",
      "275/275 [==============================] - 1s 4ms/step - loss: 1.7860 - accuracy: 0.3051 - val_loss: 1.7878 - val_accuracy: 0.2910\n",
      "Epoch 42/100\n",
      "275/275 [==============================] - 1s 3ms/step - loss: 1.7829 - accuracy: 0.3050 - val_loss: 1.7779 - val_accuracy: 0.3027\n",
      "Epoch 43/100\n",
      "275/275 [==============================] - 1s 4ms/step - loss: 1.7815 - accuracy: 0.3111 - val_loss: 1.7757 - val_accuracy: 0.3008\n",
      "Epoch 44/100\n",
      "275/275 [==============================] - 1s 4ms/step - loss: 1.7827 - accuracy: 0.3064 - val_loss: 1.8023 - val_accuracy: 0.2963\n",
      "Epoch 45/100\n",
      "275/275 [==============================] - 1s 4ms/step - loss: 1.7837 - accuracy: 0.3098 - val_loss: 1.7901 - val_accuracy: 0.2865\n",
      "Epoch 46/100\n",
      "275/275 [==============================] - 1s 4ms/step - loss: 1.7820 - accuracy: 0.3089 - val_loss: 1.7859 - val_accuracy: 0.2989\n",
      "Epoch 47/100\n",
      "275/275 [==============================] - 1s 3ms/step - loss: 1.7817 - accuracy: 0.3097 - val_loss: 1.7853 - val_accuracy: 0.3011\n",
      "Epoch 48/100\n",
      "275/275 [==============================] - 1s 4ms/step - loss: 1.7826 - accuracy: 0.3067 - val_loss: 1.7839 - val_accuracy: 0.2939\n",
      "Epoch 49/100\n",
      "275/275 [==============================] - 1s 4ms/step - loss: 1.7827 - accuracy: 0.3033 - val_loss: 1.7824 - val_accuracy: 0.3019\n",
      "Epoch 50/100\n",
      "275/275 [==============================] - 1s 4ms/step - loss: 1.7808 - accuracy: 0.3089 - val_loss: 1.7819 - val_accuracy: 0.2979\n",
      "Epoch 51/100\n",
      "275/275 [==============================] - 1s 4ms/step - loss: 1.7809 - accuracy: 0.3113 - val_loss: 1.7807 - val_accuracy: 0.2899\n",
      "Epoch 52/100\n",
      "275/275 [==============================] - 1s 4ms/step - loss: 1.7803 - accuracy: 0.3080 - val_loss: 1.7828 - val_accuracy: 0.2987\n",
      "Epoch 53/100\n",
      "275/275 [==============================] - 1s 4ms/step - loss: 1.7787 - accuracy: 0.3085 - val_loss: 1.7874 - val_accuracy: 0.2976\n",
      "Epoch 54/100\n",
      "275/275 [==============================] - 1s 4ms/step - loss: 1.7787 - accuracy: 0.3053 - val_loss: 1.7827 - val_accuracy: 0.2971\n",
      "Epoch 55/100\n",
      "275/275 [==============================] - 1s 4ms/step - loss: 1.7786 - accuracy: 0.3071 - val_loss: 1.7826 - val_accuracy: 0.2984\n",
      "Epoch 56/100\n",
      "275/275 [==============================] - 1s 4ms/step - loss: 1.7788 - accuracy: 0.3048 - val_loss: 1.7865 - val_accuracy: 0.2958\n",
      "Epoch 57/100\n",
      "275/275 [==============================] - 1s 4ms/step - loss: 1.7795 - accuracy: 0.3101 - val_loss: 1.7889 - val_accuracy: 0.2995\n",
      "Epoch 58/100\n",
      "275/275 [==============================] - 1s 4ms/step - loss: 1.7798 - accuracy: 0.3090 - val_loss: 1.7859 - val_accuracy: 0.2918\n",
      "Epoch 59/100\n",
      "275/275 [==============================] - 1s 4ms/step - loss: 1.7801 - accuracy: 0.3025 - val_loss: 1.7860 - val_accuracy: 0.2939\n",
      "Epoch 60/100\n",
      "275/275 [==============================] - 1s 5ms/step - loss: 1.7813 - accuracy: 0.3010 - val_loss: 1.7830 - val_accuracy: 0.2966\n",
      "Epoch 61/100\n",
      "275/275 [==============================] - 1s 5ms/step - loss: 1.7781 - accuracy: 0.3059 - val_loss: 1.7830 - val_accuracy: 0.2989\n",
      "Epoch 62/100\n",
      "275/275 [==============================] - 1s 4ms/step - loss: 1.7777 - accuracy: 0.3070 - val_loss: 1.7821 - val_accuracy: 0.2947\n",
      "Epoch 63/100\n",
      "275/275 [==============================] - 1s 4ms/step - loss: 1.7790 - accuracy: 0.3082 - val_loss: 1.7861 - val_accuracy: 0.2989\n"
     ]
    },
    {
     "data": {
      "text/plain": [
       "<keras.callbacks.History at 0x7f7c71ad9dd0>"
      ]
     },
     "execution_count": 46,
     "metadata": {},
     "output_type": "execute_result"
    }
   ],
   "source": [
    "model.fit(X_train, y_train,epochs=100, \n",
    "          validation_split=0.3,\n",
    "          callbacks=[es])"
   ]
  },
  {
   "cell_type": "code",
   "execution_count": 47,
   "id": "oEiYYNDiADSP",
   "metadata": {
    "colab": {
     "base_uri": "https://localhost:8080/"
    },
    "hidden": true,
    "id": "oEiYYNDiADSP",
    "outputId": "7abbba5c-bec0-4310-83bd-bc66794a0ecc"
   },
   "outputs": [
    {
     "name": "stdout",
     "output_type": "stream",
     "text": [
      "169/169 [==============================] - 1s 4ms/step - loss: 1.8034 - accuracy: 0.2908\n"
     ]
    },
    {
     "data": {
      "text/plain": [
       "[1.8034168481826782, 0.2907538115978241]"
      ]
     },
     "execution_count": 47,
     "metadata": {},
     "output_type": "execute_result"
    }
   ],
   "source": [
    "\n",
    "model.evaluate(X_test, y_test)"
   ]
  },
  {
   "cell_type": "code",
   "execution_count": null,
   "id": "thJkB8ipBVpa",
   "metadata": {
    "hidden": true,
    "id": "thJkB8ipBVpa"
   },
   "outputs": [],
   "source": []
  }
 ],
 "metadata": {
  "accelerator": "GPU",
  "colab": {
   "collapsed_sections": [
    "94b9db0d",
    "a5ef7c22",
    "7e28d6a5",
    "10e353ed",
    "f81bbf08",
    "b145290d",
    "beea559c"
   ],
   "name": "Elizabeth - computer json cleaned data day two.ipynb",
   "provenance": []
  },
  "kernelspec": {
   "display_name": "Python 3 (ipykernel)",
   "language": "python",
   "name": "python3"
  },
  "language_info": {
   "codemirror_mode": {
    "name": "ipython",
    "version": 3
   },
   "file_extension": ".py",
   "mimetype": "text/x-python",
   "name": "python",
   "nbconvert_exporter": "python",
   "pygments_lexer": "ipython3",
   "version": "3.8.12"
  },
  "toc": {
   "base_numbering": 1,
   "nav_menu": {},
   "number_sections": true,
   "sideBar": true,
   "skip_h1_title": false,
   "title_cell": "Table of Contents",
   "title_sidebar": "Contents",
   "toc_cell": false,
   "toc_position": {},
   "toc_section_display": true,
   "toc_window_display": false
  }
 },
 "nbformat": 4,
 "nbformat_minor": 5
}
