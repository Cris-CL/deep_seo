{
  "cells": [
    {
      "cell_type": "markdown",
      "metadata": {
        "id": "RdX1D00BONRS"
      },
      "source": [
        "# Imports and loading data from sample_data folder in colabs"
      ]
    },
    {
      "cell_type": "code",
      "execution_count": null,
      "metadata": {
        "id": "paKb4gR9qv7w"
      },
      "outputs": [],
      "source": [
        "# !pip install git+https://github.com/Cris-CL/deep_seo.git"
      ]
    },
    {
      "cell_type": "code",
      "execution_count": 22,
      "metadata": {
        "id": "Ded7A_n3-vyC"
      },
      "outputs": [],
      "source": [
        "import numpy as np\n",
        "import pandas as pd\n",
        "\n",
        "from tensorflow.keras.preprocessing.sequence import pad_sequences\n",
        "from tensorflow.keras.preprocessing.text import Tokenizer\n",
        "from tensorflow.keras.utils import to_categorical\n",
        "from sklearn.model_selection import train_test_split\n",
        "from tensorflow.keras import layers, Sequential"
      ]
    },
    {
      "cell_type": "code",
      "execution_count": 7,
      "metadata": {
        "id": "zKXcNzj9OPTX"
      },
      "outputs": [],
      "source": [
        "def clean_tags(txt):\n",
        "    return txt.replace('<br>','').replace('<b>','').replace('</br>','').replace('</b>','').replace('\"','').replace(\"'\",'').replace(',','').replace('[','').replace(']','').replace('&amp','')\n",
        "\n",
        "def featureclean(cols):\n",
        "    return cols.replace(\"[]\",\"na\").strip(\"[]'\").lower()\n"
      ]
    },
    {
      "cell_type": "code",
      "execution_count": 10,
      "metadata": {
        "colab": {
          "base_uri": "https://localhost:8080/"
        },
        "id": "iIR7c0zdMOMu",
        "outputId": "c3bc0fcb-adfa-4b40-adf6-6cb0b778ec06"
      },
      "outputs": [
        {
          "output_type": "stream",
          "name": "stderr",
          "text": [
            "/usr/local/lib/python3.7/dist-packages/ipykernel_launcher.py:11: SettingWithCopyWarning: \n",
            "A value is trying to be set on a copy of a slice from a DataFrame.\n",
            "Try using .loc[row_indexer,col_indexer] = value instead\n",
            "\n",
            "See the caveats in the documentation: https://pandas.pydata.org/pandas-docs/stable/user_guide/indexing.html#returning-a-view-versus-a-copy\n",
            "  # This is added back by InteractiveShellApp.init_path()\n",
            "/usr/local/lib/python3.7/dist-packages/ipykernel_launcher.py:12: SettingWithCopyWarning: \n",
            "A value is trying to be set on a copy of a slice from a DataFrame.\n",
            "Try using .loc[row_indexer,col_indexer] = value instead\n",
            "\n",
            "See the caveats in the documentation: https://pandas.pydata.org/pandas-docs/stable/user_guide/indexing.html#returning-a-view-versus-a-copy\n",
            "  if sys.path[0] == '':\n",
            "/usr/local/lib/python3.7/dist-packages/ipykernel_launcher.py:13: SettingWithCopyWarning: \n",
            "A value is trying to be set on a copy of a slice from a DataFrame.\n",
            "Try using .loc[row_indexer,col_indexer] = value instead\n",
            "\n",
            "See the caveats in the documentation: https://pandas.pydata.org/pandas-docs/stable/user_guide/indexing.html#returning-a-view-versus-a-copy\n",
            "  del sys.path[0]\n"
          ]
        }
      ],
      "source": [
        "df = pd.read_csv('/content/sample_data/meta_cellphone_100k.csv')\n",
        "\n",
        "df_new = df[['category',\n",
        "            'description',\n",
        "            'title',\n",
        "            'brand',\n",
        "            'feature',\n",
        "            'imageURLHighRes',\n",
        "            'main_ranking_3',\n",
        "            'numb_rankings']]\n",
        "df_new['clean_description'] = df_new['description'].map(clean_tags)\n",
        "df_new['clean_feature'] = df_new['feature'].map(featureclean)\n",
        "df_new['rank_binss'] = pd.cut(df_new['main_ranking_3'], bins = 10, labels=[i for i in range(1,11)],include_lowest=True).astype('str')"
      ]
    },
    {
      "cell_type": "code",
      "execution_count": 5,
      "metadata": {
        "colab": {
          "base_uri": "https://localhost:8080/",
          "height": 669
        },
        "id": "4E9N4-yib8dX",
        "outputId": "a0a4df72-7a41-4ea3-ae01-86da7d3b90bb"
      },
      "outputs": [
        {
          "output_type": "execute_result",
          "data": {
            "text/plain": [
              "                                            category  \\\n",
              "0  ['Cell Phones & Accessories', 'Accessories', '...   \n",
              "1  ['Cell Phones & Accessories', 'Accessories', '...   \n",
              "2  ['Cell Phones & Accessories', 'Cases, Holsters...   \n",
              "3  ['Cell Phones & Accessories', 'Cases, Holsters...   \n",
              "4  ['Cell Phones & Accessories', 'Accessories', '...   \n",
              "\n",
              "                                         description  \\\n",
              "0  ['', \"<b>[ 9H HARDNESS FOR MAXIMUM PROTECTION ...   \n",
              "1  ['Loopilops: ---Surface Hardness : 9H hardness...   \n",
              "2  [\"<b>PLEASE NOTE:</b> <br> NOT FOR S5 ACTIVE. ...   \n",
              "3  [\"<b>PLEASE NOTE:</b> <br> The S4 extended bat...   \n",
              "4  ['', \"Specifically designed for iWatch Smart W...   \n",
              "\n",
              "                                               title       brand  \\\n",
              "0  [2-Pack] Google Pixel 2 XL Screen Protector Li...  Live2Pedal   \n",
              "1  Loopilops iPhone 8Plus/7Plus/6Plus/6s Plus Scr...   Loopilops   \n",
              "2  PowerBear Samsung Galaxy S5 Extended Battery [...   PowerBear   \n",
              "3  PowerBear Samsung Galaxy S4 Extended Battery [...   PowerBear   \n",
              "4  2 Pack Apple 38mm Watch Screen Protector (38mm...  Live2Pedal   \n",
              "\n",
              "                                             feature  \\\n",
              "0  ['Specifically designed for Google Pixel 2 XL'...   \n",
              "1                                                 []   \n",
              "2                                                 []   \n",
              "3  ['GO BEYOND YOUR POWER: Increase your battery ...   \n",
              "4  ['Precise laser cutting Live2Pedal screen prot...   \n",
              "\n",
              "                                     imageURLHighRes  main_ranking_3  \\\n",
              "0  ['https://images-na.ssl-images-amazon.com/imag...            5235   \n",
              "1  ['https://images-na.ssl-images-amazon.com/imag...           23198   \n",
              "2  ['https://images-na.ssl-images-amazon.com/imag...           14390   \n",
              "3  ['https://images-na.ssl-images-amazon.com/imag...           68243   \n",
              "4  ['https://images-na.ssl-images-amazon.com/imag...             122   \n",
              "\n",
              "   numb_rankings                                  clean_description  \\\n",
              "0              3    9H HARDNESS FOR MAXIMUM PROTECTION  9H harne...   \n",
              "1              3  Loopilops: ---Surface Hardness : 9H hardness c...   \n",
              "2              3  PLEASE NOTE:  NOT FOR S5 ACTIVE. The S5 extend...   \n",
              "3              2  PLEASE NOTE:  The S4 extended battery is compa...   \n",
              "4              3   Specifically designed for iWatch Smart Watch ...   \n",
              "\n",
              "                                       clean_feature rank_binss  \n",
              "0  specifically designed for google pixel 2 xl', ...          1  \n",
              "1                                                 na          3  \n",
              "2                                                 na          2  \n",
              "3  go beyond your power: increase your battery po...          7  \n",
              "4  precise laser cutting live2pedal screen protec...          1  "
            ],
            "text/html": [
              "\n",
              "  <div id=\"df-12b99e37-0442-43dd-acec-e524a9f5924f\">\n",
              "    <div class=\"colab-df-container\">\n",
              "      <div>\n",
              "<style scoped>\n",
              "    .dataframe tbody tr th:only-of-type {\n",
              "        vertical-align: middle;\n",
              "    }\n",
              "\n",
              "    .dataframe tbody tr th {\n",
              "        vertical-align: top;\n",
              "    }\n",
              "\n",
              "    .dataframe thead th {\n",
              "        text-align: right;\n",
              "    }\n",
              "</style>\n",
              "<table border=\"1\" class=\"dataframe\">\n",
              "  <thead>\n",
              "    <tr style=\"text-align: right;\">\n",
              "      <th></th>\n",
              "      <th>category</th>\n",
              "      <th>description</th>\n",
              "      <th>title</th>\n",
              "      <th>brand</th>\n",
              "      <th>feature</th>\n",
              "      <th>imageURLHighRes</th>\n",
              "      <th>main_ranking_3</th>\n",
              "      <th>numb_rankings</th>\n",
              "      <th>clean_description</th>\n",
              "      <th>clean_feature</th>\n",
              "      <th>rank_binss</th>\n",
              "    </tr>\n",
              "  </thead>\n",
              "  <tbody>\n",
              "    <tr>\n",
              "      <th>0</th>\n",
              "      <td>['Cell Phones &amp; Accessories', 'Accessories', '...</td>\n",
              "      <td>['', \"&lt;b&gt;[ 9H HARDNESS FOR MAXIMUM PROTECTION ...</td>\n",
              "      <td>[2-Pack] Google Pixel 2 XL Screen Protector Li...</td>\n",
              "      <td>Live2Pedal</td>\n",
              "      <td>['Specifically designed for Google Pixel 2 XL'...</td>\n",
              "      <td>['https://images-na.ssl-images-amazon.com/imag...</td>\n",
              "      <td>5235</td>\n",
              "      <td>3</td>\n",
              "      <td>9H HARDNESS FOR MAXIMUM PROTECTION  9H harne...</td>\n",
              "      <td>specifically designed for google pixel 2 xl', ...</td>\n",
              "      <td>1</td>\n",
              "    </tr>\n",
              "    <tr>\n",
              "      <th>1</th>\n",
              "      <td>['Cell Phones &amp; Accessories', 'Accessories', '...</td>\n",
              "      <td>['Loopilops: ---Surface Hardness : 9H hardness...</td>\n",
              "      <td>Loopilops iPhone 8Plus/7Plus/6Plus/6s Plus Scr...</td>\n",
              "      <td>Loopilops</td>\n",
              "      <td>[]</td>\n",
              "      <td>['https://images-na.ssl-images-amazon.com/imag...</td>\n",
              "      <td>23198</td>\n",
              "      <td>3</td>\n",
              "      <td>Loopilops: ---Surface Hardness : 9H hardness c...</td>\n",
              "      <td>na</td>\n",
              "      <td>3</td>\n",
              "    </tr>\n",
              "    <tr>\n",
              "      <th>2</th>\n",
              "      <td>['Cell Phones &amp; Accessories', 'Cases, Holsters...</td>\n",
              "      <td>[\"&lt;b&gt;PLEASE NOTE:&lt;/b&gt; &lt;br&gt; NOT FOR S5 ACTIVE. ...</td>\n",
              "      <td>PowerBear Samsung Galaxy S5 Extended Battery [...</td>\n",
              "      <td>PowerBear</td>\n",
              "      <td>[]</td>\n",
              "      <td>['https://images-na.ssl-images-amazon.com/imag...</td>\n",
              "      <td>14390</td>\n",
              "      <td>3</td>\n",
              "      <td>PLEASE NOTE:  NOT FOR S5 ACTIVE. The S5 extend...</td>\n",
              "      <td>na</td>\n",
              "      <td>2</td>\n",
              "    </tr>\n",
              "    <tr>\n",
              "      <th>3</th>\n",
              "      <td>['Cell Phones &amp; Accessories', 'Cases, Holsters...</td>\n",
              "      <td>[\"&lt;b&gt;PLEASE NOTE:&lt;/b&gt; &lt;br&gt; The S4 extended bat...</td>\n",
              "      <td>PowerBear Samsung Galaxy S4 Extended Battery [...</td>\n",
              "      <td>PowerBear</td>\n",
              "      <td>['GO BEYOND YOUR POWER: Increase your battery ...</td>\n",
              "      <td>['https://images-na.ssl-images-amazon.com/imag...</td>\n",
              "      <td>68243</td>\n",
              "      <td>2</td>\n",
              "      <td>PLEASE NOTE:  The S4 extended battery is compa...</td>\n",
              "      <td>go beyond your power: increase your battery po...</td>\n",
              "      <td>7</td>\n",
              "    </tr>\n",
              "    <tr>\n",
              "      <th>4</th>\n",
              "      <td>['Cell Phones &amp; Accessories', 'Accessories', '...</td>\n",
              "      <td>['', \"Specifically designed for iWatch Smart W...</td>\n",
              "      <td>2 Pack Apple 38mm Watch Screen Protector (38mm...</td>\n",
              "      <td>Live2Pedal</td>\n",
              "      <td>['Precise laser cutting Live2Pedal screen prot...</td>\n",
              "      <td>['https://images-na.ssl-images-amazon.com/imag...</td>\n",
              "      <td>122</td>\n",
              "      <td>3</td>\n",
              "      <td>Specifically designed for iWatch Smart Watch ...</td>\n",
              "      <td>precise laser cutting live2pedal screen protec...</td>\n",
              "      <td>1</td>\n",
              "    </tr>\n",
              "  </tbody>\n",
              "</table>\n",
              "</div>\n",
              "      <button class=\"colab-df-convert\" onclick=\"convertToInteractive('df-12b99e37-0442-43dd-acec-e524a9f5924f')\"\n",
              "              title=\"Convert this dataframe to an interactive table.\"\n",
              "              style=\"display:none;\">\n",
              "        \n",
              "  <svg xmlns=\"http://www.w3.org/2000/svg\" height=\"24px\"viewBox=\"0 0 24 24\"\n",
              "       width=\"24px\">\n",
              "    <path d=\"M0 0h24v24H0V0z\" fill=\"none\"/>\n",
              "    <path d=\"M18.56 5.44l.94 2.06.94-2.06 2.06-.94-2.06-.94-.94-2.06-.94 2.06-2.06.94zm-11 1L8.5 8.5l.94-2.06 2.06-.94-2.06-.94L8.5 2.5l-.94 2.06-2.06.94zm10 10l.94 2.06.94-2.06 2.06-.94-2.06-.94-.94-2.06-.94 2.06-2.06.94z\"/><path d=\"M17.41 7.96l-1.37-1.37c-.4-.4-.92-.59-1.43-.59-.52 0-1.04.2-1.43.59L10.3 9.45l-7.72 7.72c-.78.78-.78 2.05 0 2.83L4 21.41c.39.39.9.59 1.41.59.51 0 1.02-.2 1.41-.59l7.78-7.78 2.81-2.81c.8-.78.8-2.07 0-2.86zM5.41 20L4 18.59l7.72-7.72 1.47 1.35L5.41 20z\"/>\n",
              "  </svg>\n",
              "      </button>\n",
              "      \n",
              "  <style>\n",
              "    .colab-df-container {\n",
              "      display:flex;\n",
              "      flex-wrap:wrap;\n",
              "      gap: 12px;\n",
              "    }\n",
              "\n",
              "    .colab-df-convert {\n",
              "      background-color: #E8F0FE;\n",
              "      border: none;\n",
              "      border-radius: 50%;\n",
              "      cursor: pointer;\n",
              "      display: none;\n",
              "      fill: #1967D2;\n",
              "      height: 32px;\n",
              "      padding: 0 0 0 0;\n",
              "      width: 32px;\n",
              "    }\n",
              "\n",
              "    .colab-df-convert:hover {\n",
              "      background-color: #E2EBFA;\n",
              "      box-shadow: 0px 1px 2px rgba(60, 64, 67, 0.3), 0px 1px 3px 1px rgba(60, 64, 67, 0.15);\n",
              "      fill: #174EA6;\n",
              "    }\n",
              "\n",
              "    [theme=dark] .colab-df-convert {\n",
              "      background-color: #3B4455;\n",
              "      fill: #D2E3FC;\n",
              "    }\n",
              "\n",
              "    [theme=dark] .colab-df-convert:hover {\n",
              "      background-color: #434B5C;\n",
              "      box-shadow: 0px 1px 3px 1px rgba(0, 0, 0, 0.15);\n",
              "      filter: drop-shadow(0px 1px 2px rgba(0, 0, 0, 0.3));\n",
              "      fill: #FFFFFF;\n",
              "    }\n",
              "  </style>\n",
              "\n",
              "      <script>\n",
              "        const buttonEl =\n",
              "          document.querySelector('#df-12b99e37-0442-43dd-acec-e524a9f5924f button.colab-df-convert');\n",
              "        buttonEl.style.display =\n",
              "          google.colab.kernel.accessAllowed ? 'block' : 'none';\n",
              "\n",
              "        async function convertToInteractive(key) {\n",
              "          const element = document.querySelector('#df-12b99e37-0442-43dd-acec-e524a9f5924f');\n",
              "          const dataTable =\n",
              "            await google.colab.kernel.invokeFunction('convertToInteractive',\n",
              "                                                     [key], {});\n",
              "          if (!dataTable) return;\n",
              "\n",
              "          const docLinkHtml = 'Like what you see? Visit the ' +\n",
              "            '<a target=\"_blank\" href=https://colab.research.google.com/notebooks/data_table.ipynb>data table notebook</a>'\n",
              "            + ' to learn more about interactive tables.';\n",
              "          element.innerHTML = '';\n",
              "          dataTable['output_type'] = 'display_data';\n",
              "          await google.colab.output.renderOutput(dataTable, element);\n",
              "          const docLink = document.createElement('div');\n",
              "          docLink.innerHTML = docLinkHtml;\n",
              "          element.appendChild(docLink);\n",
              "        }\n",
              "      </script>\n",
              "    </div>\n",
              "  </div>\n",
              "  "
            ]
          },
          "metadata": {},
          "execution_count": 5
        }
      ],
      "source": [
        "df_new.head()"
      ]
    },
    {
      "cell_type": "markdown",
      "source": [
        ""
      ],
      "metadata": {
        "id": "-aTKHSB91_P-"
      }
    },
    {
      "cell_type": "code",
      "source": [
        "df_new.imageURLHighRes[0].replace('[','').replace(']','').replace(\"'\",'').split(',')"
      ],
      "metadata": {
        "colab": {
          "base_uri": "https://localhost:8080/"
        },
        "id": "gSwkW6EV0z88",
        "outputId": "79c7c2cd-2de1-449b-a56e-969dbbb16447"
      },
      "execution_count": 22,
      "outputs": [
        {
          "output_type": "execute_result",
          "data": {
            "text/plain": [
              "['https://images-na.ssl-images-amazon.com/images/I/51b8ryqWlLL.jpg',\n",
              " ' https://images-na.ssl-images-amazon.com/images/I/513O5Q2Tk%2BL.jpg',\n",
              " ' https://images-na.ssl-images-amazon.com/images/I/51t2bxn-I2L.jpg',\n",
              " ' https://images-na.ssl-images-amazon.com/images/I/51vEXjR9xpL.jpg',\n",
              " ' https://images-na.ssl-images-amazon.com/images/I/61RCqdQ-MwL.jpg']"
            ]
          },
          "metadata": {},
          "execution_count": 22
        }
      ]
    },
    {
      "cell_type": "markdown",
      "metadata": {
        "id": "u_fSQV64cWw7"
      },
      "source": [
        "# Model"
      ]
    },
    {
      "cell_type": "code",
      "execution_count": 6,
      "metadata": {
        "colab": {
          "base_uri": "https://localhost:8080/"
        },
        "id": "Pg-9ZwG2d-U0",
        "outputId": "c9f97639-cdf7-4e02-de7d-549b1c145fcf"
      },
      "outputs": [
        {
          "output_type": "execute_result",
          "data": {
            "text/plain": [
              "Index(['category', 'description', 'title', 'brand', 'feature',\n",
              "       'imageURLHighRes', 'main_ranking_3', 'numb_rankings',\n",
              "       'clean_description', 'clean_feature', 'rank_binss'],\n",
              "      dtype='object')"
            ]
          },
          "metadata": {},
          "execution_count": 6
        }
      ],
      "source": [
        "df_new.columns"
      ]
    },
    {
      "cell_type": "code",
      "source": [
        ""
      ],
      "metadata": {
        "id": "aaLMLTpsncT0"
      },
      "execution_count": null,
      "outputs": []
    },
    {
      "cell_type": "code",
      "execution_count": 11,
      "metadata": {
        "id": "AdnVy3fgeFca"
      },
      "outputs": [],
      "source": [
        "X = np.array(df_new['clean_description'] ,df_new['clean_feature'])\n",
        "\n",
        "#  [df_new['title'],\n",
        "#             df_new['clean_description'],\n",
        "#             df_new['clean_feature'],\n",
        "#             df_new['brand']]\n",
        "\n",
        "y = np.array(df_new['rank_binss'].astype('int8'))"
      ]
    },
    {
      "cell_type": "code",
      "source": [
        ""
      ],
      "metadata": {
        "colab": {
          "base_uri": "https://localhost:8080/"
        },
        "id": "uHEKON205cQM",
        "outputId": "8edce342-d305-4881-d373-8fb25d839dd2"
      },
      "execution_count": 28,
      "outputs": [
        {
          "output_type": "execute_result",
          "data": {
            "text/plain": [
              "array(['  9H HARDNESS FOR MAXIMUM PROTECTION  9H harness tempered glass which is 3 times stronger than normal 3H hardness can effectively protect your Phone from unwanted scratches and friction from keys knife and other harmful factors. ANTI-SHATTER  By undergoing specialized tempered-glass treatment this screen protector is much more flexible and shatterproof. If the protector does break under extreme pressure it wont break into small sharp pieces keeping your phone and yourself out of danger. CLARITY AND HIGH-RESPONSE TOUCH PRESERVED  99.99% HD clarity color reproduction HD clear display natural watching experience maintains the original touch experience. WATERPROOF AND OIL-PROOF  High-density anti-fingerprint layer can prevent the water ; oil from scatter and the water ; oil can be wiped away very easily. 2.5D ROUND EDGE  The 2.5D round edge provides more comfortable handle feeling than the right angle edge and will never hurt your fingers.** NOTICE : screen protectors are manufactured to be slightly smaller than the actual screen of your device.&nbsp; Our goal is for the customer to be able to fit our screen protector on any matching device phone case hassle-free.',\n",
              "       'Loopilops: ---Surface Hardness : 9H hardness can effectively protect your screen from scratches and external shocks. ---Oleophobic Coating: The oleophobic coating can prevent fingerprints or other stains and make the film easy to clean. ---Whole transparency delicate touch preserve the high resolution and vivid does not interfere with the touch screen sensitivity. Offers a tough durable and transparent surface while keeping the LCD screen clean and unstretched. ---Easy to install without worrying about air bubbles or getting dirt caught between the screen and the film Custom design for your device patible Model: Apple iPhone 8 Plus',\n",
              "       'PLEASE NOTE:  NOT FOR S5 ACTIVE. The S5 extended battery is compatible with all Samsung Galaxy S5 models including: Galaxy SV G900F G900I G900M G900A G900T G900W8 G900K G900L G900S. Not compatible with S5 mini. Only use this product with the original manufacturer charge cable. Cheap generic cables have shown to cause issues with functionality and circuitry.FEATURES:  - The S5 extended battery is designed to deliver 100 hours of extra charge. - Created from certified Grade A+ battery cells providing a high capacity of 7800 mAh. - High quality standard testing with approvals from FCC RoHS and CE. - Fail proof built-in IC that monitors temperature and input to protect you and your phone. - Sturdy and stylish back-piece and protective cover to keep your device looking elegant and sleek!SPECIFICATIONS:  - Battery Capacity: 7800 mAh  - Battery Type: Li-Ion - Input/Output: 3.8V/1A  - Battery Dimensions: 3.3 x 1.7 x 0.4 inches - Weight: 4 ounces   IN THE BOX:  - 1 7800 mAh Extended Battery - 1 Hard Back Cover - 1 Protective Case - 1 Screen Protector - 1 User Manual - LIMITED TIME OFFER: One 5% PowerBear Coupon!  EXTENDED 24 MONTH WARRANTY  PowerBear aims to reach the highest limits of customer service excellence! If there is ANY REASON why you are unhappy or unsatisfied with ANY of our products we guarantee you a replacement within 2 years!GO BEYOND YOUR POWER: Keep yourself powered with PowerBear Phone Accessories! We offer top quality products to reliably ensure that you and your phone are always energized. Products include battery cases extended batteries spare batteries cables and all your power needs. Were dedicated to making your life easier by taking the responsibility of keeping your phone charge away from you. Using PowerBear products will change your life!',\n",
              "       ...,\n",
              "       ' VR WEARs virtual reality headset is a device which lets your phone plunge fully into the world of virtual reality. Watch 360 degree or 3D video  play games or go on a virtual trip for example with Google Maps in Street View mode and do many other things. Works with Google Cardbord! The VR headset fits most popular smartphones and mobile devices for example: Apple iPhone X/8/8 plus/7/7 Plus/6/6 Plus/6s Samsung Galaxy S9/S9 Plus/S8/8 Plus/S7/S6/S5/note 5/note 4/edge/mini Google Nexus 6/6P/5X/Pixel/Pixel XL and many others 4.5 - 6.5 smartphones like HTC Moto LG Microsoft Sony Huawei Asus BLU ZTE OnePlus... Smartphone requirements: Smartphone size: 4.5-6.5 inches (maximum size supported is 175 x 85 mm) The availability of actuating devices: gyroscope accelerometer.  When putting on the virtual reality headset the user may feel dizziness at first. Weve significantly reduced this effect in our model thanks to the usage of a high-quality big lens and an increased 105 degree vision angle. With the VR WEAR device for virtual reality you get a clear image (lens light transmission capability is increased by 30%). The high-quality construction and use of the best materials gives you absolute confidence in VR WEAR virtual reality accessories. Youll definitely love the quality and functionality of our best VR headset. For the comfortable use of this virtual reality mask theres a hole for cables (earphones charger) and a hole for ventilation which ensures that your smartphone wont overheat and the lens wont get foggy. Do you want to make your best VR headset for iPhone more original? <i>Order VR WEAR virtual reality headsets for yourself or as a gift for those close to you. This is a high-quality and functional device for virtual reality which is so easy to use!',\n",
              "       '',\n",
              "       'You get one black cover for your phone AND one holster belt clip that is custom made to fit the phone while inside the case. PHONE COVER: The cover is a black hard shell that snaps on the back of the phone. Your phone is fully functional in the case with cutouts to access all buttons and ports. The case is made of hard polycarbonate that has been treated with a rubberized spray powder coating for extra grip and durability. Case also has ribbed lines for additional grip. BELT CLIP HOLSTER: Holster is made to fit the phone with cover. Its also made of a hard plastic that has a rubberized texture coating. The interior is lined with micro-fiber material to ensure your lcd screen will remain scratch free. The holster can fit the phone BOTH ways: face-outward for viewing or face-inward to protect the lcd screen. Your phone is ultra secure within the holster. The belt clip on this holster will turn/lock in 13 different positions. The clip has a slim profile so it will not extend far from your waist and bump into things. Attach to your side and always have quick access to your phone. KICKSTAND: There is a hinge on the inside of the belt clip so you can prop open. This is great for standing the phone in horizontal position on your table or desk. Now youll be able to prop your phone and watch movies hands-free....also handy for those who use their phone as an alarm clock.'],\n",
              "      dtype=object)"
            ]
          },
          "metadata": {},
          "execution_count": 28
        }
      ]
    },
    {
      "cell_type": "code",
      "execution_count": 13,
      "metadata": {
        "colab": {
          "base_uri": "https://localhost:8080/"
        },
        "id": "NbSC6YOEc9Rl",
        "outputId": "10333eab-0980-4da8-feda-4c5759a62243"
      },
      "outputs": [
        {
          "output_type": "stream",
          "name": "stdout",
          "text": [
            "There are 17677 different words in your corpus\n",
            "X_pad.shape (10422, 2940)\n"
          ]
        }
      ],
      "source": [
        "def tok_seo(X):\n",
        "  ### Tokenizer\n",
        "  tk = Tokenizer()\n",
        "  tk.fit_on_texts(X)\n",
        "  vocab_size = len(tk.word_index)\n",
        "\n",
        "  print(f'There are {vocab_size} different words in your corpus')\n",
        "  X_token = tk.texts_to_sequences(X)\n",
        "\n",
        "  ### Pad the inputs\n",
        "  X_pad = pad_sequences(X_token, dtype='float32', padding='post')\n",
        "\n",
        "  return X_pad, vocab_size\n",
        "\n",
        "X_pad, vocab_size = tok_seo(X)\n",
        "print(\"X_pad.shape\", X_pad.shape)"
      ]
    },
    {
      "cell_type": "code",
      "execution_count": 31,
      "metadata": {
        "colab": {
          "base_uri": "https://localhost:8080/"
        },
        "id": "Lm4EUeShgYUp",
        "outputId": "9e5e6c36-4189-40e0-ae3f-c295e18a615c"
      },
      "outputs": [
        {
          "output_type": "execute_result",
          "data": {
            "text/plain": [
              "array([[1.370e+02, 9.200e+01, 7.000e+00, ..., 0.000e+00, 0.000e+00,\n",
              "        0.000e+00],\n",
              "       [8.592e+03, 8.800e+01, 9.200e+01, ..., 0.000e+00, 0.000e+00,\n",
              "        0.000e+00],\n",
              "       [6.500e+01, 6.600e+01, 2.500e+01, ..., 0.000e+00, 0.000e+00,\n",
              "        0.000e+00],\n",
              "       ...,\n",
              "       [3.320e+02, 1.587e+03, 2.840e+02, ..., 0.000e+00, 0.000e+00,\n",
              "        0.000e+00],\n",
              "       [0.000e+00, 0.000e+00, 0.000e+00, ..., 0.000e+00, 0.000e+00,\n",
              "        0.000e+00],\n",
              "       [1.100e+01, 1.840e+02, 1.000e+02, ..., 0.000e+00, 0.000e+00,\n",
              "        0.000e+00]], dtype=float32)"
            ]
          },
          "metadata": {},
          "execution_count": 31
        }
      ],
      "source": [
        "X_pad"
      ]
    },
    {
      "cell_type": "code",
      "execution_count": 28,
      "metadata": {
        "colab": {
          "base_uri": "https://localhost:8080/"
        },
        "id": "Ac_sWPfFceWN",
        "outputId": "d8e5bcd2-a8ab-45ba-accf-f7f0d8acad09"
      },
      "outputs": [
        {
          "output_type": "stream",
          "name": "stdout",
          "text": [
            "Model: \"sequential\"\n",
            "_________________________________________________________________\n",
            " Layer (type)                Output Shape              Param #   \n",
            "=================================================================\n",
            " embedding (Embedding)       (None, 2940, 100)         1767800   \n",
            "                                                                 \n",
            " lstm (LSTM)                 (None, 30)                15720     \n",
            "                                                                 \n",
            " dense (Dense)               (None, 11)                341       \n",
            "                                                                 \n",
            "=================================================================\n",
            "Total params: 1,783,861\n",
            "Trainable params: 1,783,861\n",
            "Non-trainable params: 0\n",
            "_________________________________________________________________\n"
          ]
        }
      ],
      "source": [
        "embedding_size = 100\n",
        "\n",
        "model = Sequential()\n",
        "model.add(layers.Embedding(\n",
        "    input_dim=vocab_size+1,\n",
        "    input_length=2940, # Max_sentence_length (optional, for model summary)\n",
        "    output_dim=embedding_size,\n",
        "    mask_zero=True,))\n",
        "\n",
        "model.add(layers.LSTM(30))\n",
        "model.add(layers.Dense(11, activation=\"softmax\"))\n",
        "model.summary()"
      ]
    },
    {
      "cell_type": "code",
      "source": [
        "y_cat = to_categorical(y)"
      ],
      "metadata": {
        "id": "Vbe-WXdsRFJ_"
      },
      "execution_count": 14,
      "outputs": []
    },
    {
      "cell_type": "code",
      "source": [
        "\n",
        "X_train,X_test,y_cat_train,y_cat_test = train_test_split(X_pad,y_cat,train_size=0.3)"
      ],
      "metadata": {
        "id": "2cIHAjYhRQj4"
      },
      "execution_count": 15,
      "outputs": []
    },
    {
      "cell_type": "code",
      "execution_count": 42,
      "metadata": {
        "colab": {
          "base_uri": "https://localhost:8080/",
          "height": 1000
        },
        "id": "PwsPz-npk-fG",
        "outputId": "a58fd2c4-18fb-4cd8-e4b0-039d9fde55c5"
      },
      "outputs": [
        {
          "output_type": "stream",
          "name": "stdout",
          "text": [
            "Epoch 1/100\n",
            "21/21 [==============================] - 184s 9s/step - loss: 1.7493 - accuracy: 0.3848\n",
            "Epoch 2/100\n",
            "21/21 [==============================] - 218s 10s/step - loss: 1.6757 - accuracy: 0.4362\n",
            "Epoch 3/100\n",
            "21/21 [==============================] - 202s 10s/step - loss: 1.6239 - accuracy: 0.4729\n",
            "Epoch 4/100\n",
            "21/21 [==============================] - 181s 9s/step - loss: 1.5783 - accuracy: 0.4923\n",
            "Epoch 5/100\n",
            "21/21 [==============================] - 168s 8s/step - loss: 1.5377 - accuracy: 0.5041\n",
            "Epoch 6/100\n",
            "21/21 [==============================] - 165s 8s/step - loss: 1.4991 - accuracy: 0.5157\n",
            "Epoch 7/100\n",
            "21/21 [==============================] - 165s 8s/step - loss: 1.4642 - accuracy: 0.5326\n",
            "Epoch 8/100\n",
            "21/21 [==============================] - 166s 8s/step - loss: 1.4298 - accuracy: 0.5446\n",
            "Epoch 9/100\n",
            "21/21 [==============================] - 165s 8s/step - loss: 1.3922 - accuracy: 0.5576\n",
            "Epoch 10/100\n",
            "21/21 [==============================] - 164s 8s/step - loss: 1.3589 - accuracy: 0.5811\n",
            "Epoch 11/100\n",
            "21/21 [==============================] - 163s 8s/step - loss: 1.3314 - accuracy: 0.5907\n",
            "Epoch 12/100\n",
            "21/21 [==============================] - 164s 8s/step - loss: 1.3089 - accuracy: 0.6009\n",
            "Epoch 13/100\n",
            "21/21 [==============================] - 165s 8s/step - loss: 1.2713 - accuracy: 0.6146\n",
            "Epoch 14/100\n",
            "21/21 [==============================] - 165s 8s/step - loss: 1.2451 - accuracy: 0.6220\n",
            "Epoch 15/100\n",
            "21/21 [==============================] - 165s 8s/step - loss: 1.2079 - accuracy: 0.6380\n",
            "Epoch 16/100\n",
            "21/21 [==============================] - 167s 8s/step - loss: 1.1796 - accuracy: 0.6479\n",
            "Epoch 17/100\n",
            "21/21 [==============================] - 167s 8s/step - loss: 1.1501 - accuracy: 0.6560\n",
            "Epoch 18/100\n",
            "21/21 [==============================] - 167s 8s/step - loss: 1.1239 - accuracy: 0.6655\n",
            "Epoch 19/100\n",
            "21/21 [==============================] - 166s 8s/step - loss: 1.1027 - accuracy: 0.6718\n",
            "Epoch 20/100\n",
            "21/21 [==============================] - 166s 8s/step - loss: 1.0846 - accuracy: 0.6748\n",
            "Epoch 21/100\n",
            "21/21 [==============================] - 166s 8s/step - loss: 1.0657 - accuracy: 0.6775\n",
            "Epoch 22/100\n",
            "21/21 [==============================] - 164s 8s/step - loss: 1.0435 - accuracy: 0.6859\n",
            "Epoch 23/100\n",
            "21/21 [==============================] - 163s 8s/step - loss: 1.0396 - accuracy: 0.6840\n",
            "Epoch 24/100\n",
            "21/21 [==============================] - 163s 8s/step - loss: 1.0157 - accuracy: 0.6904\n",
            "Epoch 25/100\n",
            "21/21 [==============================] - 164s 8s/step - loss: 0.9976 - accuracy: 0.6953\n",
            "Epoch 26/100\n",
            "21/21 [==============================] - 167s 8s/step - loss: 0.9742 - accuracy: 0.7010\n",
            "Epoch 27/100\n",
            "21/21 [==============================] - 166s 8s/step - loss: 0.9567 - accuracy: 0.7040\n",
            "Epoch 28/100\n",
            "21/21 [==============================] - 167s 8s/step - loss: 0.9486 - accuracy: 0.7068\n",
            "Epoch 29/100\n",
            "21/21 [==============================] - 167s 8s/step - loss: 0.9411 - accuracy: 0.7077\n",
            "Epoch 30/100\n",
            "21/21 [==============================] - 164s 8s/step - loss: 0.9264 - accuracy: 0.7089\n",
            "Epoch 31/100\n",
            "21/21 [==============================] - 162s 8s/step - loss: 0.9123 - accuracy: 0.7120\n",
            "Epoch 32/100\n",
            "21/21 [==============================] - 162s 8s/step - loss: 0.9012 - accuracy: 0.7148\n",
            "Epoch 33/100\n",
            "21/21 [==============================] - 162s 8s/step - loss: 0.9145 - accuracy: 0.7106\n",
            "Epoch 34/100\n",
            "21/21 [==============================] - 162s 8s/step - loss: 0.9828 - accuracy: 0.6835\n",
            "Epoch 35/100\n",
            "21/21 [==============================] - 162s 8s/step - loss: 0.9142 - accuracy: 0.7088\n",
            "Epoch 36/100\n",
            "21/21 [==============================] - 161s 8s/step - loss: 0.8842 - accuracy: 0.7151\n",
            "Epoch 37/100\n",
            "21/21 [==============================] - 163s 8s/step - loss: 0.8657 - accuracy: 0.7179\n",
            "Epoch 38/100\n",
            "21/21 [==============================] - 162s 8s/step - loss: 0.8566 - accuracy: 0.7239\n",
            "Epoch 39/100\n",
            "21/21 [==============================] - 162s 8s/step - loss: 0.8474 - accuracy: 0.7244\n",
            "Epoch 40/100\n",
            "21/21 [==============================] - 162s 8s/step - loss: 0.8519 - accuracy: 0.7213\n",
            "Epoch 41/100\n",
            "21/21 [==============================] - 162s 8s/step - loss: 0.8404 - accuracy: 0.7253\n",
            "Epoch 42/100\n",
            "21/21 [==============================] - 162s 8s/step - loss: 0.8302 - accuracy: 0.7257\n",
            "Epoch 43/100\n",
            "21/21 [==============================] - 166s 8s/step - loss: 0.8286 - accuracy: 0.7240\n",
            "Epoch 44/100\n",
            "21/21 [==============================] - 163s 8s/step - loss: 0.8208 - accuracy: 0.7309\n",
            "Epoch 45/100\n",
            "21/21 [==============================] - 162s 8s/step - loss: 0.8149 - accuracy: 0.7289\n",
            "Epoch 46/100\n",
            "21/21 [==============================] - 162s 8s/step - loss: 0.8076 - accuracy: 0.7290\n",
            "Epoch 47/100\n",
            "21/21 [==============================] - 162s 8s/step - loss: 0.8048 - accuracy: 0.7300\n",
            "Epoch 48/100\n",
            "21/21 [==============================] - 163s 8s/step - loss: 0.7999 - accuracy: 0.7316\n",
            "Epoch 49/100\n",
            "21/21 [==============================] - 162s 8s/step - loss: 0.7970 - accuracy: 0.7306\n",
            "Epoch 50/100\n",
            "21/21 [==============================] - 162s 8s/step - loss: 0.7962 - accuracy: 0.7317\n",
            "Epoch 51/100\n",
            "21/21 [==============================] - 162s 8s/step - loss: 0.7964 - accuracy: 0.7331\n",
            "Epoch 52/100\n",
            "21/21 [==============================] - 162s 8s/step - loss: 0.7908 - accuracy: 0.7312\n",
            "Epoch 53/100\n",
            "21/21 [==============================] - 161s 8s/step - loss: 0.7861 - accuracy: 0.7324\n",
            "Epoch 54/100\n",
            "21/21 [==============================] - 161s 8s/step - loss: 0.8055 - accuracy: 0.7308\n",
            "Epoch 55/100\n",
            "21/21 [==============================] - 162s 8s/step - loss: 0.8073 - accuracy: 0.7273\n",
            "Epoch 56/100\n",
            "21/21 [==============================] - 161s 8s/step - loss: 0.7961 - accuracy: 0.7285\n",
            "Epoch 57/100\n",
            "21/21 [==============================] - 162s 8s/step - loss: 0.8159 - accuracy: 0.7273\n",
            "Epoch 58/100\n",
            "21/21 [==============================] - 161s 8s/step - loss: 0.8146 - accuracy: 0.7239\n",
            "Epoch 59/100\n",
            "21/21 [==============================] - 162s 8s/step - loss: 0.7894 - accuracy: 0.7310\n",
            "Epoch 60/100\n",
            " 9/21 [===========>..................] - ETA: 1:33 - loss: 0.7634 - accuracy: 0.7420"
          ]
        },
        {
          "output_type": "error",
          "ename": "KeyboardInterrupt",
          "evalue": "ignored",
          "traceback": [
            "\u001b[0;31m---------------------------------------------------------------------------\u001b[0m",
            "\u001b[0;31mKeyboardInterrupt\u001b[0m                         Traceback (most recent call last)",
            "\u001b[0;32m<ipython-input-42-15268d50c8a9>\u001b[0m in \u001b[0;36m<module>\u001b[0;34m()\u001b[0m\n\u001b[1;32m      3\u001b[0m               metrics=['accuracy'])\n\u001b[1;32m      4\u001b[0m \u001b[0;34m\u001b[0m\u001b[0m\n\u001b[0;32m----> 5\u001b[0;31m \u001b[0mmodel\u001b[0m\u001b[0;34m.\u001b[0m\u001b[0mfit\u001b[0m\u001b[0;34m(\u001b[0m\u001b[0mX_pad\u001b[0m\u001b[0;34m,\u001b[0m \u001b[0my_cat\u001b[0m\u001b[0;34m,\u001b[0m \u001b[0mepochs\u001b[0m\u001b[0;34m=\u001b[0m\u001b[0;36m100\u001b[0m\u001b[0;34m,\u001b[0m \u001b[0mbatch_size\u001b[0m\u001b[0;34m=\u001b[0m\u001b[0;36m512\u001b[0m\u001b[0;34m)\u001b[0m\u001b[0;34m\u001b[0m\u001b[0;34m\u001b[0m\u001b[0m\n\u001b[0m\u001b[1;32m      6\u001b[0m \u001b[0mmodel\u001b[0m\u001b[0;34m.\u001b[0m\u001b[0mevaluate\u001b[0m\u001b[0;34m(\u001b[0m\u001b[0mX_pad\u001b[0m\u001b[0;34m,\u001b[0m\u001b[0my_cat\u001b[0m\u001b[0;34m)\u001b[0m\u001b[0;34m\u001b[0m\u001b[0;34m\u001b[0m\u001b[0m\n",
            "\u001b[0;32m/usr/local/lib/python3.7/dist-packages/keras/utils/traceback_utils.py\u001b[0m in \u001b[0;36merror_handler\u001b[0;34m(*args, **kwargs)\u001b[0m\n\u001b[1;32m     62\u001b[0m     \u001b[0mfiltered_tb\u001b[0m \u001b[0;34m=\u001b[0m \u001b[0;32mNone\u001b[0m\u001b[0;34m\u001b[0m\u001b[0;34m\u001b[0m\u001b[0m\n\u001b[1;32m     63\u001b[0m     \u001b[0;32mtry\u001b[0m\u001b[0;34m:\u001b[0m\u001b[0;34m\u001b[0m\u001b[0;34m\u001b[0m\u001b[0m\n\u001b[0;32m---> 64\u001b[0;31m       \u001b[0;32mreturn\u001b[0m \u001b[0mfn\u001b[0m\u001b[0;34m(\u001b[0m\u001b[0;34m*\u001b[0m\u001b[0margs\u001b[0m\u001b[0;34m,\u001b[0m \u001b[0;34m**\u001b[0m\u001b[0mkwargs\u001b[0m\u001b[0;34m)\u001b[0m\u001b[0;34m\u001b[0m\u001b[0;34m\u001b[0m\u001b[0m\n\u001b[0m\u001b[1;32m     65\u001b[0m     \u001b[0;32mexcept\u001b[0m \u001b[0mException\u001b[0m \u001b[0;32mas\u001b[0m \u001b[0me\u001b[0m\u001b[0;34m:\u001b[0m  \u001b[0;31m# pylint: disable=broad-except\u001b[0m\u001b[0;34m\u001b[0m\u001b[0;34m\u001b[0m\u001b[0m\n\u001b[1;32m     66\u001b[0m       \u001b[0mfiltered_tb\u001b[0m \u001b[0;34m=\u001b[0m \u001b[0m_process_traceback_frames\u001b[0m\u001b[0;34m(\u001b[0m\u001b[0me\u001b[0m\u001b[0;34m.\u001b[0m\u001b[0m__traceback__\u001b[0m\u001b[0;34m)\u001b[0m\u001b[0;34m\u001b[0m\u001b[0;34m\u001b[0m\u001b[0m\n",
            "\u001b[0;32m/usr/local/lib/python3.7/dist-packages/keras/engine/training.py\u001b[0m in \u001b[0;36mfit\u001b[0;34m(self, x, y, batch_size, epochs, verbose, callbacks, validation_split, validation_data, shuffle, class_weight, sample_weight, initial_epoch, steps_per_epoch, validation_steps, validation_batch_size, validation_freq, max_queue_size, workers, use_multiprocessing)\u001b[0m\n\u001b[1;32m   1382\u001b[0m                 _r=1):\n\u001b[1;32m   1383\u001b[0m               \u001b[0mcallbacks\u001b[0m\u001b[0;34m.\u001b[0m\u001b[0mon_train_batch_begin\u001b[0m\u001b[0;34m(\u001b[0m\u001b[0mstep\u001b[0m\u001b[0;34m)\u001b[0m\u001b[0;34m\u001b[0m\u001b[0;34m\u001b[0m\u001b[0m\n\u001b[0;32m-> 1384\u001b[0;31m               \u001b[0mtmp_logs\u001b[0m \u001b[0;34m=\u001b[0m \u001b[0mself\u001b[0m\u001b[0;34m.\u001b[0m\u001b[0mtrain_function\u001b[0m\u001b[0;34m(\u001b[0m\u001b[0miterator\u001b[0m\u001b[0;34m)\u001b[0m\u001b[0;34m\u001b[0m\u001b[0;34m\u001b[0m\u001b[0m\n\u001b[0m\u001b[1;32m   1385\u001b[0m               \u001b[0;32mif\u001b[0m \u001b[0mdata_handler\u001b[0m\u001b[0;34m.\u001b[0m\u001b[0mshould_sync\u001b[0m\u001b[0;34m:\u001b[0m\u001b[0;34m\u001b[0m\u001b[0;34m\u001b[0m\u001b[0m\n\u001b[1;32m   1386\u001b[0m                 \u001b[0mcontext\u001b[0m\u001b[0;34m.\u001b[0m\u001b[0masync_wait\u001b[0m\u001b[0;34m(\u001b[0m\u001b[0;34m)\u001b[0m\u001b[0;34m\u001b[0m\u001b[0;34m\u001b[0m\u001b[0m\n",
            "\u001b[0;32m/usr/local/lib/python3.7/dist-packages/tensorflow/python/util/traceback_utils.py\u001b[0m in \u001b[0;36merror_handler\u001b[0;34m(*args, **kwargs)\u001b[0m\n\u001b[1;32m    148\u001b[0m     \u001b[0mfiltered_tb\u001b[0m \u001b[0;34m=\u001b[0m \u001b[0;32mNone\u001b[0m\u001b[0;34m\u001b[0m\u001b[0;34m\u001b[0m\u001b[0m\n\u001b[1;32m    149\u001b[0m     \u001b[0;32mtry\u001b[0m\u001b[0;34m:\u001b[0m\u001b[0;34m\u001b[0m\u001b[0;34m\u001b[0m\u001b[0m\n\u001b[0;32m--> 150\u001b[0;31m       \u001b[0;32mreturn\u001b[0m \u001b[0mfn\u001b[0m\u001b[0;34m(\u001b[0m\u001b[0;34m*\u001b[0m\u001b[0margs\u001b[0m\u001b[0;34m,\u001b[0m \u001b[0;34m**\u001b[0m\u001b[0mkwargs\u001b[0m\u001b[0;34m)\u001b[0m\u001b[0;34m\u001b[0m\u001b[0;34m\u001b[0m\u001b[0m\n\u001b[0m\u001b[1;32m    151\u001b[0m     \u001b[0;32mexcept\u001b[0m \u001b[0mException\u001b[0m \u001b[0;32mas\u001b[0m \u001b[0me\u001b[0m\u001b[0;34m:\u001b[0m\u001b[0;34m\u001b[0m\u001b[0;34m\u001b[0m\u001b[0m\n\u001b[1;32m    152\u001b[0m       \u001b[0mfiltered_tb\u001b[0m \u001b[0;34m=\u001b[0m \u001b[0m_process_traceback_frames\u001b[0m\u001b[0;34m(\u001b[0m\u001b[0me\u001b[0m\u001b[0;34m.\u001b[0m\u001b[0m__traceback__\u001b[0m\u001b[0;34m)\u001b[0m\u001b[0;34m\u001b[0m\u001b[0;34m\u001b[0m\u001b[0m\n",
            "\u001b[0;32m/usr/local/lib/python3.7/dist-packages/tensorflow/python/eager/def_function.py\u001b[0m in \u001b[0;36m__call__\u001b[0;34m(self, *args, **kwds)\u001b[0m\n\u001b[1;32m    913\u001b[0m \u001b[0;34m\u001b[0m\u001b[0m\n\u001b[1;32m    914\u001b[0m       \u001b[0;32mwith\u001b[0m \u001b[0mOptionalXlaContext\u001b[0m\u001b[0;34m(\u001b[0m\u001b[0mself\u001b[0m\u001b[0;34m.\u001b[0m\u001b[0m_jit_compile\u001b[0m\u001b[0;34m)\u001b[0m\u001b[0;34m:\u001b[0m\u001b[0;34m\u001b[0m\u001b[0;34m\u001b[0m\u001b[0m\n\u001b[0;32m--> 915\u001b[0;31m         \u001b[0mresult\u001b[0m \u001b[0;34m=\u001b[0m \u001b[0mself\u001b[0m\u001b[0;34m.\u001b[0m\u001b[0m_call\u001b[0m\u001b[0;34m(\u001b[0m\u001b[0;34m*\u001b[0m\u001b[0margs\u001b[0m\u001b[0;34m,\u001b[0m \u001b[0;34m**\u001b[0m\u001b[0mkwds\u001b[0m\u001b[0;34m)\u001b[0m\u001b[0;34m\u001b[0m\u001b[0;34m\u001b[0m\u001b[0m\n\u001b[0m\u001b[1;32m    916\u001b[0m \u001b[0;34m\u001b[0m\u001b[0m\n\u001b[1;32m    917\u001b[0m       \u001b[0mnew_tracing_count\u001b[0m \u001b[0;34m=\u001b[0m \u001b[0mself\u001b[0m\u001b[0;34m.\u001b[0m\u001b[0mexperimental_get_tracing_count\u001b[0m\u001b[0;34m(\u001b[0m\u001b[0;34m)\u001b[0m\u001b[0;34m\u001b[0m\u001b[0;34m\u001b[0m\u001b[0m\n",
            "\u001b[0;32m/usr/local/lib/python3.7/dist-packages/tensorflow/python/eager/def_function.py\u001b[0m in \u001b[0;36m_call\u001b[0;34m(self, *args, **kwds)\u001b[0m\n\u001b[1;32m    945\u001b[0m       \u001b[0;31m# In this case we have created variables on the first call, so we run the\u001b[0m\u001b[0;34m\u001b[0m\u001b[0;34m\u001b[0m\u001b[0;34m\u001b[0m\u001b[0m\n\u001b[1;32m    946\u001b[0m       \u001b[0;31m# defunned version which is guaranteed to never create variables.\u001b[0m\u001b[0;34m\u001b[0m\u001b[0;34m\u001b[0m\u001b[0;34m\u001b[0m\u001b[0m\n\u001b[0;32m--> 947\u001b[0;31m       \u001b[0;32mreturn\u001b[0m \u001b[0mself\u001b[0m\u001b[0;34m.\u001b[0m\u001b[0m_stateless_fn\u001b[0m\u001b[0;34m(\u001b[0m\u001b[0;34m*\u001b[0m\u001b[0margs\u001b[0m\u001b[0;34m,\u001b[0m \u001b[0;34m**\u001b[0m\u001b[0mkwds\u001b[0m\u001b[0;34m)\u001b[0m  \u001b[0;31m# pylint: disable=not-callable\u001b[0m\u001b[0;34m\u001b[0m\u001b[0;34m\u001b[0m\u001b[0m\n\u001b[0m\u001b[1;32m    948\u001b[0m     \u001b[0;32melif\u001b[0m \u001b[0mself\u001b[0m\u001b[0;34m.\u001b[0m\u001b[0m_stateful_fn\u001b[0m \u001b[0;32mis\u001b[0m \u001b[0;32mnot\u001b[0m \u001b[0;32mNone\u001b[0m\u001b[0;34m:\u001b[0m\u001b[0;34m\u001b[0m\u001b[0;34m\u001b[0m\u001b[0m\n\u001b[1;32m    949\u001b[0m       \u001b[0;31m# Release the lock early so that multiple threads can perform the call\u001b[0m\u001b[0;34m\u001b[0m\u001b[0;34m\u001b[0m\u001b[0;34m\u001b[0m\u001b[0m\n",
            "\u001b[0;32m/usr/local/lib/python3.7/dist-packages/tensorflow/python/eager/function.py\u001b[0m in \u001b[0;36m__call__\u001b[0;34m(self, *args, **kwargs)\u001b[0m\n\u001b[1;32m   2955\u001b[0m        filtered_flat_args) = self._maybe_define_function(args, kwargs)\n\u001b[1;32m   2956\u001b[0m     return graph_function._call_flat(\n\u001b[0;32m-> 2957\u001b[0;31m         filtered_flat_args, captured_inputs=graph_function.captured_inputs)  # pylint: disable=protected-access\n\u001b[0m\u001b[1;32m   2958\u001b[0m \u001b[0;34m\u001b[0m\u001b[0m\n\u001b[1;32m   2959\u001b[0m   \u001b[0;34m@\u001b[0m\u001b[0mproperty\u001b[0m\u001b[0;34m\u001b[0m\u001b[0;34m\u001b[0m\u001b[0m\n",
            "\u001b[0;32m/usr/local/lib/python3.7/dist-packages/tensorflow/python/eager/function.py\u001b[0m in \u001b[0;36m_call_flat\u001b[0;34m(self, args, captured_inputs, cancellation_manager)\u001b[0m\n\u001b[1;32m   1852\u001b[0m       \u001b[0;31m# No tape is watching; skip to running the function.\u001b[0m\u001b[0;34m\u001b[0m\u001b[0;34m\u001b[0m\u001b[0;34m\u001b[0m\u001b[0m\n\u001b[1;32m   1853\u001b[0m       return self._build_call_outputs(self._inference_function.call(\n\u001b[0;32m-> 1854\u001b[0;31m           ctx, args, cancellation_manager=cancellation_manager))\n\u001b[0m\u001b[1;32m   1855\u001b[0m     forward_backward = self._select_forward_and_backward_functions(\n\u001b[1;32m   1856\u001b[0m         \u001b[0margs\u001b[0m\u001b[0;34m,\u001b[0m\u001b[0;34m\u001b[0m\u001b[0;34m\u001b[0m\u001b[0m\n",
            "\u001b[0;32m/usr/local/lib/python3.7/dist-packages/tensorflow/python/eager/function.py\u001b[0m in \u001b[0;36mcall\u001b[0;34m(self, ctx, args, cancellation_manager)\u001b[0m\n\u001b[1;32m    502\u001b[0m               \u001b[0minputs\u001b[0m\u001b[0;34m=\u001b[0m\u001b[0margs\u001b[0m\u001b[0;34m,\u001b[0m\u001b[0;34m\u001b[0m\u001b[0;34m\u001b[0m\u001b[0m\n\u001b[1;32m    503\u001b[0m               \u001b[0mattrs\u001b[0m\u001b[0;34m=\u001b[0m\u001b[0mattrs\u001b[0m\u001b[0;34m,\u001b[0m\u001b[0;34m\u001b[0m\u001b[0;34m\u001b[0m\u001b[0m\n\u001b[0;32m--> 504\u001b[0;31m               ctx=ctx)\n\u001b[0m\u001b[1;32m    505\u001b[0m         \u001b[0;32melse\u001b[0m\u001b[0;34m:\u001b[0m\u001b[0;34m\u001b[0m\u001b[0;34m\u001b[0m\u001b[0m\n\u001b[1;32m    506\u001b[0m           outputs = execute.execute_with_cancellation(\n",
            "\u001b[0;32m/usr/local/lib/python3.7/dist-packages/tensorflow/python/eager/execute.py\u001b[0m in \u001b[0;36mquick_execute\u001b[0;34m(op_name, num_outputs, inputs, attrs, ctx, name)\u001b[0m\n\u001b[1;32m     53\u001b[0m     \u001b[0mctx\u001b[0m\u001b[0;34m.\u001b[0m\u001b[0mensure_initialized\u001b[0m\u001b[0;34m(\u001b[0m\u001b[0;34m)\u001b[0m\u001b[0;34m\u001b[0m\u001b[0;34m\u001b[0m\u001b[0m\n\u001b[1;32m     54\u001b[0m     tensors = pywrap_tfe.TFE_Py_Execute(ctx._handle, device_name, op_name,\n\u001b[0;32m---> 55\u001b[0;31m                                         inputs, attrs, num_outputs)\n\u001b[0m\u001b[1;32m     56\u001b[0m   \u001b[0;32mexcept\u001b[0m \u001b[0mcore\u001b[0m\u001b[0;34m.\u001b[0m\u001b[0m_NotOkStatusException\u001b[0m \u001b[0;32mas\u001b[0m \u001b[0me\u001b[0m\u001b[0;34m:\u001b[0m\u001b[0;34m\u001b[0m\u001b[0;34m\u001b[0m\u001b[0m\n\u001b[1;32m     57\u001b[0m     \u001b[0;32mif\u001b[0m \u001b[0mname\u001b[0m \u001b[0;32mis\u001b[0m \u001b[0;32mnot\u001b[0m \u001b[0;32mNone\u001b[0m\u001b[0;34m:\u001b[0m\u001b[0;34m\u001b[0m\u001b[0;34m\u001b[0m\u001b[0m\n",
            "\u001b[0;31mKeyboardInterrupt\u001b[0m: "
          ]
        }
      ],
      "source": [
        "model.compile(loss='categorical_crossentropy',\n",
        "              optimizer='adam',\n",
        "              metrics=['accuracy'])\n",
        "\n",
        "model.fit(X_pad, y_cat, epochs=100, batch_size=512)\n",
        "model.evaluate(X_pad,y_cat)"
      ]
    },
    {
      "cell_type": "code",
      "source": [
        ""
      ],
      "metadata": {
        "id": "i7kdfFZETo-1"
      },
      "execution_count": null,
      "outputs": []
    },
    {
      "cell_type": "code",
      "source": [
        "model.evaluate(X_pad,y_cat)"
      ],
      "metadata": {
        "id": "pS_qXWbSPi7V"
      },
      "execution_count": null,
      "outputs": []
    },
    {
      "cell_type": "code",
      "source": [
        "model_2 = Sequential()\n",
        "\n",
        "model_2.add(layers.Embedding(input_dim=vocab_size+1,\n",
        "                            input_length=2940,\n",
        "                            output_dim=embedding_size,\n",
        "                            mask_zero=True,))\n",
        "\n",
        "model_2.add(layers.Bidirectional(layers.LSTM(120))\n",
        "\n",
        "# model.add(layers.Dropout(0.3))\n",
        "# model.add(layers.Dense(11, activation=\"softmax\"))\n",
        "\n",
        "model_2.add(layers.Dense(60,activation='relu'))\n",
        "\n",
        "model_2.add(layers.Dense(11, activation=\"softmax\"))\n"
      ],
      "metadata": {
        "colab": {
          "base_uri": "https://localhost:8080/",
          "height": 130
        },
        "id": "SX0UwRTH_vPe",
        "outputId": "bfd4aa2b-b66f-4f0f-c8a2-d8c7221ea4f9"
      },
      "execution_count": 30,
      "outputs": [
        {
          "output_type": "error",
          "ename": "SyntaxError",
          "evalue": "ignored",
          "traceback": [
            "\u001b[0;36m  File \u001b[0;32m\"<ipython-input-30-bfa5e0326e14>\"\u001b[0;36m, line \u001b[0;32m12\u001b[0m\n\u001b[0;31m    model_2.add(layers.Dense(60,activation='relu'))\u001b[0m\n\u001b[0m          ^\u001b[0m\n\u001b[0;31mSyntaxError\u001b[0m\u001b[0;31m:\u001b[0m invalid syntax\n"
          ]
        }
      ]
    }
  ],
  "metadata": {
    "accelerator": "GPU",
    "colab": {
      "collapsed_sections": [],
      "name": "Cris_nlp_day_5.ipynb",
      "provenance": []
    },
    "kernelspec": {
      "display_name": "Python 3",
      "name": "python3"
    },
    "language_info": {
      "name": "python"
    }
  },
  "nbformat": 4,
  "nbformat_minor": 0
}