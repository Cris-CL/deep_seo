{
  "nbformat": 4,
  "nbformat_minor": 0,
  "metadata": {
    "colab": {
      "name": "Copia de parse_and_clean_meta_data.ipynb",
      "provenance": [],
      "collapsed_sections": []
    },
    "kernelspec": {
      "name": "python3",
      "display_name": "Python 3"
    }
  },
  "cells": [
    {
      "cell_type": "code",
      "metadata": {
        "id": "f5NDXrN2CtH7"
      },
      "source": [
        "import os\n",
        "import json\n",
        "import gzip\n",
        "import pandas as pd\n",
        "from urllib.request import urlopen"
      ],
      "execution_count": null,
      "outputs": []
    },
    {
      "cell_type": "code",
      "metadata": {
        "id": "feWoOrmt4Tja",
        "colab": {
          "base_uri": "https://localhost:8080/"
        },
        "outputId": "e156b112-fc49-4c3b-d35e-384a5275bacc"
      },
      "source": [
        "!wget http://deepyeti.ucsd.edu/jianmo/amazon/metaFiles2/meta_Cell_Phones_and_Accessories.json.gz"
      ],
      "execution_count": null,
      "outputs": [
        {
          "output_type": "stream",
          "name": "stdout",
          "text": [
            "--2022-05-24 06:38:35--  http://deepyeti.ucsd.edu/jianmo/amazon/metaFiles2/meta_Cell_Phones_and_Accessories.json.gz\n",
            "Resolving deepyeti.ucsd.edu (deepyeti.ucsd.edu)... 169.228.63.50\n",
            "Connecting to deepyeti.ucsd.edu (deepyeti.ucsd.edu)|169.228.63.50|:80... connected.\n",
            "HTTP request sent, awaiting response... 200 OK\n",
            "Length: 360006372 (343M) [application/octet-stream]\n",
            "Saving to: ‘meta_Cell_Phones_and_Accessories.json.gz’\n",
            "\n",
            "meta_Cell_Phones_an 100%[===================>] 343.33M  19.4MB/s    in 19s     \n",
            "\n",
            "2022-05-24 06:38:55 (18.2 MB/s) - ‘meta_Cell_Phones_and_Accessories.json.gz’ saved [360006372/360006372]\n",
            "\n"
          ]
        }
      ]
    },
    {
      "cell_type": "code",
      "metadata": {
        "id": "7igYuRaV4bF7",
        "colab": {
          "base_uri": "https://localhost:8080/"
        },
        "outputId": "739aac18-4da3-4911-924c-19318c0f557d"
      },
      "source": [
        "### load the meta data\n",
        "\n",
        "data = []\n",
        "with gzip.open('meta_Cell_Phones_and_Accessories.json.gz') as f:\n",
        "    for l in f:\n",
        "        data.append(json.loads(l.strip()))\n",
        "    \n",
        "# total length of list, this number equals total number of products\n",
        "print(len(data))\n",
        "\n",
        "# first row of the list\n",
        "print(data[0])"
      ],
      "execution_count": null,
      "outputs": [
        {
          "output_type": "stream",
          "name": "stdout",
          "text": [
            "590071\n",
            "{'category': ['Cell Phones & Accessories', 'Accessories', 'Screen Protectors'], 'tech1': '', 'description': [], 'fit': '', 'title': 'Trollies Sing a Long Party VHS', 'also_buy': [], 'tech2': '', 'brand': '', 'feature': [], 'rank': '557,379 in Movies & TV (', 'also_view': [], 'details': {'ASIN: ': '6303195164'}, 'main_cat': 'Movies & TV', 'similar_item': '', 'date': '', 'price': '', 'asin': '6303195164', 'imageURL': [], 'imageURLHighRes': []}\n"
          ]
        }
      ]
    },
    {
      "cell_type": "code",
      "metadata": {
        "id": "knpHP22w4scK",
        "colab": {
          "base_uri": "https://localhost:8080/"
        },
        "outputId": "1983b778-d0f2-40d5-9fe5-d0659f50571d"
      },
      "source": [
        "# convert list into pandas dataframe\n",
        "\n",
        "df = pd.DataFrame.from_dict(data)\n",
        "\n",
        "print(len(df))"
      ],
      "execution_count": null,
      "outputs": [
        {
          "output_type": "stream",
          "name": "stdout",
          "text": [
            "590071\n"
          ]
        }
      ]
    },
    {
      "cell_type": "code",
      "source": [
        ""
      ],
      "metadata": {
        "id": "lQHhkC1Y0kgY"
      },
      "execution_count": null,
      "outputs": []
    },
    {
      "cell_type": "code",
      "source": [
        "df[df['main_cat'] == 'Cell Phones & Accessories']\n",
        "\n",
        "\n",
        "df_2 = df[df['main_cat'] == 'Cell Phones & Accessories'].drop(columns=['tech1','fit','tech2','also_view','similar_item','also_buy'])"
      ],
      "metadata": {
        "id": "bsCtqBTdzDth"
      },
      "execution_count": null,
      "outputs": []
    },
    {
      "cell_type": "code",
      "source": [
        "import numpy as np"
      ],
      "metadata": {
        "id": "WMHEbnat50m-"
      },
      "execution_count": null,
      "outputs": []
    },
    {
      "cell_type": "code",
      "source": [
        "def clean_details(detail):\n",
        "  if len(detail) >0:\n",
        "    return detail\n",
        "  return np.nan"
      ],
      "metadata": {
        "id": "nhTa-27L52sx"
      },
      "execution_count": null,
      "outputs": []
    },
    {
      "cell_type": "code",
      "source": [
        "df_2['details_2'] = df_2['details'].map(clean_details)"
      ],
      "metadata": {
        "id": "8X_AH0BM1La1"
      },
      "execution_count": null,
      "outputs": []
    },
    {
      "cell_type": "code",
      "source": [
        "def get_first_ranking(x):\n",
        "  if len(x) >=1 and type(x) == list:\n",
        "    return x[0]\n",
        "  elif len(x) ==0:\n",
        "    return np.nan\n",
        "  return x\n",
        "  "
      ],
      "metadata": {
        "id": "hgXpopAk6jQJ"
      },
      "execution_count": null,
      "outputs": []
    },
    {
      "cell_type": "code",
      "source": [
        "df_2['main_ranking'] = df['rank'].map(get_first_ranking)\n",
        "df_2"
      ],
      "metadata": {
        "colab": {
          "base_uri": "https://localhost:8080/",
          "height": 1000
        },
        "id": "x7feuWTW6OuE",
        "outputId": "6ac3ce6a-680b-4684-f1ed-b678fcbe4fd4"
      },
      "execution_count": null,
      "outputs": [
        {
          "output_type": "execute_result",
          "data": {
            "text/plain": [
              "                                                 category  \\\n",
              "3       [Cell Phones & Accessories, Cases, Holsters & ...   \n",
              "4       [Cell Phones & Accessories, Cases, Holsters & ...   \n",
              "5       [Cell Phones & Accessories, Cases, Holsters & ...   \n",
              "6       [Cell Phones & Accessories, Accessories, Acces...   \n",
              "7                                                      []   \n",
              "...                                                   ...   \n",
              "590066  [Cell Phones & Accessories, Accessories, Repla...   \n",
              "590067  [Cell Phones & Accessories, Cases, Holsters & ...   \n",
              "590068  [Cell Phones & Accessories, Cases, Holsters & ...   \n",
              "590069  [Cell Phones & Accessories, Cases, Holsters & ...   \n",
              "590070  [Cell Phones & Accessories, Cases, Holsters & ...   \n",
              "\n",
              "                                              description  \\\n",
              "3       [A brand-new, unused, unopened, undamaged item...   \n",
              "4       [A brand-new, unused, unopened, undamaged item...   \n",
              "5       [A brand-new, unused, unopened, undamaged item...   \n",
              "6       [A brand-new, unused, unopened, undamaged item...   \n",
              "7       [Product Description\\nThe best just got better...   \n",
              "...                                                   ...   \n",
              "590066  [Compatible with:Motorola Moto G3 XT1552 G(201...   \n",
              "590067                                                 []   \n",
              "590068  [<b>Brand Aim of LoHi:</b> <br /> LoHi is dedi...   \n",
              "590069                                                 []   \n",
              "590070                                                 []   \n",
              "\n",
              "                                                    title              brand  \\\n",
              "3       Puppies Faceplate Hard Case Protector for Net1...         Live2Pedal   \n",
              "4       White Wolf Faceplate Protector Hard Case for S...  wirelessoutletusa   \n",
              "5       Camo Duck Grass Rubberized Hard Case Phone Fac...  wirelessoutletusa   \n",
              "6       Camoflague Camo Usa Deer Combo Hybrid Hard Cas...            Samsung   \n",
              "7              Motorola H700 Black - Non-Retail Packaging           Motorola   \n",
              "...                                                   ...                ...   \n",
              "590066  Full LCD Touch Screen Digitizer Assembly Repla...       hongkongruly   \n",
              "590067  Universal Sports Armband Casehigh Shop Easy Fi...             CaseHQ   \n",
              "590068  iPhone 6 Plus Case, LoHi iPhone 6s Plus Case [...               LoHi   \n",
              "590069  Universal Sports Armband Casehigh Shop Easy Fi...             CaseHQ   \n",
              "590070  Case For Samsung Galaxy S7 Edge, CoverProof Ti...         CoverProof   \n",
              "\n",
              "                                                  feature  \\\n",
              "3       [Protect your phone with style through this At...   \n",
              "4       [Protect your phone with style through this At...   \n",
              "5       [Protect your phone with style through this At...   \n",
              "6       [Protect your phone with style through this At...   \n",
              "7                                                      []   \n",
              "...                                                   ...   \n",
              "590066  [Compatible with:Motorola Moto G3 XT1552 G(201...   \n",
              "590067  [Universal Designed: Up to 5.7\" diagonal size....   \n",
              "590068  [UNIQUE DESIGNED for Apple iPhone 6/6s Plus 5....   \n",
              "590069  [Universal Designed: Up to 5.7\" diagonal size....   \n",
              "590070                                                 []   \n",
              "\n",
              "                                                     rank  \\\n",
              "3       [>#6,368,825 in Cell Phones & Accessories (See...   \n",
              "4       [>#2,672,454 in Cell Phones & Accessories (See...   \n",
              "5       [>#2,997,672 in Cell Phones & Accessories (See...   \n",
              "6       [>#2,773,172 in Cell Phones & Accessories (See...   \n",
              "7                                                      []   \n",
              "...                                                   ...   \n",
              "590066  [>#1,179,531 in Cell Phones & Accessories (See...   \n",
              "590067             663,487 in Cell Phones & Accessories (   \n",
              "590068  [>#323,452 in Cell Phones & Accessories (See T...   \n",
              "590069           1,662,046 in Cell Phones & Accessories (   \n",
              "590070  [>#3,789,048 in Cell Phones & Accessories (See...   \n",
              "\n",
              "                                                  details  \\\n",
              "3                                                      {}   \n",
              "4                                                      {}   \n",
              "5                                                      {}   \n",
              "6                                                      {}   \n",
              "7                                                      {}   \n",
              "...                                                   ...   \n",
              "590066                                                 {}   \n",
              "590067                           {'ASIN: ': 'B01HJGI3VK'}   \n",
              "590068                                                 {}   \n",
              "590069  {'ASIN: ': 'B01HJFFF1W', 'Item model number:':...   \n",
              "590070                                                 {}   \n",
              "\n",
              "                         main_cat date  price        asin  \\\n",
              "3       Cell Phones & Accessories              6786501710   \n",
              "4       Cell Phones & Accessories              6786501273   \n",
              "5       Cell Phones & Accessories              6789300104   \n",
              "6       Cell Phones & Accessories              6786501052   \n",
              "7       Cell Phones & Accessories              7030131746   \n",
              "...                           ...  ...    ...         ...   \n",
              "590066  Cell Phones & Accessories              B01HJH76J4   \n",
              "590067  Cell Phones & Accessories       $0.01  B01HJGI3VK   \n",
              "590068  Cell Phones & Accessories              B01HJH9IN6   \n",
              "590069  Cell Phones & Accessories       $3.99  B01HJFFF1W   \n",
              "590070  Cell Phones & Accessories              B01HJHMQXU   \n",
              "\n",
              "                                                 imageURL  \\\n",
              "3                                                      []   \n",
              "4                                                      []   \n",
              "5                                                      []   \n",
              "6                                                      []   \n",
              "7                                                      []   \n",
              "...                                                   ...   \n",
              "590066  [https://images-na.ssl-images-amazon.com/image...   \n",
              "590067  [https://images-na.ssl-images-amazon.com/image...   \n",
              "590068  [https://images-na.ssl-images-amazon.com/image...   \n",
              "590069  [https://images-na.ssl-images-amazon.com/image...   \n",
              "590070  [https://images-na.ssl-images-amazon.com/image...   \n",
              "\n",
              "                                          imageURLHighRes  \\\n",
              "3                                                      []   \n",
              "4                                                      []   \n",
              "5                                                      []   \n",
              "6                                                      []   \n",
              "7                                                      []   \n",
              "...                                                   ...   \n",
              "590066  [https://images-na.ssl-images-amazon.com/image...   \n",
              "590067  [https://images-na.ssl-images-amazon.com/image...   \n",
              "590068  [https://images-na.ssl-images-amazon.com/image...   \n",
              "590069  [https://images-na.ssl-images-amazon.com/image...   \n",
              "590070  [https://images-na.ssl-images-amazon.com/image...   \n",
              "\n",
              "                                                details_2  \\\n",
              "3                                                     NaN   \n",
              "4                                                     NaN   \n",
              "5                                                     NaN   \n",
              "6                                                     NaN   \n",
              "7                                                     NaN   \n",
              "...                                                   ...   \n",
              "590066                                                NaN   \n",
              "590067                           {'ASIN: ': 'B01HJGI3VK'}   \n",
              "590068                                                NaN   \n",
              "590069  {'ASIN: ': 'B01HJFFF1W', 'Item model number:':...   \n",
              "590070                                                NaN   \n",
              "\n",
              "                                             main_ranking main_ranking_2  \n",
              "3       >#6,368,825 in Cell Phones & Accessories (See ...        6368825  \n",
              "4       >#2,672,454 in Cell Phones & Accessories (See ...        2672454  \n",
              "5       >#2,997,672 in Cell Phones & Accessories (See ...        2997672  \n",
              "6       >#2,773,172 in Cell Phones & Accessories (See ...        2773172  \n",
              "7                                                     NaN            NaN  \n",
              "...                                                   ...            ...  \n",
              "590066  >#1,179,531 in Cell Phones & Accessories (See ...        1179531  \n",
              "590067             663,487 in Cell Phones & Accessories (         663487  \n",
              "590068  >#323,452 in Cell Phones & Accessories (See To...         323452  \n",
              "590069           1,662,046 in Cell Phones & Accessories (        1662046  \n",
              "590070  >#3,789,048 in Cell Phones & Accessories (See ...        3789048  \n",
              "\n",
              "[527543 rows x 16 columns]"
            ],
            "text/html": [
              "\n",
              "  <div id=\"df-aeb3655f-dc90-4a79-b091-ae25ddabce7a\">\n",
              "    <div class=\"colab-df-container\">\n",
              "      <div>\n",
              "<style scoped>\n",
              "    .dataframe tbody tr th:only-of-type {\n",
              "        vertical-align: middle;\n",
              "    }\n",
              "\n",
              "    .dataframe tbody tr th {\n",
              "        vertical-align: top;\n",
              "    }\n",
              "\n",
              "    .dataframe thead th {\n",
              "        text-align: right;\n",
              "    }\n",
              "</style>\n",
              "<table border=\"1\" class=\"dataframe\">\n",
              "  <thead>\n",
              "    <tr style=\"text-align: right;\">\n",
              "      <th></th>\n",
              "      <th>category</th>\n",
              "      <th>description</th>\n",
              "      <th>title</th>\n",
              "      <th>brand</th>\n",
              "      <th>feature</th>\n",
              "      <th>rank</th>\n",
              "      <th>details</th>\n",
              "      <th>main_cat</th>\n",
              "      <th>date</th>\n",
              "      <th>price</th>\n",
              "      <th>asin</th>\n",
              "      <th>imageURL</th>\n",
              "      <th>imageURLHighRes</th>\n",
              "      <th>details_2</th>\n",
              "      <th>main_ranking</th>\n",
              "      <th>main_ranking_2</th>\n",
              "    </tr>\n",
              "  </thead>\n",
              "  <tbody>\n",
              "    <tr>\n",
              "      <th>3</th>\n",
              "      <td>[Cell Phones &amp; Accessories, Cases, Holsters &amp; ...</td>\n",
              "      <td>[A brand-new, unused, unopened, undamaged item...</td>\n",
              "      <td>Puppies Faceplate Hard Case Protector for Net1...</td>\n",
              "      <td>Live2Pedal</td>\n",
              "      <td>[Protect your phone with style through this At...</td>\n",
              "      <td>[&gt;#6,368,825 in Cell Phones &amp; Accessories (See...</td>\n",
              "      <td>{}</td>\n",
              "      <td>Cell Phones &amp; Accessories</td>\n",
              "      <td></td>\n",
              "      <td></td>\n",
              "      <td>6786501710</td>\n",
              "      <td>[]</td>\n",
              "      <td>[]</td>\n",
              "      <td>NaN</td>\n",
              "      <td>&gt;#6,368,825 in Cell Phones &amp; Accessories (See ...</td>\n",
              "      <td>6368825</td>\n",
              "    </tr>\n",
              "    <tr>\n",
              "      <th>4</th>\n",
              "      <td>[Cell Phones &amp; Accessories, Cases, Holsters &amp; ...</td>\n",
              "      <td>[A brand-new, unused, unopened, undamaged item...</td>\n",
              "      <td>White Wolf Faceplate Protector Hard Case for S...</td>\n",
              "      <td>wirelessoutletusa</td>\n",
              "      <td>[Protect your phone with style through this At...</td>\n",
              "      <td>[&gt;#2,672,454 in Cell Phones &amp; Accessories (See...</td>\n",
              "      <td>{}</td>\n",
              "      <td>Cell Phones &amp; Accessories</td>\n",
              "      <td></td>\n",
              "      <td></td>\n",
              "      <td>6786501273</td>\n",
              "      <td>[]</td>\n",
              "      <td>[]</td>\n",
              "      <td>NaN</td>\n",
              "      <td>&gt;#2,672,454 in Cell Phones &amp; Accessories (See ...</td>\n",
              "      <td>2672454</td>\n",
              "    </tr>\n",
              "    <tr>\n",
              "      <th>5</th>\n",
              "      <td>[Cell Phones &amp; Accessories, Cases, Holsters &amp; ...</td>\n",
              "      <td>[A brand-new, unused, unopened, undamaged item...</td>\n",
              "      <td>Camo Duck Grass Rubberized Hard Case Phone Fac...</td>\n",
              "      <td>wirelessoutletusa</td>\n",
              "      <td>[Protect your phone with style through this At...</td>\n",
              "      <td>[&gt;#2,997,672 in Cell Phones &amp; Accessories (See...</td>\n",
              "      <td>{}</td>\n",
              "      <td>Cell Phones &amp; Accessories</td>\n",
              "      <td></td>\n",
              "      <td></td>\n",
              "      <td>6789300104</td>\n",
              "      <td>[]</td>\n",
              "      <td>[]</td>\n",
              "      <td>NaN</td>\n",
              "      <td>&gt;#2,997,672 in Cell Phones &amp; Accessories (See ...</td>\n",
              "      <td>2997672</td>\n",
              "    </tr>\n",
              "    <tr>\n",
              "      <th>6</th>\n",
              "      <td>[Cell Phones &amp; Accessories, Accessories, Acces...</td>\n",
              "      <td>[A brand-new, unused, unopened, undamaged item...</td>\n",
              "      <td>Camoflague Camo Usa Deer Combo Hybrid Hard Cas...</td>\n",
              "      <td>Samsung</td>\n",
              "      <td>[Protect your phone with style through this At...</td>\n",
              "      <td>[&gt;#2,773,172 in Cell Phones &amp; Accessories (See...</td>\n",
              "      <td>{}</td>\n",
              "      <td>Cell Phones &amp; Accessories</td>\n",
              "      <td></td>\n",
              "      <td></td>\n",
              "      <td>6786501052</td>\n",
              "      <td>[]</td>\n",
              "      <td>[]</td>\n",
              "      <td>NaN</td>\n",
              "      <td>&gt;#2,773,172 in Cell Phones &amp; Accessories (See ...</td>\n",
              "      <td>2773172</td>\n",
              "    </tr>\n",
              "    <tr>\n",
              "      <th>7</th>\n",
              "      <td>[]</td>\n",
              "      <td>[Product Description\\nThe best just got better...</td>\n",
              "      <td>Motorola H700 Black - Non-Retail Packaging</td>\n",
              "      <td>Motorola</td>\n",
              "      <td>[]</td>\n",
              "      <td>[]</td>\n",
              "      <td>{}</td>\n",
              "      <td>Cell Phones &amp; Accessories</td>\n",
              "      <td></td>\n",
              "      <td></td>\n",
              "      <td>7030131746</td>\n",
              "      <td>[]</td>\n",
              "      <td>[]</td>\n",
              "      <td>NaN</td>\n",
              "      <td>NaN</td>\n",
              "      <td>NaN</td>\n",
              "    </tr>\n",
              "    <tr>\n",
              "      <th>...</th>\n",
              "      <td>...</td>\n",
              "      <td>...</td>\n",
              "      <td>...</td>\n",
              "      <td>...</td>\n",
              "      <td>...</td>\n",
              "      <td>...</td>\n",
              "      <td>...</td>\n",
              "      <td>...</td>\n",
              "      <td>...</td>\n",
              "      <td>...</td>\n",
              "      <td>...</td>\n",
              "      <td>...</td>\n",
              "      <td>...</td>\n",
              "      <td>...</td>\n",
              "      <td>...</td>\n",
              "      <td>...</td>\n",
              "    </tr>\n",
              "    <tr>\n",
              "      <th>590066</th>\n",
              "      <td>[Cell Phones &amp; Accessories, Accessories, Repla...</td>\n",
              "      <td>[Compatible with:Motorola Moto G3 XT1552 G(201...</td>\n",
              "      <td>Full LCD Touch Screen Digitizer Assembly Repla...</td>\n",
              "      <td>hongkongruly</td>\n",
              "      <td>[Compatible with:Motorola Moto G3 XT1552 G(201...</td>\n",
              "      <td>[&gt;#1,179,531 in Cell Phones &amp; Accessories (See...</td>\n",
              "      <td>{}</td>\n",
              "      <td>Cell Phones &amp; Accessories</td>\n",
              "      <td></td>\n",
              "      <td></td>\n",
              "      <td>B01HJH76J4</td>\n",
              "      <td>[https://images-na.ssl-images-amazon.com/image...</td>\n",
              "      <td>[https://images-na.ssl-images-amazon.com/image...</td>\n",
              "      <td>NaN</td>\n",
              "      <td>&gt;#1,179,531 in Cell Phones &amp; Accessories (See ...</td>\n",
              "      <td>1179531</td>\n",
              "    </tr>\n",
              "    <tr>\n",
              "      <th>590067</th>\n",
              "      <td>[Cell Phones &amp; Accessories, Cases, Holsters &amp; ...</td>\n",
              "      <td>[]</td>\n",
              "      <td>Universal Sports Armband Casehigh Shop Easy Fi...</td>\n",
              "      <td>CaseHQ</td>\n",
              "      <td>[Universal Designed: Up to 5.7\" diagonal size....</td>\n",
              "      <td>663,487 in Cell Phones &amp; Accessories (</td>\n",
              "      <td>{'ASIN: ': 'B01HJGI3VK'}</td>\n",
              "      <td>Cell Phones &amp; Accessories</td>\n",
              "      <td></td>\n",
              "      <td>$0.01</td>\n",
              "      <td>B01HJGI3VK</td>\n",
              "      <td>[https://images-na.ssl-images-amazon.com/image...</td>\n",
              "      <td>[https://images-na.ssl-images-amazon.com/image...</td>\n",
              "      <td>{'ASIN: ': 'B01HJGI3VK'}</td>\n",
              "      <td>663,487 in Cell Phones &amp; Accessories (</td>\n",
              "      <td>663487</td>\n",
              "    </tr>\n",
              "    <tr>\n",
              "      <th>590068</th>\n",
              "      <td>[Cell Phones &amp; Accessories, Cases, Holsters &amp; ...</td>\n",
              "      <td>[&lt;b&gt;Brand Aim of LoHi:&lt;/b&gt; &lt;br /&gt; LoHi is dedi...</td>\n",
              "      <td>iPhone 6 Plus Case, LoHi iPhone 6s Plus Case [...</td>\n",
              "      <td>LoHi</td>\n",
              "      <td>[UNIQUE DESIGNED for Apple iPhone 6/6s Plus 5....</td>\n",
              "      <td>[&gt;#323,452 in Cell Phones &amp; Accessories (See T...</td>\n",
              "      <td>{}</td>\n",
              "      <td>Cell Phones &amp; Accessories</td>\n",
              "      <td></td>\n",
              "      <td></td>\n",
              "      <td>B01HJH9IN6</td>\n",
              "      <td>[https://images-na.ssl-images-amazon.com/image...</td>\n",
              "      <td>[https://images-na.ssl-images-amazon.com/image...</td>\n",
              "      <td>NaN</td>\n",
              "      <td>&gt;#323,452 in Cell Phones &amp; Accessories (See To...</td>\n",
              "      <td>323452</td>\n",
              "    </tr>\n",
              "    <tr>\n",
              "      <th>590069</th>\n",
              "      <td>[Cell Phones &amp; Accessories, Cases, Holsters &amp; ...</td>\n",
              "      <td>[]</td>\n",
              "      <td>Universal Sports Armband Casehigh Shop Easy Fi...</td>\n",
              "      <td>CaseHQ</td>\n",
              "      <td>[Universal Designed: Up to 5.7\" diagonal size....</td>\n",
              "      <td>1,662,046 in Cell Phones &amp; Accessories (</td>\n",
              "      <td>{'ASIN: ': 'B01HJFFF1W', 'Item model number:':...</td>\n",
              "      <td>Cell Phones &amp; Accessories</td>\n",
              "      <td></td>\n",
              "      <td>$3.99</td>\n",
              "      <td>B01HJFFF1W</td>\n",
              "      <td>[https://images-na.ssl-images-amazon.com/image...</td>\n",
              "      <td>[https://images-na.ssl-images-amazon.com/image...</td>\n",
              "      <td>{'ASIN: ': 'B01HJFFF1W', 'Item model number:':...</td>\n",
              "      <td>1,662,046 in Cell Phones &amp; Accessories (</td>\n",
              "      <td>1662046</td>\n",
              "    </tr>\n",
              "    <tr>\n",
              "      <th>590070</th>\n",
              "      <td>[Cell Phones &amp; Accessories, Cases, Holsters &amp; ...</td>\n",
              "      <td>[]</td>\n",
              "      <td>Case For Samsung Galaxy S7 Edge, CoverProof Ti...</td>\n",
              "      <td>CoverProof</td>\n",
              "      <td>[]</td>\n",
              "      <td>[&gt;#3,789,048 in Cell Phones &amp; Accessories (See...</td>\n",
              "      <td>{}</td>\n",
              "      <td>Cell Phones &amp; Accessories</td>\n",
              "      <td></td>\n",
              "      <td></td>\n",
              "      <td>B01HJHMQXU</td>\n",
              "      <td>[https://images-na.ssl-images-amazon.com/image...</td>\n",
              "      <td>[https://images-na.ssl-images-amazon.com/image...</td>\n",
              "      <td>NaN</td>\n",
              "      <td>&gt;#3,789,048 in Cell Phones &amp; Accessories (See ...</td>\n",
              "      <td>3789048</td>\n",
              "    </tr>\n",
              "  </tbody>\n",
              "</table>\n",
              "<p>527543 rows × 16 columns</p>\n",
              "</div>\n",
              "      <button class=\"colab-df-convert\" onclick=\"convertToInteractive('df-aeb3655f-dc90-4a79-b091-ae25ddabce7a')\"\n",
              "              title=\"Convert this dataframe to an interactive table.\"\n",
              "              style=\"display:none;\">\n",
              "        \n",
              "  <svg xmlns=\"http://www.w3.org/2000/svg\" height=\"24px\"viewBox=\"0 0 24 24\"\n",
              "       width=\"24px\">\n",
              "    <path d=\"M0 0h24v24H0V0z\" fill=\"none\"/>\n",
              "    <path d=\"M18.56 5.44l.94 2.06.94-2.06 2.06-.94-2.06-.94-.94-2.06-.94 2.06-2.06.94zm-11 1L8.5 8.5l.94-2.06 2.06-.94-2.06-.94L8.5 2.5l-.94 2.06-2.06.94zm10 10l.94 2.06.94-2.06 2.06-.94-2.06-.94-.94-2.06-.94 2.06-2.06.94z\"/><path d=\"M17.41 7.96l-1.37-1.37c-.4-.4-.92-.59-1.43-.59-.52 0-1.04.2-1.43.59L10.3 9.45l-7.72 7.72c-.78.78-.78 2.05 0 2.83L4 21.41c.39.39.9.59 1.41.59.51 0 1.02-.2 1.41-.59l7.78-7.78 2.81-2.81c.8-.78.8-2.07 0-2.86zM5.41 20L4 18.59l7.72-7.72 1.47 1.35L5.41 20z\"/>\n",
              "  </svg>\n",
              "      </button>\n",
              "      \n",
              "  <style>\n",
              "    .colab-df-container {\n",
              "      display:flex;\n",
              "      flex-wrap:wrap;\n",
              "      gap: 12px;\n",
              "    }\n",
              "\n",
              "    .colab-df-convert {\n",
              "      background-color: #E8F0FE;\n",
              "      border: none;\n",
              "      border-radius: 50%;\n",
              "      cursor: pointer;\n",
              "      display: none;\n",
              "      fill: #1967D2;\n",
              "      height: 32px;\n",
              "      padding: 0 0 0 0;\n",
              "      width: 32px;\n",
              "    }\n",
              "\n",
              "    .colab-df-convert:hover {\n",
              "      background-color: #E2EBFA;\n",
              "      box-shadow: 0px 1px 2px rgba(60, 64, 67, 0.3), 0px 1px 3px 1px rgba(60, 64, 67, 0.15);\n",
              "      fill: #174EA6;\n",
              "    }\n",
              "\n",
              "    [theme=dark] .colab-df-convert {\n",
              "      background-color: #3B4455;\n",
              "      fill: #D2E3FC;\n",
              "    }\n",
              "\n",
              "    [theme=dark] .colab-df-convert:hover {\n",
              "      background-color: #434B5C;\n",
              "      box-shadow: 0px 1px 3px 1px rgba(0, 0, 0, 0.15);\n",
              "      filter: drop-shadow(0px 1px 2px rgba(0, 0, 0, 0.3));\n",
              "      fill: #FFFFFF;\n",
              "    }\n",
              "  </style>\n",
              "\n",
              "      <script>\n",
              "        const buttonEl =\n",
              "          document.querySelector('#df-aeb3655f-dc90-4a79-b091-ae25ddabce7a button.colab-df-convert');\n",
              "        buttonEl.style.display =\n",
              "          google.colab.kernel.accessAllowed ? 'block' : 'none';\n",
              "\n",
              "        async function convertToInteractive(key) {\n",
              "          const element = document.querySelector('#df-aeb3655f-dc90-4a79-b091-ae25ddabce7a');\n",
              "          const dataTable =\n",
              "            await google.colab.kernel.invokeFunction('convertToInteractive',\n",
              "                                                     [key], {});\n",
              "          if (!dataTable) return;\n",
              "\n",
              "          const docLinkHtml = 'Like what you see? Visit the ' +\n",
              "            '<a target=\"_blank\" href=https://colab.research.google.com/notebooks/data_table.ipynb>data table notebook</a>'\n",
              "            + ' to learn more about interactive tables.';\n",
              "          element.innerHTML = '';\n",
              "          dataTable['output_type'] = 'display_data';\n",
              "          await google.colab.output.renderOutput(dataTable, element);\n",
              "          const docLink = document.createElement('div');\n",
              "          docLink.innerHTML = docLinkHtml;\n",
              "          element.appendChild(docLink);\n",
              "        }\n",
              "      </script>\n",
              "    </div>\n",
              "  </div>\n",
              "  "
            ]
          },
          "metadata": {},
          "execution_count": 181
        }
      ]
    },
    {
      "cell_type": "code",
      "source": [
        "df_2.main_cat.unique()"
      ],
      "metadata": {
        "colab": {
          "base_uri": "https://localhost:8080/"
        },
        "id": "9HSJGh8AOQ8s",
        "outputId": "6347d0d3-15b0-4484-d5de-ad00427c183a"
      },
      "execution_count": null,
      "outputs": [
        {
          "output_type": "execute_result",
          "data": {
            "text/plain": [
              "array(['Cell Phones & Accessories'], dtype=object)"
            ]
          },
          "metadata": {},
          "execution_count": 171
        }
      ]
    },
    {
      "cell_type": "code",
      "source": [
        "tmp = 'q,2,4,5,6,7,8,9'\n",
        "tmp.replace(',','')"
      ],
      "metadata": {
        "colab": {
          "base_uri": "https://localhost:8080/",
          "height": 36
        },
        "id": "gS54XYLwA2a3",
        "outputId": "1114caf0-5a31-43f0-bd25-01d266a05982"
      },
      "execution_count": null,
      "outputs": [
        {
          "output_type": "execute_result",
          "data": {
            "text/plain": [
              "'q2456789'"
            ],
            "application/vnd.google.colaboratory.intrinsic+json": {
              "type": "string"
            }
          },
          "metadata": {},
          "execution_count": 98
        }
      ]
    },
    {
      "cell_type": "code",
      "source": [
        "def clean_ranking(x):\n",
        "  try:\n",
        "    x = x.replace('>#','')\n",
        "    b = x.split()\n",
        "    return b[0].replace(',','')\n",
        "  except:\n",
        "    return x"
      ],
      "metadata": {
        "id": "947PnGes-W9P"
      },
      "execution_count": null,
      "outputs": []
    },
    {
      "cell_type": "code",
      "source": [
        "df_2['main_ranking_2'] = df_2['main_ranking'].map(clean_ranking)"
      ],
      "metadata": {
        "id": "gtawJtUCDRhS"
      },
      "execution_count": null,
      "outputs": []
    },
    {
      "cell_type": "code",
      "source": [
        "df_3 = df_2[df_2.main_ranking_2.notna()]"
      ],
      "metadata": {
        "id": "Fgwf3R_hEbl9"
      },
      "execution_count": null,
      "outputs": []
    },
    {
      "cell_type": "code",
      "source": [
        "df_3['main_ranking_2'] = df_3['main_ranking_2'].astype('int64',errors='ignore')"
      ],
      "metadata": {
        "colab": {
          "base_uri": "https://localhost:8080/"
        },
        "id": "tVrmm9SwHTrz",
        "outputId": "f416ec30-6dcb-4490-b875-4f5c47889de3"
      },
      "execution_count": null,
      "outputs": [
        {
          "output_type": "stream",
          "name": "stderr",
          "text": [
            "/usr/local/lib/python3.7/dist-packages/ipykernel_launcher.py:1: SettingWithCopyWarning: \n",
            "A value is trying to be set on a copy of a slice from a DataFrame.\n",
            "Try using .loc[row_indexer,col_indexer] = value instead\n",
            "\n",
            "See the caveats in the documentation: https://pandas.pydata.org/pandas-docs/stable/user_guide/indexing.html#returning-a-view-versus-a-copy\n",
            "  \"\"\"Entry point for launching an IPython kernel.\n"
          ]
        }
      ]
    },
    {
      "cell_type": "code",
      "source": [
        "df_3['main_ranking_3'] = df_3['main_ranking_2'].map(lambda x: clean_ranking(x[0]) if type(x) == list else x)  #.map(lambda x: print(x) if not str(x).isnumeric() else np.nan)"
      ],
      "metadata": {
        "colab": {
          "base_uri": "https://localhost:8080/"
        },
        "id": "1Un4N5rXIuWX",
        "outputId": "84e228c4-7412-4cda-be14-b23c9e6b14eb"
      },
      "execution_count": null,
      "outputs": [
        {
          "output_type": "stream",
          "name": "stderr",
          "text": [
            "/usr/local/lib/python3.7/dist-packages/ipykernel_launcher.py:1: SettingWithCopyWarning: \n",
            "A value is trying to be set on a copy of a slice from a DataFrame.\n",
            "Try using .loc[row_indexer,col_indexer] = value instead\n",
            "\n",
            "See the caveats in the documentation: https://pandas.pydata.org/pandas-docs/stable/user_guide/indexing.html#returning-a-view-versus-a-copy\n",
            "  \"\"\"Entry point for launching an IPython kernel.\n"
          ]
        }
      ]
    },
    {
      "cell_type": "code",
      "source": [
        "df_3['main_ranking_3'] =  df_3['main_ranking_3'].astype('int64')"
      ],
      "metadata": {
        "colab": {
          "base_uri": "https://localhost:8080/"
        },
        "id": "GHo-eCdJNMyX",
        "outputId": "1cd5b922-774d-4102-c580-f0d25d99ecc1"
      },
      "execution_count": null,
      "outputs": [
        {
          "output_type": "stream",
          "name": "stderr",
          "text": [
            "/usr/local/lib/python3.7/dist-packages/ipykernel_launcher.py:1: SettingWithCopyWarning: \n",
            "A value is trying to be set on a copy of a slice from a DataFrame.\n",
            "Try using .loc[row_indexer,col_indexer] = value instead\n",
            "\n",
            "See the caveats in the documentation: https://pandas.pydata.org/pandas-docs/stable/user_guide/indexing.html#returning-a-view-versus-a-copy\n",
            "  \"\"\"Entry point for launching an IPython kernel.\n"
          ]
        }
      ]
    },
    {
      "cell_type": "code",
      "source": [
        "import matplotlib.pyplot as plt"
      ],
      "metadata": {
        "id": "NYQwO4xGeHGw"
      },
      "execution_count": null,
      "outputs": []
    },
    {
      "cell_type": "code",
      "source": [
        "df_3[df_3.main_ranking_3 <100_000].info()"
      ],
      "metadata": {
        "id": "lck9SuPpdLIX",
        "outputId": "8daf74bc-f6fa-4cc5-a6f6-f8f090053752",
        "colab": {
          "base_uri": "https://localhost:8080/"
        }
      },
      "execution_count": null,
      "outputs": [
        {
          "output_type": "stream",
          "name": "stdout",
          "text": [
            "<class 'pandas.core.frame.DataFrame'>\n",
            "Int64Index: 10422 entries, 211 to 590044\n",
            "Data columns (total 18 columns):\n",
            " #   Column           Non-Null Count  Dtype \n",
            "---  ------           --------------  ----- \n",
            " 0   category         10422 non-null  object\n",
            " 1   description      10422 non-null  object\n",
            " 2   title            10422 non-null  object\n",
            " 3   brand            10422 non-null  object\n",
            " 4   feature          10422 non-null  object\n",
            " 5   rank             10422 non-null  object\n",
            " 6   details          10422 non-null  object\n",
            " 7   main_cat         10422 non-null  object\n",
            " 8   date             10422 non-null  object\n",
            " 9   price            10422 non-null  object\n",
            " 10  asin             10422 non-null  object\n",
            " 11  imageURL         10422 non-null  object\n",
            " 12  imageURLHighRes  10422 non-null  object\n",
            " 13  details_2        78 non-null     object\n",
            " 14  main_ranking     10422 non-null  object\n",
            " 15  main_ranking_2   10422 non-null  object\n",
            " 16  main_ranking_3   10422 non-null  int64 \n",
            " 17  numb_rankings    10422 non-null  int64 \n",
            "dtypes: int64(2), object(16)\n",
            "memory usage: 1.5+ MB\n"
          ]
        }
      ]
    },
    {
      "cell_type": "code",
      "source": [
        "df_3['numb_rankings'] = df_3['rank'].map(lambda x:len(x) if type(x) ==list else 1)"
      ],
      "metadata": {
        "id": "0lZWAugfXeVv",
        "outputId": "ba230e7e-27e2-4be8-b067-fca44618c359",
        "colab": {
          "base_uri": "https://localhost:8080/"
        }
      },
      "execution_count": null,
      "outputs": [
        {
          "output_type": "stream",
          "name": "stderr",
          "text": [
            "/usr/local/lib/python3.7/dist-packages/ipykernel_launcher.py:1: SettingWithCopyWarning: \n",
            "A value is trying to be set on a copy of a slice from a DataFrame.\n",
            "Try using .loc[row_indexer,col_indexer] = value instead\n",
            "\n",
            "See the caveats in the documentation: https://pandas.pydata.org/pandas-docs/stable/user_guide/indexing.html#returning-a-view-versus-a-copy\n",
            "  \"\"\"Entry point for launching an IPython kernel.\n"
          ]
        }
      ]
    },
    {
      "cell_type": "code",
      "source": [
        "107895\n",
        "10422"
      ],
      "metadata": {
        "id": "G8zQXJVLj6_m"
      },
      "execution_count": null,
      "outputs": []
    },
    {
      "cell_type": "code",
      "source": [
        "df_3.main_ranking_3.mean()"
      ],
      "metadata": {
        "id": "a_jEb_K2gWfz",
        "outputId": "d2fef6e5-004b-4aee-ade8-382bdd4764ab",
        "colab": {
          "base_uri": "https://localhost:8080/"
        }
      },
      "execution_count": null,
      "outputs": [
        {
          "output_type": "execute_result",
          "data": {
            "text/plain": [
              "2484752.292394108"
            ]
          },
          "metadata": {},
          "execution_count": 210
        }
      ]
    },
    {
      "cell_type": "code",
      "metadata": {
        "id": "LgWrDtZ94w89",
        "colab": {
          "base_uri": "https://localhost:8080/",
          "height": 51
        },
        "outputId": "7e22e4ab-1622-4452-ce81-54e85ef92522"
      },
      "source": [
        "### remove rows with unformatted title (i.e. some 'title' may still contain html style content)\n",
        "\n",
        "df3 = df.fillna('')\n",
        "df4 = df3[df3.title.str.contains('getTime')] # unformatted rows\n",
        "df5 = df3[~df3.title.str.contains('getTime')] # filter those unformatted rows\n",
        "print(len(df4))\n",
        "print(len(df5))"
      ],
      "execution_count": null,
      "outputs": [
        {
          "output_type": "stream",
          "text": [
            "135\n",
            "18637\n"
          ],
          "name": "stdout"
        }
      ]
    },
    {
      "cell_type": "code",
      "metadata": {
        "id": "7Vq32rQd5D9W",
        "colab": {
          "base_uri": "https://localhost:8080/",
          "height": 306
        },
        "outputId": "2965e85b-d993-4520-a992-d42e0cec3f01"
      },
      "source": [
        "# how those unformatted rows look like\n",
        "df4.iloc[0]"
      ],
      "execution_count": null,
      "outputs": [
        {
          "output_type": "execute_result",
          "data": {
            "text/plain": [
              "description                                                      \n",
              "title           var aPageStart = (new Date()).getTime();\\nvar ...\n",
              "image                                                            \n",
              "brand                                              DS Miller Inc.\n",
              "rank            [>#1,826,312 in Electronics (See Top 100 in El...\n",
              "main_cat                                                Computers\n",
              "date                                                March 1, 2010\n",
              "asin                                                   B0016C5EXY\n",
              "feature                                                          \n",
              "tech1                                                            \n",
              "also_buy                                                         \n",
              "price                                                            \n",
              "also_view                                                        \n",
              "tech2                                                            \n",
              "details                                                          \n",
              "similar_item                                                     \n",
              "Name: 1186, dtype: object"
            ]
          },
          "metadata": {
            "tags": []
          },
          "execution_count": 7
        }
      ]
    },
    {
      "cell_type": "code",
      "metadata": {
        "id": "6LBLzsFU5LJ_"
      },
      "source": [
        ""
      ],
      "execution_count": null,
      "outputs": []
    },
    {
      "cell_type": "code",
      "metadata": {
        "id": "WqZcdGp-5cui"
      },
      "source": [
        ""
      ],
      "execution_count": null,
      "outputs": []
    }
  ]
}