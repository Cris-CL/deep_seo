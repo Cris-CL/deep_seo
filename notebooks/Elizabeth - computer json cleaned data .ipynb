{
 "cells": [
  {
   "cell_type": "markdown",
   "id": "94b9db0d",
   "metadata": {
    "heading_collapsed": true
   },
   "source": [
    "## Amazon data "
   ]
  },
  {
   "cell_type": "code",
   "execution_count": 1,
   "id": "8343a56f",
   "metadata": {
    "hidden": true
   },
   "outputs": [],
   "source": [
    "import os\n",
    "import json\n",
    "import gzip\n",
    "import pandas as pd\n",
    "from urllib.request import urlopen\n",
    "\n",
    "from sklearn.linear_model import LinearRegression\n",
    "from sklearn.model_selection import train_test_split\n"
   ]
  },
  {
   "cell_type": "code",
   "execution_count": 2,
   "id": "1f679af8",
   "metadata": {
    "hidden": true
   },
   "outputs": [
    {
     "name": "stdout",
     "output_type": "stream",
     "text": [
      "--2022-05-24 09:18:23--  http://deepyeti.ucsd.edu/jianmo/amazon/sample/meta_Computers.json.gz\n",
      "Resolving deepyeti.ucsd.edu (deepyeti.ucsd.edu)... 169.228.63.50\n",
      "Connecting to deepyeti.ucsd.edu (deepyeti.ucsd.edu)|169.228.63.50|:80... connected.\n",
      "HTTP request sent, awaiting response... 200 OK\n",
      "Length: 7010521 (6.7M) [application/octet-stream]\n",
      "Saving to: ‘meta_Computers.json.gz’\n",
      "\n",
      "meta_Computers.json 100%[===================>]   6.69M  4.09MB/s    in 1.6s    \n",
      "\n",
      "2022-05-24 09:18:25 (4.09 MB/s) - ‘meta_Computers.json.gz’ saved [7010521/7010521]\n",
      "\n"
     ]
    }
   ],
   "source": [
    "!wget http://deepyeti.ucsd.edu/jianmo/amazon/sample/meta_Computers.json.gz"
   ]
  },
  {
   "cell_type": "code",
   "execution_count": 3,
   "id": "c59291d0",
   "metadata": {
    "hidden": true
   },
   "outputs": [
    {
     "name": "stdout",
     "output_type": "stream",
     "text": [
      "18772\n",
      "{'description': ['Brand new. Still in factory-sealed plastic.'], 'title': 'Kelby Training DVD: The Adobe Photoshop CS5 7-Point System for Camera Raw By Scott Kelby', 'image': ['https://images-na.ssl-images-amazon.com/images/I/31IlLImCVJL._SS40_.jpg'], 'brand': 'Kelby Training', 'rank': ['>#654,681 in Electronics (See Top 100 in Electronics)'], 'main_cat': 'Computers', 'date': 'December 2, 2011', 'asin': '0321732960'}\n"
     ]
    }
   ],
   "source": [
    "### load the meta data\n",
    "\n",
    "data = []\n",
    "with gzip.open('meta_Computers.json.gz') as f:\n",
    "    for l in f:\n",
    "        data.append(json.loads(l.strip()))\n",
    "    \n",
    "# total length of list, this number equals total number of products\n",
    "print(len(data))\n",
    "\n",
    "# first row of the list\n",
    "print(data[0])"
   ]
  },
  {
   "cell_type": "code",
   "execution_count": 5,
   "id": "64f2aa25",
   "metadata": {
    "hidden": true
   },
   "outputs": [],
   "source": [
    "# convert list into pandas dataframe\n",
    "df = pd.DataFrame.from_dict(data)\n",
    "def list_to_pd_dataframe(df):\n",
    "#     df = pd.DataFrame.from_dict(data)\n",
    "    df3 = df.fillna('')\n",
    "    df5 = df3[~df3.title.str.contains('getTime')] # filter those unformatted rows\n",
    "    return df5\n",
    "\n",
    "df5=list_to_pd_dataframe(df)"
   ]
  },
  {
   "cell_type": "code",
   "execution_count": 6,
   "id": "cc4dcba8",
   "metadata": {
    "hidden": true
   },
   "outputs": [
    {
     "name": "stderr",
     "output_type": "stream",
     "text": [
      "/var/folders/2b/8swfrzvj1b10sb2dt02_4g6c0000gn/T/ipykernel_4089/1997018992.py:16: SettingWithCopyWarning: \n",
      "A value is trying to be set on a copy of a slice from a DataFrame.\n",
      "Try using .loc[row_indexer,col_indexer] = value instead\n",
      "\n",
      "See the caveats in the documentation: https://pandas.pydata.org/pandas-docs/stable/user_guide/indexing.html#returning-a-view-versus-a-copy\n",
      "  df6[\"rank1\"]=df6[\"rank1\"].astype(\"int64\")\n"
     ]
    }
   ],
   "source": [
    "def cleandata(df5):\n",
    "    df5.description=df5.description.map(lambda x: str(x))\n",
    "    df5.description=df5.description.str.strip(\"[]'\")\n",
    "    df5.drop(columns=['feature', 'tech1', 'also_buy', 'price', 'also_view', 'tech2','details', 'similar_item',\"main_cat\"],inplace=True)\n",
    "    df5['brand_cat']=df5.brand.map(lambda x : 0 if len(x) <1 else 1)\n",
    "    df5['rank1']=df5['rank'].map(lambda x: str(x).strip(\"[]'\"))\n",
    "    df5[\"rank1\"]=df5[\"rank1\"].map(lambda x: str(x))\n",
    "    df5[\"rank1\"]=df5[\"rank1\"].str.replace(pat='>#',repl='', regex=False)\n",
    "    df5[\"rank1\"]=df5[\"rank1\"].map(lambda x: x.replace(\",\",\"\"))\n",
    "    df5[\"rank1\"]=df5[\"rank1\"].map(lambda x: x.split(\"in\"))\n",
    "    df5[\"rank1\"] = df5[\"rank1\"].map(lambda x: x[0])\n",
    "    df5[\"title_count\"] = df5[\"title\"].map(lambda x: len(x))\n",
    "    df5[\"desc_count\"] = df5[\"description\"].map(lambda x: len(x))\n",
    "    df5[\"img_count\"] = df5[\"image\"].map(lambda x: len(x))\n",
    "    df6=df5[df5[\"rank1\"]!='']\n",
    "    df6[\"rank1\"]=df6[\"rank1\"].astype(\"int64\")\n",
    "    return df6\n",
    "\n",
    "df6=cleandata(df5)\n",
    "    "
   ]
  },
  {
   "cell_type": "code",
   "execution_count": 7,
   "id": "ec232ffa",
   "metadata": {
    "hidden": true
   },
   "outputs": [],
   "source": [
    "X = df6[[\"brand_cat\",\"title_count\",\"desc_count\",\"img_count\"]]\n",
    "y=df6[\"rank1\"]\n",
    "         \n",
    "         \n",
    "X_train,X_test,y_train,y_test = train_test_split(X,y,test_size=0.3)\n",
    "X_train.shape,X_test.shape\n",
    "\n",
    "model = LinearRegression().fit(X_train, y_train)"
   ]
  },
  {
   "cell_type": "markdown",
   "id": "a5ef7c22",
   "metadata": {},
   "source": [
    "## Clean Data"
   ]
  },
  {
   "cell_type": "code",
   "execution_count": 10,
   "id": "140d0e4e",
   "metadata": {
    "scrolled": true
   },
   "outputs": [
    {
     "data": {
      "text/html": [
       "<div>\n",
       "<style scoped>\n",
       "    .dataframe tbody tr th:only-of-type {\n",
       "        vertical-align: middle;\n",
       "    }\n",
       "\n",
       "    .dataframe tbody tr th {\n",
       "        vertical-align: top;\n",
       "    }\n",
       "\n",
       "    .dataframe thead th {\n",
       "        text-align: right;\n",
       "    }\n",
       "</style>\n",
       "<table border=\"1\" class=\"dataframe\">\n",
       "  <thead>\n",
       "    <tr style=\"text-align: right;\">\n",
       "      <th></th>\n",
       "      <th>brand_cat</th>\n",
       "      <th>rank1</th>\n",
       "      <th>title_count</th>\n",
       "      <th>desc_count</th>\n",
       "      <th>img_count</th>\n",
       "    </tr>\n",
       "  </thead>\n",
       "  <tbody>\n",
       "    <tr>\n",
       "      <th>count</th>\n",
       "      <td>17952.000000</td>\n",
       "      <td>1.795200e+04</td>\n",
       "      <td>17952.000000</td>\n",
       "      <td>17952.000000</td>\n",
       "      <td>17952.000000</td>\n",
       "    </tr>\n",
       "    <tr>\n",
       "      <th>mean</th>\n",
       "      <td>0.974265</td>\n",
       "      <td>5.929752e+05</td>\n",
       "      <td>112.436776</td>\n",
       "      <td>129.966633</td>\n",
       "      <td>2.968861</td>\n",
       "    </tr>\n",
       "    <tr>\n",
       "      <th>std</th>\n",
       "      <td>0.158349</td>\n",
       "      <td>4.912246e+05</td>\n",
       "      <td>71.242360</td>\n",
       "      <td>350.335807</td>\n",
       "      <td>2.374704</td>\n",
       "    </tr>\n",
       "    <tr>\n",
       "      <th>min</th>\n",
       "      <td>0.000000</td>\n",
       "      <td>5.400000e+01</td>\n",
       "      <td>0.000000</td>\n",
       "      <td>0.000000</td>\n",
       "      <td>0.000000</td>\n",
       "    </tr>\n",
       "    <tr>\n",
       "      <th>25%</th>\n",
       "      <td>1.000000</td>\n",
       "      <td>2.017250e+05</td>\n",
       "      <td>69.000000</td>\n",
       "      <td>0.000000</td>\n",
       "      <td>1.000000</td>\n",
       "    </tr>\n",
       "    <tr>\n",
       "      <th>50%</th>\n",
       "      <td>1.000000</td>\n",
       "      <td>4.733595e+05</td>\n",
       "      <td>97.000000</td>\n",
       "      <td>0.000000</td>\n",
       "      <td>3.000000</td>\n",
       "    </tr>\n",
       "    <tr>\n",
       "      <th>75%</th>\n",
       "      <td>1.000000</td>\n",
       "      <td>8.484675e+05</td>\n",
       "      <td>144.000000</td>\n",
       "      <td>9.000000</td>\n",
       "      <td>5.000000</td>\n",
       "    </tr>\n",
       "    <tr>\n",
       "      <th>max</th>\n",
       "      <td>1.000000</td>\n",
       "      <td>9.464714e+06</td>\n",
       "      <td>2000.000000</td>\n",
       "      <td>5146.000000</td>\n",
       "      <td>46.000000</td>\n",
       "    </tr>\n",
       "  </tbody>\n",
       "</table>\n",
       "</div>"
      ],
      "text/plain": [
       "          brand_cat         rank1   title_count    desc_count     img_count\n",
       "count  17952.000000  1.795200e+04  17952.000000  17952.000000  17952.000000\n",
       "mean       0.974265  5.929752e+05    112.436776    129.966633      2.968861\n",
       "std        0.158349  4.912246e+05     71.242360    350.335807      2.374704\n",
       "min        0.000000  5.400000e+01      0.000000      0.000000      0.000000\n",
       "25%        1.000000  2.017250e+05     69.000000      0.000000      1.000000\n",
       "50%        1.000000  4.733595e+05     97.000000      0.000000      3.000000\n",
       "75%        1.000000  8.484675e+05    144.000000      9.000000      5.000000\n",
       "max        1.000000  9.464714e+06   2000.000000   5146.000000     46.000000"
      ]
     },
     "execution_count": 10,
     "metadata": {},
     "output_type": "execute_result"
    }
   ],
   "source": [
    "df6.describe()"
   ]
  },
  {
   "cell_type": "markdown",
   "id": "7e28d6a5",
   "metadata": {},
   "source": [
    "## Using SVM Model"
   ]
  },
  {
   "cell_type": "code",
   "execution_count": 22,
   "id": "89b097ff",
   "metadata": {},
   "outputs": [],
   "source": [
    "from sklearn.svm import SVC"
   ]
  },
  {
   "cell_type": "code",
   "execution_count": 24,
   "id": "ef1827a1",
   "metadata": {
    "scrolled": true
   },
   "outputs": [
    {
     "name": "stdout",
     "output_type": "stream",
     "text": [
      "473359.5\n"
     ]
    },
    {
     "name": "stderr",
     "output_type": "stream",
     "text": [
      "/var/folders/2b/8swfrzvj1b10sb2dt02_4g6c0000gn/T/ipykernel_4089/2184509520.py:2: SettingWithCopyWarning: \n",
      "A value is trying to be set on a copy of a slice from a DataFrame.\n",
      "Try using .loc[row_indexer,col_indexer] = value instead\n",
      "\n",
      "See the caveats in the documentation: https://pandas.pydata.org/pandas-docs/stable/user_guide/indexing.html#returning-a-view-versus-a-copy\n",
      "  df6[\"rank_cat\"]=df6[\"rank1\"].map(lambda x: 1 if x<473359 else 0)\n"
     ]
    }
   ],
   "source": [
    "print(df6.rank1.median())\n",
    "df6[\"rank_cat\"]=df6[\"rank1\"].map(lambda x: 1 if x<473359 else 0)"
   ]
  },
  {
   "cell_type": "code",
   "execution_count": null,
   "id": "6e23719d",
   "metadata": {},
   "outputs": [],
   "source": [
    "X = df6[[\"brand_cat\",\"title_count\",\"desc_count\",\"img_count\"]]\n",
    "y=df6[\"rank_cat\"]\n",
    "\n",
    "X_train,X_test,y_train,y_test=train_test_split(X,y, test_size=0.3)\n",
    "\n",
    "svc=SVC(kernel=\"linear\",C=10)\n",
    "model=svc.fit(X_train,y_train)\n",
    "model.score(X_test,y_test)"
   ]
  },
  {
   "cell_type": "markdown",
   "id": "10e353ed",
   "metadata": {},
   "source": [
    "## SVM Regressors"
   ]
  },
  {
   "cell_type": "code",
   "execution_count": null,
   "id": "91ea496d",
   "metadata": {},
   "outputs": [],
   "source": []
  }
 ],
 "metadata": {
  "kernelspec": {
   "display_name": "Python 3 (ipykernel)",
   "language": "python",
   "name": "python3"
  },
  "language_info": {
   "codemirror_mode": {
    "name": "ipython",
    "version": 3
   },
   "file_extension": ".py",
   "mimetype": "text/x-python",
   "name": "python",
   "nbconvert_exporter": "python",
   "pygments_lexer": "ipython3",
   "version": "3.8.12"
  },
  "toc": {
   "base_numbering": 1,
   "nav_menu": {},
   "number_sections": true,
   "sideBar": true,
   "skip_h1_title": false,
   "title_cell": "Table of Contents",
   "title_sidebar": "Contents",
   "toc_cell": false,
   "toc_position": {},
   "toc_section_display": true,
   "toc_window_display": false
  }
 },
 "nbformat": 4,
 "nbformat_minor": 5
}
